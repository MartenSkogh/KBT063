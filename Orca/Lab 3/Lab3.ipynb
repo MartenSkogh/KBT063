{
 "metadata": {
  "language_info": {
   "codemirror_mode": {
    "name": "ipython",
    "version": 3
   },
   "file_extension": ".py",
   "mimetype": "text/x-python",
   "name": "python",
   "nbconvert_exporter": "python",
   "pygments_lexer": "ipython3",
   "version": "3.9.0-final"
  },
  "orig_nbformat": 2,
  "kernelspec": {
   "name": "python39064bitdaaff2096a7b4510bbb92f48874e3962",
   "display_name": "Python 3.9.0 64-bit"
  }
 },
 "nbformat": 4,
 "nbformat_minor": 2,
 "cells": [
  {
   "cell_type": "code",
   "execution_count": 1,
   "metadata": {},
   "outputs": [],
   "source": [
    "import os\n",
    "import time\n",
    "import subprocess\n",
    "import glob\n",
    "from pprint import pprint\n",
    "import numpy as np\n",
    "from numpy.linalg import norm\n",
    "import itertools \n",
    "import re\n",
    "import pandas as pd\n",
    "import shutil\n",
    "\n",
    "root_dir = os.getcwd() + '\\..'\n",
    "sys.path.append(root_dir)\n",
    "\n",
    "from orca_wrapper import run_orca, parse_orca_output, default_search_terms, get_imaginary_modes\n",
    "\n",
    "os.chdir('Orca_Calculations/')"
   ]
  },
  {
   "cell_type": "code",
   "execution_count": 2,
   "metadata": {},
   "outputs": [
    {
     "output_type": "execute_result",
     "data": {
      "text/plain": [
       "['Step1\\\\Br-.gbw',\n",
       " 'Step1\\\\Br-.hess',\n",
       " 'Step1\\\\Br-.out',\n",
       " 'Step1\\\\Br-.prop',\n",
       " 'Step1\\\\Br-_property.txt',\n",
       " 'Step1\\\\CH3Br.engrad',\n",
       " 'Step1\\\\CH3Br.gbw',\n",
       " 'Step1\\\\CH3Br.hess',\n",
       " 'Step1\\\\CH3Br.opt',\n",
       " 'Step1\\\\CH3Br.out',\n",
       " 'Step1\\\\CH3Br.prop',\n",
       " 'Step1\\\\CH3Br.xyz',\n",
       " 'Step1\\\\CH3Br_property.txt',\n",
       " 'Step1\\\\CH3Br_trj.xyz',\n",
       " 'Step1\\\\CH3Cl.engrad',\n",
       " 'Step1\\\\CH3Cl.gbw',\n",
       " 'Step1\\\\CH3Cl.hess',\n",
       " 'Step1\\\\CH3Cl.opt',\n",
       " 'Step1\\\\CH3Cl.out',\n",
       " 'Step1\\\\CH3Cl.prop',\n",
       " 'Step1\\\\CH3Cl.xyz',\n",
       " 'Step1\\\\CH3Cl_property.txt',\n",
       " 'Step1\\\\CH3Cl_trj.xyz',\n",
       " 'Step1\\\\Cl-.gbw',\n",
       " 'Step1\\\\Cl-.hess',\n",
       " 'Step1\\\\Cl-.out',\n",
       " 'Step1\\\\Cl-.prop',\n",
       " 'Step1\\\\Cl-_property.txt',\n",
       " 'Step2\\\\CH3Cl_Br-.engrad',\n",
       " 'Step2\\\\CH3Cl_Br-.gbw',\n",
       " 'Step2\\\\CH3Cl_Br-.hess',\n",
       " 'Step2\\\\CH3Cl_Br-.opt',\n",
       " 'Step2\\\\CH3Cl_Br-.out',\n",
       " 'Step2\\\\CH3Cl_Br-.prop',\n",
       " 'Step2\\\\CH3Cl_Br-.xyz',\n",
       " 'Step2\\\\CH3Cl_Br-_init.xyz',\n",
       " 'Step2\\\\CH3Cl_Br-_property.txt',\n",
       " 'Step2\\\\CH3Cl_Br-_trj.xyz',\n",
       " 'Step2\\\\Cl-_CH3Br.engrad',\n",
       " 'Step2\\\\Cl-_CH3Br.gbw',\n",
       " 'Step2\\\\Cl-_CH3Br.hess',\n",
       " 'Step2\\\\Cl-_CH3Br.opt',\n",
       " 'Step2\\\\Cl-_CH3Br.out',\n",
       " 'Step2\\\\Cl-_CH3Br.prop',\n",
       " 'Step2\\\\Cl-_CH3Br.xyz',\n",
       " 'Step2\\\\Cl-_CH3Br_init.xyz',\n",
       " 'Step2\\\\Cl-_CH3Br_property.txt',\n",
       " 'Step2\\\\Cl-_CH3Br_trj.xyz',\n",
       " 'Step3\\\\Cl-_CH3Br.001.gbw',\n",
       " 'Step3\\\\Cl-_CH3Br.001.xyz',\n",
       " 'Step3\\\\Cl-_CH3Br.002.gbw',\n",
       " 'Step3\\\\Cl-_CH3Br.002.xyz',\n",
       " 'Step3\\\\Cl-_CH3Br.003.gbw',\n",
       " 'Step3\\\\Cl-_CH3Br.003.xyz',\n",
       " 'Step3\\\\Cl-_CH3Br.004.gbw',\n",
       " 'Step3\\\\Cl-_CH3Br.004.xyz',\n",
       " 'Step3\\\\Cl-_CH3Br.005.gbw',\n",
       " 'Step3\\\\Cl-_CH3Br.005.xyz',\n",
       " 'Step3\\\\Cl-_CH3Br.006.gbw',\n",
       " 'Step3\\\\Cl-_CH3Br.006.xyz',\n",
       " 'Step3\\\\Cl-_CH3Br.allxyz',\n",
       " 'Step3\\\\Cl-_CH3Br.gbw',\n",
       " 'Step3\\\\Cl-_CH3Br.opt',\n",
       " 'Step3\\\\Cl-_CH3Br.out',\n",
       " 'Step3\\\\Cl-_CH3Br.prop',\n",
       " 'Step3\\\\Cl-_CH3Br.relaxscanact.dat',\n",
       " 'Step3\\\\Cl-_CH3Br.relaxscanscf.dat',\n",
       " 'Step3\\\\Cl-_CH3Br.xyz',\n",
       " 'Step3\\\\Cl-_CH3Br_init.xyz',\n",
       " 'Step3\\\\Cl-_CH3Br_property.txt',\n",
       " 'Step3\\\\Cl-_CH3Br_trj.xyz',\n",
       " 'Step4\\\\Cl-_CH3Br_TS_init.xyz',\n",
       " 'Step4\\\\[Cl_CH3_Br]-.001.hess',\n",
       " 'Step4\\\\[Cl_CH3_Br]-.engrad',\n",
       " 'Step4\\\\[Cl_CH3_Br]-.gbw',\n",
       " 'Step4\\\\[Cl_CH3_Br]-.hess',\n",
       " 'Step4\\\\[Cl_CH3_Br]-.hess.v006.xyz',\n",
       " 'Step4\\\\[Cl_CH3_Br]-.opt',\n",
       " 'Step4\\\\[Cl_CH3_Br]-.out',\n",
       " 'Step4\\\\[Cl_CH3_Br]-.prop',\n",
       " 'Step4\\\\[Cl_CH3_Br]-.xyz',\n",
       " 'Step4\\\\[Cl_CH3_Br]-_property.txt',\n",
       " 'Step4\\\\[Cl_CH3_Br]-_trj.xyz',\n",
       " 'Step5\\\\Br-.gbw',\n",
       " 'Step5\\\\Br-.out',\n",
       " 'Step5\\\\Br-.prop',\n",
       " 'Step5\\\\Br-_property.txt',\n",
       " 'Step5\\\\CH3Br.gbw',\n",
       " 'Step5\\\\CH3Br.out',\n",
       " 'Step5\\\\CH3Br.prop',\n",
       " 'Step5\\\\CH3Br_property.txt',\n",
       " 'Step5\\\\CH3Cl.gbw',\n",
       " 'Step5\\\\CH3Cl.out',\n",
       " 'Step5\\\\CH3Cl.prop',\n",
       " 'Step5\\\\CH3Cl_Br-.gbw',\n",
       " 'Step5\\\\CH3Cl_Br-.out',\n",
       " 'Step5\\\\CH3Cl_Br-.prop',\n",
       " 'Step5\\\\CH3Cl_Br-_property.txt',\n",
       " 'Step5\\\\CH3Cl_property.txt',\n",
       " 'Step5\\\\Cl-.gbw',\n",
       " 'Step5\\\\Cl-.out',\n",
       " 'Step5\\\\Cl-.prop',\n",
       " 'Step5\\\\Cl-_CH3Br.gbw',\n",
       " 'Step5\\\\Cl-_CH3Br.out',\n",
       " 'Step5\\\\Cl-_CH3Br.prop',\n",
       " 'Step5\\\\Cl-_CH3Br_property.txt',\n",
       " 'Step5\\\\Cl-_property.txt',\n",
       " 'Step5\\\\[Cl_CH3_Br]-.gbw',\n",
       " 'Step5\\\\[Cl_CH3_Br]-.out',\n",
       " 'Step5\\\\[Cl_CH3_Br]-.prop',\n",
       " 'Step5\\\\[Cl_CH3_Br]-_property.txt',\n",
       " 'Step6\\\\Br-.cpcm',\n",
       " 'Step6\\\\Br-.gbw',\n",
       " 'Step6\\\\Br-.out',\n",
       " 'Step6\\\\Br-.prop',\n",
       " 'Step6\\\\Br-_property.txt',\n",
       " 'Step6\\\\CH3Br.cpcm',\n",
       " 'Step6\\\\CH3Br.gbw',\n",
       " 'Step6\\\\CH3Br.out',\n",
       " 'Step6\\\\CH3Br.prop',\n",
       " 'Step6\\\\CH3Br_property.txt',\n",
       " 'Step6\\\\CH3Cl.cpcm',\n",
       " 'Step6\\\\CH3Cl.gbw',\n",
       " 'Step6\\\\CH3Cl.out',\n",
       " 'Step6\\\\CH3Cl.prop',\n",
       " 'Step6\\\\CH3Cl_Br-.cpcm',\n",
       " 'Step6\\\\CH3Cl_Br-.gbw',\n",
       " 'Step6\\\\CH3Cl_Br-.out',\n",
       " 'Step6\\\\CH3Cl_Br-.prop',\n",
       " 'Step6\\\\CH3Cl_Br-_property.txt',\n",
       " 'Step6\\\\CH3Cl_property.txt',\n",
       " 'Step6\\\\Cl-.cpcm',\n",
       " 'Step6\\\\Cl-.gbw',\n",
       " 'Step6\\\\Cl-.out',\n",
       " 'Step6\\\\Cl-.prop',\n",
       " 'Step6\\\\Cl-_CH3Br.cpcm',\n",
       " 'Step6\\\\Cl-_CH3Br.gbw',\n",
       " 'Step6\\\\Cl-_CH3Br.out',\n",
       " 'Step6\\\\Cl-_CH3Br.prop',\n",
       " 'Step6\\\\Cl-_CH3Br_property.txt',\n",
       " 'Step6\\\\Cl-_property.txt',\n",
       " 'Step6\\\\[Cl_CH3_Br]-.cpcm',\n",
       " 'Step6\\\\[Cl_CH3_Br]-.gbw',\n",
       " 'Step6\\\\[Cl_CH3_Br]-.out',\n",
       " 'Step6\\\\[Cl_CH3_Br]-.prop',\n",
       " 'Step6\\\\[Cl_CH3_Br]-_property.txt']"
      ]
     },
     "metadata": {},
     "execution_count": 2
    }
   ],
   "source": [
    "# Clean all directories\n",
    "all_files = glob.glob(f'Step*/*')\n",
    "non_input_files = []\n",
    "for f in all_files:\n",
    "    if f[-4:] == '.inp':\n",
    "        #print(f)\n",
    "        pass\n",
    "    else:\n",
    "        non_input_files.append(f)\n",
    "non_input_files"
   ]
  },
  {
   "cell_type": "code",
   "execution_count": 3,
   "metadata": {},
   "outputs": [],
   "source": [
    "#for f in non_input_files: os.remove(f)"
   ]
  },
  {
   "source": [
    "# Step 1 - Optimize Non-interacting Geometries"
   ],
   "cell_type": "markdown",
   "metadata": {}
  },
  {
   "cell_type": "code",
   "execution_count": 4,
   "metadata": {},
   "outputs": [
    {
     "output_type": "execute_result",
     "data": {
      "text/plain": [
       "['Step1\\\\Br-.out', 'Step1\\\\CH3Br.out', 'Step1\\\\CH3Cl.out', 'Step1\\\\Cl-.out']"
      ]
     },
     "metadata": {},
     "execution_count": 4
    }
   ],
   "source": [
    "step_dir = 'Step1/'\n",
    "input_files = glob.glob(f'{step_dir}/*.inp')\n",
    "output_files = [i_file.replace('.inp', '.out') for i_file in input_files]\n",
    "output_files"
   ]
  },
  {
   "cell_type": "code",
   "execution_count": 5,
   "metadata": {},
   "outputs": [
    {
     "output_type": "stream",
     "name": "stdout",
     "text": [
      "\n",
      "Running \"Step1\\Br-.inp\"\n",
      "Writing to \"Step1\\Br-.out\"\n",
      "\n",
      "Running \"Step1\\CH3Br.inp\"\n",
      "Writing to \"Step1\\CH3Br.out\"\n",
      "\n",
      "Running \"Step1\\CH3Cl.inp\"\n",
      "Writing to \"Step1\\CH3Cl.out\"\n",
      "\n",
      "Running \"Step1\\Cl-.inp\"\n",
      "Writing to \"Step1\\Cl-.out\"\n"
     ]
    }
   ],
   "source": [
    "for i_file in input_files:\n",
    "    run_orca(i_file)"
   ]
  },
  {
   "source": [
    "# Step 2 - Optimize Weakly Interacting Geometries"
   ],
   "cell_type": "markdown",
   "metadata": {}
  },
  {
   "cell_type": "code",
   "execution_count": 6,
   "metadata": {},
   "outputs": [],
   "source": [
    "# Use the optimized geometry for CH3Br as a starting point for our sweep\n",
    "with open('Step1/CH3Br.xyz') as init_xyz:\n",
    "    lines = init_xyz.readlines()\n",
    "    nbr_atoms_before = lines[0].strip()\n",
    "    nbr_atoms_after = 6\n",
    "    lines[0] = f'{nbr_atoms_after}\\n'\n",
    "    lines.append('  Cl  -3.7                  0.0                    0.0\\n')\n",
    "\n",
    "for line in lines:\n",
    "    #print(line, end='')\n",
    "    pass\n",
    "\n",
    "with open('Step2/Cl-_CH3Br_init.xyz', 'w') as new_xyz:\n",
    "    new_xyz.write(''.join(lines))\n",
    "\n",
    "# Use the optimized geometry for CH3Cl as a starting point for our sweep\n",
    "with open('Step1/CH3Cl.xyz') as init_xyz:\n",
    "    lines = init_xyz.readlines()\n",
    "    nbr_atoms_before = lines[0].strip()\n",
    "    nbr_atoms_after = 6\n",
    "    lines[0] = f'{nbr_atoms_after}\\n'\n",
    "    lines.append('  Br  -3.7                  0.0                    0.0\\n')\n",
    "\n",
    "for line in lines:\n",
    "    #print(line, end='')\n",
    "    pass\n",
    "\n",
    "with open('Step2/CH3Cl_Br-_init.xyz', 'w') as new_xyz:\n",
    "    new_xyz.write(''.join(lines))"
   ]
  },
  {
   "cell_type": "code",
   "execution_count": 7,
   "metadata": {},
   "outputs": [
    {
     "output_type": "execute_result",
     "data": {
      "text/plain": [
       "['Step2\\\\CH3Cl_Br-.out', 'Step2\\\\Cl-_CH3Br.out']"
      ]
     },
     "metadata": {},
     "execution_count": 7
    }
   ],
   "source": [
    "input_files = glob.glob(f'Step2/*.inp')\n",
    "output_files = [i_file.replace('.inp', '.out') for i_file in input_files]\n",
    "output_files"
   ]
  },
  {
   "cell_type": "code",
   "execution_count": 8,
   "metadata": {},
   "outputs": [
    {
     "output_type": "stream",
     "name": "stdout",
     "text": [
      "\n",
      "Running \"Step2\\CH3Cl_Br-.inp\"\n",
      "Writing to \"Step2\\CH3Cl_Br-.out\"\n",
      "\n",
      "Running \"Step2\\Cl-_CH3Br.inp\"\n",
      "Writing to \"Step2\\Cl-_CH3Br.out\"\n"
     ]
    }
   ],
   "source": [
    "for i_file in input_files:\n",
    "    run_orca(i_file)"
   ]
  },
  {
   "source": [
    "# Step 3 - Scan for Transition State"
   ],
   "cell_type": "markdown",
   "metadata": {}
  },
  {
   "cell_type": "code",
   "execution_count": 9,
   "metadata": {},
   "outputs": [
    {
     "output_type": "execute_result",
     "data": {
      "text/plain": [
       "'Step3/Cl-_CH3Br_init.xyz'"
      ]
     },
     "metadata": {},
     "execution_count": 9
    }
   ],
   "source": [
    "shutil.copy('Step2/Cl-_CH3Br.xyz', 'Step3/Cl-_CH3Br_init.xyz')"
   ]
  },
  {
   "cell_type": "code",
   "execution_count": 10,
   "metadata": {},
   "outputs": [],
   "source": [
    "step_dir = 'Step3'\n",
    "input_files = glob.glob(f'{step_dir}/*.inp')\n",
    "output_files = [i_file.replace('.inp', '.out') for i_file in input_files]\n"
   ]
  },
  {
   "cell_type": "code",
   "execution_count": 11,
   "metadata": {},
   "outputs": [
    {
     "output_type": "stream",
     "name": "stdout",
     "text": [
      "\n",
      "Running \"Step3\\Cl-_CH3Br.inp\"\n",
      "Writing to \"Step3\\Cl-_CH3Br.out\"\n"
     ]
    }
   ],
   "source": [
    "for i_file in input_files:\n",
    "    run_orca(i_file)"
   ]
  },
  {
   "cell_type": "code",
   "execution_count": 12,
   "metadata": {},
   "outputs": [
    {
     "output_type": "stream",
     "name": "stdout",
     "text": [
      "['   2.90000000 -3073.63538623', '   2.70000000 -3073.63446451', '   2.50000000 -3073.63260691', '   2.30000000 -3073.63602085', '   2.10000000 -3073.64416383', '   1.90000000 -3073.65156792']\n[-3073.63538623,\n -3073.63446451,\n -3073.63260691,\n -3073.63602085,\n -3073.64416383,\n -3073.65156792]\n\nTransition state supected at index 3\n"
     ]
    }
   ],
   "source": [
    "for o_file in output_files:\n",
    "    # get the highest energy transition state\n",
    "    with open(o_file, 'r') as of:\n",
    "        content = of.read()\n",
    "        split_str = \"The Calculated Surface using the 'Actual Energy'\\n\"\n",
    "        trans_state_values = content.split(split_str)[1].split('\\n\\n',1)[0].split('\\n')\n",
    "    print(trans_state_values)\n",
    "    energies = [float(s.strip().split()[1]) for s in trans_state_values ]\n",
    "\n",
    "pprint(energies)\n",
    "\n",
    "ts_index = np.argmax(energies) + 1\n",
    "print(f'\\nTransition state supected at index {ts_index}')"
   ]
  },
  {
   "source": [
    "# Step 4 - Find Imaginary Modes"
   ],
   "cell_type": "markdown",
   "metadata": {}
  },
  {
   "cell_type": "code",
   "execution_count": 13,
   "metadata": {},
   "outputs": [
    {
     "output_type": "execute_result",
     "data": {
      "text/plain": [
       "'Step4/Cl-_CH3Br_TS_init.xyz'"
      ]
     },
     "metadata": {},
     "execution_count": 13
    }
   ],
   "source": [
    "shutil.copy(f'Step3/Cl-_CH3Br.{ts_index:03}.xyz', 'Step4/Cl-_CH3Br_TS_init.xyz')"
   ]
  },
  {
   "cell_type": "code",
   "execution_count": 14,
   "metadata": {},
   "outputs": [
    {
     "output_type": "execute_result",
     "data": {
      "text/plain": [
       "['Step4\\\\[Cl_CH3_Br]-.out']"
      ]
     },
     "metadata": {},
     "execution_count": 14
    }
   ],
   "source": [
    "input_files = glob.glob(f'Step4/*.inp')\n",
    "output_files = [i_file.replace('.inp', '.out') for i_file in input_files]\n",
    "output_files"
   ]
  },
  {
   "cell_type": "code",
   "execution_count": 15,
   "metadata": {},
   "outputs": [
    {
     "output_type": "stream",
     "name": "stdout",
     "text": [
      "\n",
      "Running \"Step4\\[Cl_CH3_Br]-.inp\"\n",
      "Writing to \"Step4\\[Cl_CH3_Br]-.out\"\n"
     ]
    }
   ],
   "source": [
    "for i_file in input_files:\n",
    "    run_orca(i_file)"
   ]
  },
  {
   "cell_type": "code",
   "execution_count": 16,
   "metadata": {},
   "outputs": [
    {
     "output_type": "stream",
     "name": "stdout",
     "text": [
      "Reaction coordinate given by mode 6 with imaginary frequency -282.42 cm**-1\n"
     ]
    }
   ],
   "source": [
    "im_freq_lines = get_imaginary_modes(output_files[0])\n",
    "im_freqs = []\n",
    "im_freq_idx = []\n",
    "for line in im_freq_lines:\n",
    "    idx_str, freq_str, _ = line.split(None, 2)\n",
    "    idx = int(idx_str[:-1])\n",
    "    freq = float(freq_str)\n",
    "    if idx not in im_freq_idx:\n",
    "        im_freq_idx.append(idx)\n",
    "        im_freqs.append(freq)\n",
    "\n",
    "if len(im_freq_idx) > 1:\n",
    "    print(\"More than one imginary frequency found! This is not a transition state!\")\n",
    "    print(im_freq_lines)\n",
    "elif len(im_freq_idx) < 1:\n",
    "    print(\"No imgaginary frequencies found!\")\n",
    "else:\n",
    "    reaction_idx = im_freq_idx[0]\n",
    "    print(f\"Reaction coordinate given by mode {reaction_idx} with imaginary frequency {im_freqs[0]} cm**-1\")"
   ]
  },
  {
   "cell_type": "code",
   "execution_count": 17,
   "metadata": {},
   "outputs": [
    {
     "output_type": "stream",
     "name": "stdout",
     "text": [
      "Step4\\[Cl_CH3_Br]-.hess\nThe file is being recognized as a valid orca hessian file\nWill plot 1 vibrations:\n   6\ncreating: Step4\\[Cl_CH3_Br]-.hess.v006.xyz\n\n"
     ]
    }
   ],
   "source": [
    "hess_file = [i_file.replace('.inp', '.hess') for i_file in input_files]\n",
    "print(hess_file[0])\n",
    "p_out = subprocess.run(['orca_pltvib', hess_file[0], str(reaction_idx)], capture_output=True)\n",
    "if p_out.stderr:\n",
    "    print(p_out.stderr.decode())\n",
    "print(p_out.stdout.decode())"
   ]
  },
  {
   "source": [
    "# Step 5 - Single Point Calculations with Bigger Basis"
   ],
   "cell_type": "markdown",
   "metadata": {}
  },
  {
   "cell_type": "code",
   "execution_count": 18,
   "metadata": {},
   "outputs": [
    {
     "output_type": "execute_result",
     "data": {
      "text/plain": [
       "['Step5\\\\Br-.out',\n",
       " 'Step5\\\\CH3Br.out',\n",
       " 'Step5\\\\CH3Cl.out',\n",
       " 'Step5\\\\CH3Cl_Br-.out',\n",
       " 'Step5\\\\Cl-.out',\n",
       " 'Step5\\\\Cl-_CH3Br.out',\n",
       " 'Step5\\\\[Cl_CH3_Br]-.out']"
      ]
     },
     "metadata": {},
     "execution_count": 18
    }
   ],
   "source": [
    "input_files = glob.glob('Step5/*.inp')\n",
    "output_files = [i_file.replace('.inp', '.out') for i_file in input_files]\n",
    "output_files"
   ]
  },
  {
   "cell_type": "code",
   "execution_count": 19,
   "metadata": {},
   "outputs": [
    {
     "output_type": "stream",
     "name": "stdout",
     "text": [
      "\n",
      "Running \"Step5\\Br-.inp\"\n",
      "Writing to \"Step5\\Br-.out\"\n",
      "\n",
      "Running \"Step5\\CH3Br.inp\"\n",
      "Writing to \"Step5\\CH3Br.out\"\n",
      "\n",
      "Running \"Step5\\CH3Cl.inp\"\n",
      "Writing to \"Step5\\CH3Cl.out\"\n",
      "\n",
      "Running \"Step5\\CH3Cl_Br-.inp\"\n",
      "Writing to \"Step5\\CH3Cl_Br-.out\"\n",
      "\n",
      "Running \"Step5\\Cl-.inp\"\n",
      "Writing to \"Step5\\Cl-.out\"\n",
      "\n",
      "Running \"Step5\\Cl-_CH3Br.inp\"\n",
      "Writing to \"Step5\\Cl-_CH3Br.out\"\n",
      "\n",
      "Running \"Step5\\[Cl_CH3_Br]-.inp\"\n",
      "Writing to \"Step5\\[Cl_CH3_Br]-.out\"\n"
     ]
    }
   ],
   "source": [
    "for i_file in input_files:\n",
    "    run_orca(i_file)"
   ]
  },
  {
   "source": [
    "# Step 6 - Solvation Effects"
   ],
   "cell_type": "markdown",
   "metadata": {}
  },
  {
   "cell_type": "code",
   "execution_count": 20,
   "metadata": {},
   "outputs": [
    {
     "output_type": "execute_result",
     "data": {
      "text/plain": [
       "['Step6\\\\Br-.out',\n",
       " 'Step6\\\\CH3Br.out',\n",
       " 'Step6\\\\CH3Cl.out',\n",
       " 'Step6\\\\CH3Cl_Br-.out',\n",
       " 'Step6\\\\Cl-.out',\n",
       " 'Step6\\\\Cl-_CH3Br.out',\n",
       " 'Step6\\\\[Cl_CH3_Br]-.out']"
      ]
     },
     "metadata": {},
     "execution_count": 20
    }
   ],
   "source": [
    "input_files = glob.glob('Step6/*.inp')\n",
    "output_files = [i_file.replace('.inp', '.out') for i_file in input_files]\n",
    "output_files"
   ]
  },
  {
   "cell_type": "code",
   "execution_count": 21,
   "metadata": {},
   "outputs": [
    {
     "output_type": "stream",
     "name": "stdout",
     "text": [
      "\n",
      "Running \"Step6\\Br-.inp\"\n",
      "Writing to \"Step6\\Br-.out\"\n",
      "\n",
      "Running \"Step6\\CH3Br.inp\"\n",
      "Writing to \"Step6\\CH3Br.out\"\n",
      "\n",
      "Running \"Step6\\CH3Cl.inp\"\n",
      "Writing to \"Step6\\CH3Cl.out\"\n",
      "\n",
      "Running \"Step6\\CH3Cl_Br-.inp\"\n",
      "Writing to \"Step6\\CH3Cl_Br-.out\"\n",
      "\n",
      "Running \"Step6\\Cl-.inp\"\n",
      "Writing to \"Step6\\Cl-.out\"\n",
      "\n",
      "Running \"Step6\\Cl-_CH3Br.inp\"\n",
      "Writing to \"Step6\\Cl-_CH3Br.out\"\n",
      "\n",
      "Running \"Step6\\[Cl_CH3_Br]-.inp\"\n",
      "Writing to \"Step6\\[Cl_CH3_Br]-.out\"\n"
     ]
    }
   ],
   "source": [
    "for i_file in input_files:\n",
    "    run_orca(i_file)"
   ]
  },
  {
   "source": [
    "# Putting Together the Results"
   ],
   "cell_type": "markdown",
   "metadata": {}
  },
  {
   "cell_type": "code",
   "execution_count": 46,
   "metadata": {},
   "outputs": [
    {
     "output_type": "execute_result",
     "data": {
      "text/plain": [
       "['Step1\\\\Br-.out',\n",
       " 'Step1\\\\CH3Br.out',\n",
       " 'Step1\\\\CH3Cl.out',\n",
       " 'Step1\\\\Cl-.out',\n",
       " 'Step2\\\\CH3Cl_Br-.out',\n",
       " 'Step2\\\\Cl-_CH3Br.out',\n",
       " 'Step3\\\\Cl-_CH3Br.out',\n",
       " 'Step4\\\\[Cl_CH3_Br]-.out',\n",
       " 'Step5\\\\Br-.out',\n",
       " 'Step5\\\\CH3Br.out',\n",
       " 'Step5\\\\CH3Cl.out',\n",
       " 'Step5\\\\CH3Cl_Br-.out',\n",
       " 'Step5\\\\Cl-.out',\n",
       " 'Step5\\\\Cl-_CH3Br.out',\n",
       " 'Step5\\\\[Cl_CH3_Br]-.out',\n",
       " 'Step6\\\\Br-.out',\n",
       " 'Step6\\\\CH3Br.out',\n",
       " 'Step6\\\\CH3Cl.out',\n",
       " 'Step6\\\\CH3Cl_Br-.out',\n",
       " 'Step6\\\\Cl-.out',\n",
       " 'Step6\\\\Cl-_CH3Br.out',\n",
       " 'Step6\\\\[Cl_CH3_Br]-.out']"
      ]
     },
     "metadata": {},
     "execution_count": 46
    }
   ],
   "source": [
    "output_files = glob.glob('Step*/*.out')\n",
    "output_files"
   ]
  },
  {
   "cell_type": "code",
   "execution_count": 47,
   "metadata": {},
   "outputs": [
    {
     "output_type": "stream",
     "name": "stdout",
     "text": [
      "\nNo entropy in \"Step1\\Br-.out\"\nFound translational entropy, calculating Gibbs energy\n\nEntropy found in \"Step1\\CH3Br.out\"\n\nEntropy found in \"Step1\\CH3Cl.out\"\n\nNo entropy in \"Step1\\Cl-.out\"\nFound translational entropy, calculating Gibbs energy\n\nEntropy found in \"Step2\\CH3Cl_Br-.out\"\n\nEntropy found in \"Step2\\Cl-_CH3Br.out\"\n\nNo entropy in \"Step3\\Cl-_CH3Br.out\"\nCannot calculate Gibbs energy.\n\nEntropy found in \"Step4\\[Cl_CH3_Br]-.out\"\n\nNo entropy in \"Step5\\Br-.out\"\nCannot calculate Gibbs energy.\n\nNo entropy in \"Step5\\CH3Br.out\"\nCannot calculate Gibbs energy.\n\nNo entropy in \"Step5\\CH3Cl.out\"\nCannot calculate Gibbs energy.\n\nNo entropy in \"Step5\\CH3Cl_Br-.out\"\nCannot calculate Gibbs energy.\n\nNo entropy in \"Step5\\Cl-.out\"\nCannot calculate Gibbs energy.\n\nNo entropy in \"Step5\\Cl-_CH3Br.out\"\nCannot calculate Gibbs energy.\n\nNo entropy in \"Step5\\[Cl_CH3_Br]-.out\"\nCannot calculate Gibbs energy.\n\nNo entropy in \"Step6\\Br-.out\"\nCannot calculate Gibbs energy.\n\nNo entropy in \"Step6\\CH3Br.out\"\nCannot calculate Gibbs energy.\n\nNo entropy in \"Step6\\CH3Cl.out\"\nCannot calculate Gibbs energy.\n\nNo entropy in \"Step6\\CH3Cl_Br-.out\"\nCannot calculate Gibbs energy.\n\nNo entropy in \"Step6\\Cl-.out\"\nCannot calculate Gibbs energy.\n\nNo entropy in \"Step6\\Cl-_CH3Br.out\"\nCannot calculate Gibbs energy.\n\nNo entropy in \"Step6\\[Cl_CH3_Br]-.out\"\nCannot calculate Gibbs energy.\n"
     ]
    },
    {
     "output_type": "execute_result",
     "data": {
      "text/plain": [
       "                           E_sp      E_therm            H            G  \\\n",
       "Step1\\Br-          -2573.783655 -2573.779406 -2573.778462 -2573.797015   \n",
       "Step1\\CH3Br        -2613.579210 -2613.539257 -2613.538313 -2613.567287   \n",
       "Step1\\CH3Cl         -499.848502  -499.808073  -499.807129  -499.834794   \n",
       "Step1\\Cl-           -460.023549  -460.019300  -460.018356  -460.035759   \n",
       "Step2\\CH3Cl_Br-    -3073.652284 -3073.609444 -3073.608500 -3073.645075   \n",
       "Step2\\Cl-_CH3Br    -3073.635520 -3073.593542 -3073.592597 -3073.629046   \n",
       "Step3\\Cl-_CH3Br    -3073.651568          NaN          NaN          NaN   \n",
       "Step4\\[Cl_CH3_Br]- -3073.632714 -3073.591893 -3073.590949 -3073.626053   \n",
       "Step5\\Br-          -2574.129170          NaN          NaN          NaN   \n",
       "Step5\\CH3Br        -2613.942478          NaN          NaN          NaN   \n",
       "Step5\\CH3Cl         -500.060462          NaN          NaN          NaN   \n",
       "Step5\\CH3Cl_Br-    -3074.202621          NaN          NaN          NaN   \n",
       "Step5\\Cl-           -460.234317          NaN          NaN          NaN   \n",
       "Step5\\Cl-_CH3Br    -3074.191893          NaN          NaN          NaN   \n",
       "Step5\\[Cl_CH3_Br]- -3074.185276          NaN          NaN          NaN   \n",
       "Step6\\Br-          -2574.233566          NaN          NaN          NaN   \n",
       "Step6\\CH3Br        -2613.946675          NaN          NaN          NaN   \n",
       "Step6\\CH3Cl         -500.064723          NaN          NaN          NaN   \n",
       "Step6\\CH3Cl_Br-    -3074.294512          NaN          NaN          NaN   \n",
       "Step6\\Cl-           -460.346073          NaN          NaN          NaN   \n",
       "Step6\\Cl-_CH3Br    -3074.284537          NaN          NaN          NaN   \n",
       "Step6\\[Cl_CH3_Br]- -3074.269733          NaN          NaN          NaN   \n",
       "\n",
       "                     G-E(el)        TS  \n",
       "Step1\\Br-          -0.013360       NaN  \n",
       "Step1\\CH3Br         0.011923  0.028975  \n",
       "Step1\\CH3Cl         0.013708  0.027665  \n",
       "Step1\\Cl-          -0.012210       NaN  \n",
       "Step2\\CH3Cl_Br-     0.007209  0.036575  \n",
       "Step2\\Cl-_CH3Br     0.006473  0.036449  \n",
       "Step3\\Cl-_CH3Br          NaN       NaN  \n",
       "Step4\\[Cl_CH3_Br]-  0.006661  0.035104  \n",
       "Step5\\Br-                NaN       NaN  \n",
       "Step5\\CH3Br              NaN       NaN  \n",
       "Step5\\CH3Cl              NaN       NaN  \n",
       "Step5\\CH3Cl_Br-          NaN       NaN  \n",
       "Step5\\Cl-                NaN       NaN  \n",
       "Step5\\Cl-_CH3Br          NaN       NaN  \n",
       "Step5\\[Cl_CH3_Br]-       NaN       NaN  \n",
       "Step6\\Br-                NaN       NaN  \n",
       "Step6\\CH3Br              NaN       NaN  \n",
       "Step6\\CH3Cl              NaN       NaN  \n",
       "Step6\\CH3Cl_Br-          NaN       NaN  \n",
       "Step6\\Cl-                NaN       NaN  \n",
       "Step6\\Cl-_CH3Br          NaN       NaN  \n",
       "Step6\\[Cl_CH3_Br]-       NaN       NaN  "
      ],
      "text/html": "<div>\n<style scoped>\n    .dataframe tbody tr th:only-of-type {\n        vertical-align: middle;\n    }\n\n    .dataframe tbody tr th {\n        vertical-align: top;\n    }\n\n    .dataframe thead th {\n        text-align: right;\n    }\n</style>\n<table border=\"1\" class=\"dataframe\">\n  <thead>\n    <tr style=\"text-align: right;\">\n      <th></th>\n      <th>E_sp</th>\n      <th>E_therm</th>\n      <th>H</th>\n      <th>G</th>\n      <th>G-E(el)</th>\n      <th>TS</th>\n    </tr>\n  </thead>\n  <tbody>\n    <tr>\n      <th>Step1\\Br-</th>\n      <td>-2573.783655</td>\n      <td>-2573.779406</td>\n      <td>-2573.778462</td>\n      <td>-2573.797015</td>\n      <td>-0.013360</td>\n      <td>NaN</td>\n    </tr>\n    <tr>\n      <th>Step1\\CH3Br</th>\n      <td>-2613.579210</td>\n      <td>-2613.539257</td>\n      <td>-2613.538313</td>\n      <td>-2613.567287</td>\n      <td>0.011923</td>\n      <td>0.028975</td>\n    </tr>\n    <tr>\n      <th>Step1\\CH3Cl</th>\n      <td>-499.848502</td>\n      <td>-499.808073</td>\n      <td>-499.807129</td>\n      <td>-499.834794</td>\n      <td>0.013708</td>\n      <td>0.027665</td>\n    </tr>\n    <tr>\n      <th>Step1\\Cl-</th>\n      <td>-460.023549</td>\n      <td>-460.019300</td>\n      <td>-460.018356</td>\n      <td>-460.035759</td>\n      <td>-0.012210</td>\n      <td>NaN</td>\n    </tr>\n    <tr>\n      <th>Step2\\CH3Cl_Br-</th>\n      <td>-3073.652284</td>\n      <td>-3073.609444</td>\n      <td>-3073.608500</td>\n      <td>-3073.645075</td>\n      <td>0.007209</td>\n      <td>0.036575</td>\n    </tr>\n    <tr>\n      <th>Step2\\Cl-_CH3Br</th>\n      <td>-3073.635520</td>\n      <td>-3073.593542</td>\n      <td>-3073.592597</td>\n      <td>-3073.629046</td>\n      <td>0.006473</td>\n      <td>0.036449</td>\n    </tr>\n    <tr>\n      <th>Step3\\Cl-_CH3Br</th>\n      <td>-3073.651568</td>\n      <td>NaN</td>\n      <td>NaN</td>\n      <td>NaN</td>\n      <td>NaN</td>\n      <td>NaN</td>\n    </tr>\n    <tr>\n      <th>Step4\\[Cl_CH3_Br]-</th>\n      <td>-3073.632714</td>\n      <td>-3073.591893</td>\n      <td>-3073.590949</td>\n      <td>-3073.626053</td>\n      <td>0.006661</td>\n      <td>0.035104</td>\n    </tr>\n    <tr>\n      <th>Step5\\Br-</th>\n      <td>-2574.129170</td>\n      <td>NaN</td>\n      <td>NaN</td>\n      <td>NaN</td>\n      <td>NaN</td>\n      <td>NaN</td>\n    </tr>\n    <tr>\n      <th>Step5\\CH3Br</th>\n      <td>-2613.942478</td>\n      <td>NaN</td>\n      <td>NaN</td>\n      <td>NaN</td>\n      <td>NaN</td>\n      <td>NaN</td>\n    </tr>\n    <tr>\n      <th>Step5\\CH3Cl</th>\n      <td>-500.060462</td>\n      <td>NaN</td>\n      <td>NaN</td>\n      <td>NaN</td>\n      <td>NaN</td>\n      <td>NaN</td>\n    </tr>\n    <tr>\n      <th>Step5\\CH3Cl_Br-</th>\n      <td>-3074.202621</td>\n      <td>NaN</td>\n      <td>NaN</td>\n      <td>NaN</td>\n      <td>NaN</td>\n      <td>NaN</td>\n    </tr>\n    <tr>\n      <th>Step5\\Cl-</th>\n      <td>-460.234317</td>\n      <td>NaN</td>\n      <td>NaN</td>\n      <td>NaN</td>\n      <td>NaN</td>\n      <td>NaN</td>\n    </tr>\n    <tr>\n      <th>Step5\\Cl-_CH3Br</th>\n      <td>-3074.191893</td>\n      <td>NaN</td>\n      <td>NaN</td>\n      <td>NaN</td>\n      <td>NaN</td>\n      <td>NaN</td>\n    </tr>\n    <tr>\n      <th>Step5\\[Cl_CH3_Br]-</th>\n      <td>-3074.185276</td>\n      <td>NaN</td>\n      <td>NaN</td>\n      <td>NaN</td>\n      <td>NaN</td>\n      <td>NaN</td>\n    </tr>\n    <tr>\n      <th>Step6\\Br-</th>\n      <td>-2574.233566</td>\n      <td>NaN</td>\n      <td>NaN</td>\n      <td>NaN</td>\n      <td>NaN</td>\n      <td>NaN</td>\n    </tr>\n    <tr>\n      <th>Step6\\CH3Br</th>\n      <td>-2613.946675</td>\n      <td>NaN</td>\n      <td>NaN</td>\n      <td>NaN</td>\n      <td>NaN</td>\n      <td>NaN</td>\n    </tr>\n    <tr>\n      <th>Step6\\CH3Cl</th>\n      <td>-500.064723</td>\n      <td>NaN</td>\n      <td>NaN</td>\n      <td>NaN</td>\n      <td>NaN</td>\n      <td>NaN</td>\n    </tr>\n    <tr>\n      <th>Step6\\CH3Cl_Br-</th>\n      <td>-3074.294512</td>\n      <td>NaN</td>\n      <td>NaN</td>\n      <td>NaN</td>\n      <td>NaN</td>\n      <td>NaN</td>\n    </tr>\n    <tr>\n      <th>Step6\\Cl-</th>\n      <td>-460.346073</td>\n      <td>NaN</td>\n      <td>NaN</td>\n      <td>NaN</td>\n      <td>NaN</td>\n      <td>NaN</td>\n    </tr>\n    <tr>\n      <th>Step6\\Cl-_CH3Br</th>\n      <td>-3074.284537</td>\n      <td>NaN</td>\n      <td>NaN</td>\n      <td>NaN</td>\n      <td>NaN</td>\n      <td>NaN</td>\n    </tr>\n    <tr>\n      <th>Step6\\[Cl_CH3_Br]-</th>\n      <td>-3074.269733</td>\n      <td>NaN</td>\n      <td>NaN</td>\n      <td>NaN</td>\n      <td>NaN</td>\n      <td>NaN</td>\n    </tr>\n  </tbody>\n</table>\n</div>"
     },
     "metadata": {},
     "execution_count": 47
    }
   ],
   "source": [
    "calcs = {}\n",
    "for o_file in output_files:\n",
    "    terms = parse_orca_output(o_file)\n",
    "    if 'G' not in terms:\n",
    "        print(f'\\nNo entropy in \"{o_file}\"')\n",
    "        search_terms = {'TS_trans': 'Translational entropy'}\n",
    "        trans_entr = parse_orca_output(o_file, search_terms=search_terms)\n",
    "        if 'TS_trans' in trans_entr:\n",
    "            print(f'Found translational entropy, calculating Gibbs energy')\n",
    "            terms['G'] = terms['H'] - trans_entr['TS_trans']\n",
    "            terms['G-E(el)'] = terms['G'] - terms['E_sp']\n",
    "        else:\n",
    "            print('Cannot calculate Gibbs energy.')\n",
    "\n",
    "    else:\n",
    "        print(f'\\nEntropy found in \"{o_file}\"')\n",
    "\n",
    "\n",
    "    calcs[o_file[:-4]] = terms # Use filename without file ending\n",
    "\n",
    "\n",
    "raw_res_df = pd.DataFrame(calcs)\n",
    "raw_res_df.T"
   ]
  },
  {
   "cell_type": "code",
   "execution_count": 48,
   "metadata": {},
   "outputs": [
    {
     "output_type": "execute_result",
     "data": {
      "text/plain": [
       "                           E_sp      E_therm            H            G  \\\n",
       "Step1\\Br-          -2573.783655 -2573.779406 -2573.778462 -2573.797015   \n",
       "Step1\\CH3Br        -2613.579210 -2613.539257 -2613.538313 -2613.567287   \n",
       "Step1\\CH3Cl         -499.848502  -499.808073  -499.807129  -499.834794   \n",
       "Step1\\Cl-           -460.023549  -460.019300  -460.018356  -460.035759   \n",
       "Step2\\CH3Cl_Br-    -3073.652284 -3073.609444 -3073.608500 -3073.645075   \n",
       "Step2\\Cl-_CH3Br    -3073.635520 -3073.593542 -3073.592597 -3073.629046   \n",
       "Step3\\Cl-_CH3Br    -3073.651568          NaN          NaN          NaN   \n",
       "Step4\\[Cl_CH3_Br]- -3073.632714 -3073.591893 -3073.590949 -3073.626053   \n",
       "Step5\\Br-          -2574.129170          NaN          NaN -2574.142530   \n",
       "Step5\\CH3Br        -2613.942478          NaN          NaN -2613.930555   \n",
       "Step5\\CH3Cl         -500.060462          NaN          NaN  -500.046754   \n",
       "Step5\\CH3Cl_Br-    -3074.202621          NaN          NaN -3074.195412   \n",
       "Step5\\Cl-           -460.234317          NaN          NaN  -460.246526   \n",
       "Step5\\Cl-_CH3Br    -3074.191893          NaN          NaN -3074.185420   \n",
       "Step5\\[Cl_CH3_Br]- -3074.185276          NaN          NaN -3074.178615   \n",
       "Step6\\Br-          -2574.233566          NaN          NaN -2574.246926   \n",
       "Step6\\CH3Br        -2613.946675          NaN          NaN -2613.934752   \n",
       "Step6\\CH3Cl         -500.064723          NaN          NaN  -500.051015   \n",
       "Step6\\CH3Cl_Br-    -3074.294512          NaN          NaN -3074.287302   \n",
       "Step6\\Cl-           -460.346073          NaN          NaN  -460.358282   \n",
       "Step6\\Cl-_CH3Br    -3074.284537          NaN          NaN -3074.278063   \n",
       "Step6\\[Cl_CH3_Br]- -3074.269733          NaN          NaN -3074.263071   \n",
       "\n",
       "                     G-E(el)        TS  \n",
       "Step1\\Br-          -0.013360       NaN  \n",
       "Step1\\CH3Br         0.011923  0.028975  \n",
       "Step1\\CH3Cl         0.013708  0.027665  \n",
       "Step1\\Cl-          -0.012210       NaN  \n",
       "Step2\\CH3Cl_Br-     0.007209  0.036575  \n",
       "Step2\\Cl-_CH3Br     0.006473  0.036449  \n",
       "Step3\\Cl-_CH3Br          NaN       NaN  \n",
       "Step4\\[Cl_CH3_Br]-  0.006661  0.035104  \n",
       "Step5\\Br-                NaN       NaN  \n",
       "Step5\\CH3Br              NaN       NaN  \n",
       "Step5\\CH3Cl              NaN       NaN  \n",
       "Step5\\CH3Cl_Br-          NaN       NaN  \n",
       "Step5\\Cl-                NaN       NaN  \n",
       "Step5\\Cl-_CH3Br          NaN       NaN  \n",
       "Step5\\[Cl_CH3_Br]-       NaN       NaN  \n",
       "Step6\\Br-                NaN       NaN  \n",
       "Step6\\CH3Br              NaN       NaN  \n",
       "Step6\\CH3Cl              NaN       NaN  \n",
       "Step6\\CH3Cl_Br-          NaN       NaN  \n",
       "Step6\\Cl-                NaN       NaN  \n",
       "Step6\\Cl-_CH3Br          NaN       NaN  \n",
       "Step6\\[Cl_CH3_Br]-       NaN       NaN  "
      ],
      "text/html": "<div>\n<style scoped>\n    .dataframe tbody tr th:only-of-type {\n        vertical-align: middle;\n    }\n\n    .dataframe tbody tr th {\n        vertical-align: top;\n    }\n\n    .dataframe thead th {\n        text-align: right;\n    }\n</style>\n<table border=\"1\" class=\"dataframe\">\n  <thead>\n    <tr style=\"text-align: right;\">\n      <th></th>\n      <th>E_sp</th>\n      <th>E_therm</th>\n      <th>H</th>\n      <th>G</th>\n      <th>G-E(el)</th>\n      <th>TS</th>\n    </tr>\n  </thead>\n  <tbody>\n    <tr>\n      <th>Step1\\Br-</th>\n      <td>-2573.783655</td>\n      <td>-2573.779406</td>\n      <td>-2573.778462</td>\n      <td>-2573.797015</td>\n      <td>-0.013360</td>\n      <td>NaN</td>\n    </tr>\n    <tr>\n      <th>Step1\\CH3Br</th>\n      <td>-2613.579210</td>\n      <td>-2613.539257</td>\n      <td>-2613.538313</td>\n      <td>-2613.567287</td>\n      <td>0.011923</td>\n      <td>0.028975</td>\n    </tr>\n    <tr>\n      <th>Step1\\CH3Cl</th>\n      <td>-499.848502</td>\n      <td>-499.808073</td>\n      <td>-499.807129</td>\n      <td>-499.834794</td>\n      <td>0.013708</td>\n      <td>0.027665</td>\n    </tr>\n    <tr>\n      <th>Step1\\Cl-</th>\n      <td>-460.023549</td>\n      <td>-460.019300</td>\n      <td>-460.018356</td>\n      <td>-460.035759</td>\n      <td>-0.012210</td>\n      <td>NaN</td>\n    </tr>\n    <tr>\n      <th>Step2\\CH3Cl_Br-</th>\n      <td>-3073.652284</td>\n      <td>-3073.609444</td>\n      <td>-3073.608500</td>\n      <td>-3073.645075</td>\n      <td>0.007209</td>\n      <td>0.036575</td>\n    </tr>\n    <tr>\n      <th>Step2\\Cl-_CH3Br</th>\n      <td>-3073.635520</td>\n      <td>-3073.593542</td>\n      <td>-3073.592597</td>\n      <td>-3073.629046</td>\n      <td>0.006473</td>\n      <td>0.036449</td>\n    </tr>\n    <tr>\n      <th>Step3\\Cl-_CH3Br</th>\n      <td>-3073.651568</td>\n      <td>NaN</td>\n      <td>NaN</td>\n      <td>NaN</td>\n      <td>NaN</td>\n      <td>NaN</td>\n    </tr>\n    <tr>\n      <th>Step4\\[Cl_CH3_Br]-</th>\n      <td>-3073.632714</td>\n      <td>-3073.591893</td>\n      <td>-3073.590949</td>\n      <td>-3073.626053</td>\n      <td>0.006661</td>\n      <td>0.035104</td>\n    </tr>\n    <tr>\n      <th>Step5\\Br-</th>\n      <td>-2574.129170</td>\n      <td>NaN</td>\n      <td>NaN</td>\n      <td>-2574.142530</td>\n      <td>NaN</td>\n      <td>NaN</td>\n    </tr>\n    <tr>\n      <th>Step5\\CH3Br</th>\n      <td>-2613.942478</td>\n      <td>NaN</td>\n      <td>NaN</td>\n      <td>-2613.930555</td>\n      <td>NaN</td>\n      <td>NaN</td>\n    </tr>\n    <tr>\n      <th>Step5\\CH3Cl</th>\n      <td>-500.060462</td>\n      <td>NaN</td>\n      <td>NaN</td>\n      <td>-500.046754</td>\n      <td>NaN</td>\n      <td>NaN</td>\n    </tr>\n    <tr>\n      <th>Step5\\CH3Cl_Br-</th>\n      <td>-3074.202621</td>\n      <td>NaN</td>\n      <td>NaN</td>\n      <td>-3074.195412</td>\n      <td>NaN</td>\n      <td>NaN</td>\n    </tr>\n    <tr>\n      <th>Step5\\Cl-</th>\n      <td>-460.234317</td>\n      <td>NaN</td>\n      <td>NaN</td>\n      <td>-460.246526</td>\n      <td>NaN</td>\n      <td>NaN</td>\n    </tr>\n    <tr>\n      <th>Step5\\Cl-_CH3Br</th>\n      <td>-3074.191893</td>\n      <td>NaN</td>\n      <td>NaN</td>\n      <td>-3074.185420</td>\n      <td>NaN</td>\n      <td>NaN</td>\n    </tr>\n    <tr>\n      <th>Step5\\[Cl_CH3_Br]-</th>\n      <td>-3074.185276</td>\n      <td>NaN</td>\n      <td>NaN</td>\n      <td>-3074.178615</td>\n      <td>NaN</td>\n      <td>NaN</td>\n    </tr>\n    <tr>\n      <th>Step6\\Br-</th>\n      <td>-2574.233566</td>\n      <td>NaN</td>\n      <td>NaN</td>\n      <td>-2574.246926</td>\n      <td>NaN</td>\n      <td>NaN</td>\n    </tr>\n    <tr>\n      <th>Step6\\CH3Br</th>\n      <td>-2613.946675</td>\n      <td>NaN</td>\n      <td>NaN</td>\n      <td>-2613.934752</td>\n      <td>NaN</td>\n      <td>NaN</td>\n    </tr>\n    <tr>\n      <th>Step6\\CH3Cl</th>\n      <td>-500.064723</td>\n      <td>NaN</td>\n      <td>NaN</td>\n      <td>-500.051015</td>\n      <td>NaN</td>\n      <td>NaN</td>\n    </tr>\n    <tr>\n      <th>Step6\\CH3Cl_Br-</th>\n      <td>-3074.294512</td>\n      <td>NaN</td>\n      <td>NaN</td>\n      <td>-3074.287302</td>\n      <td>NaN</td>\n      <td>NaN</td>\n    </tr>\n    <tr>\n      <th>Step6\\Cl-</th>\n      <td>-460.346073</td>\n      <td>NaN</td>\n      <td>NaN</td>\n      <td>-460.358282</td>\n      <td>NaN</td>\n      <td>NaN</td>\n    </tr>\n    <tr>\n      <th>Step6\\Cl-_CH3Br</th>\n      <td>-3074.284537</td>\n      <td>NaN</td>\n      <td>NaN</td>\n      <td>-3074.278063</td>\n      <td>NaN</td>\n      <td>NaN</td>\n    </tr>\n    <tr>\n      <th>Step6\\[Cl_CH3_Br]-</th>\n      <td>-3074.269733</td>\n      <td>NaN</td>\n      <td>NaN</td>\n      <td>-3074.263071</td>\n      <td>NaN</td>\n      <td>NaN</td>\n    </tr>\n  </tbody>\n</table>\n</div>"
     },
     "metadata": {},
     "execution_count": 48
    }
   ],
   "source": [
    "step1_corr = ['Br-', 'Cl-', 'CH3Br', 'CH3Cl'] \n",
    "step2_corr = ['CH3Cl_Br-', 'Cl-_CH3Br'] \n",
    "step4_corr = ['[Cl_CH3_Br]-']\n",
    "\n",
    "for stuff in step1_corr:\n",
    "    raw_res_df[f'Step5\\\\{stuff}']['G'] = raw_res_df[f'Step5\\\\{stuff}']['E_sp'] + raw_res_df[f'Step1\\\\{stuff}']['G-E(el)']\n",
    "    raw_res_df[f'Step6\\\\{stuff}']['G'] = raw_res_df[f'Step6\\\\{stuff}']['E_sp'] + raw_res_df[f'Step1\\\\{stuff}']['G-E(el)']\n",
    "for stuff in step2_corr:\n",
    "    raw_res_df[f'Step5\\\\{stuff}']['G'] = raw_res_df[f'Step5\\\\{stuff}']['E_sp'] + raw_res_df[f'Step2\\\\{stuff}']['G-E(el)']\n",
    "    raw_res_df[f'Step6\\\\{stuff}']['G'] = raw_res_df[f'Step6\\\\{stuff}']['E_sp'] + raw_res_df[f'Step2\\\\{stuff}']['G-E(el)']\n",
    "for stuff in step4_corr:\n",
    "    raw_res_df[f'Step5\\\\{stuff}']['G'] = raw_res_df[f'Step5\\\\{stuff}']['E_sp'] + raw_res_df[f'Step4\\\\{stuff}']['G-E(el)']\n",
    "    raw_res_df[f'Step6\\\\{stuff}']['G'] = raw_res_df[f'Step6\\\\{stuff}']['E_sp'] + raw_res_df[f'Step4\\\\{stuff}']['G-E(el)']\n",
    "\n",
    "raw_res_df.T"
   ]
  },
  {
   "cell_type": "code",
   "execution_count": 49,
   "metadata": {},
   "outputs": [
    {
     "output_type": "execute_result",
     "data": {
      "text/plain": [
       "                            E_sp       E_therm             H             G  \\\n",
       "Step1\\Br-          -1.615074e+06 -1.615071e+06 -1.615070e+06 -1.615082e+06   \n",
       "Step1\\CH3Br        -1.640046e+06 -1.640021e+06 -1.640020e+06 -1.640038e+06   \n",
       "Step1\\CH3Cl        -3.136597e+05 -3.136343e+05 -3.136337e+05 -3.136511e+05   \n",
       "Step1\\Cl-          -2.886691e+05 -2.886665e+05 -2.886659e+05 -2.886768e+05   \n",
       "Step2\\CH3Cl_Br-    -1.928746e+06 -1.928719e+06 -1.928718e+06 -1.928741e+06   \n",
       "Step2\\Cl-_CH3Br    -1.928735e+06 -1.928709e+06 -1.928708e+06 -1.928731e+06   \n",
       "Step4\\[Cl_CH3_Br]- -1.928734e+06 -1.928708e+06 -1.928707e+06 -1.928729e+06   \n",
       "Step5\\Br-          -1.615290e+06           NaN           NaN -1.615299e+06   \n",
       "Step5\\CH3Br        -1.640274e+06           NaN           NaN -1.640266e+06   \n",
       "Step5\\CH3Cl        -3.137927e+05           NaN           NaN -3.137841e+05   \n",
       "Step5\\CH3Cl_Br-    -1.929091e+06           NaN           NaN -1.929087e+06   \n",
       "Step5\\Cl-          -2.888014e+05           NaN           NaN -2.888091e+05   \n",
       "Step5\\Cl-_CH3Br    -1.929085e+06           NaN           NaN -1.929080e+06   \n",
       "Step5\\[Cl_CH3_Br]- -1.929080e+06           NaN           NaN -1.929076e+06   \n",
       "Step6\\Br-          -1.615356e+06           NaN           NaN -1.615364e+06   \n",
       "Step6\\CH3Br        -1.640276e+06           NaN           NaN -1.640269e+06   \n",
       "Step6\\CH3Cl        -3.137954e+05           NaN           NaN -3.137867e+05   \n",
       "Step6\\CH3Cl_Br-    -1.929149e+06           NaN           NaN -1.929144e+06   \n",
       "Step6\\Cl-          -2.888715e+05           NaN           NaN -2.888792e+05   \n",
       "Step6\\Cl-_CH3Br    -1.929143e+06           NaN           NaN -1.929139e+06   \n",
       "Step6\\[Cl_CH3_Br]- -1.929133e+06           NaN           NaN -1.929129e+06   \n",
       "\n",
       "                     G-E(el)         TS  \n",
       "Step1\\Br-          -8.383735        NaN  \n",
       "Step1\\CH3Br         7.481482  18.181886  \n",
       "Step1\\CH3Cl         8.601850  17.359912  \n",
       "Step1\\Cl-          -7.661584        NaN  \n",
       "Step2\\CH3Cl_Br-     4.523961  22.950946  \n",
       "Step2\\Cl-_CH3Br     4.062082  22.871923  \n",
       "Step4\\[Cl_CH3_Br]-  4.180079  22.027948  \n",
       "Step5\\Br-                NaN        NaN  \n",
       "Step5\\CH3Br              NaN        NaN  \n",
       "Step5\\CH3Cl              NaN        NaN  \n",
       "Step5\\CH3Cl_Br-          NaN        NaN  \n",
       "Step5\\Cl-                NaN        NaN  \n",
       "Step5\\Cl-_CH3Br          NaN        NaN  \n",
       "Step5\\[Cl_CH3_Br]-       NaN        NaN  \n",
       "Step6\\Br-                NaN        NaN  \n",
       "Step6\\CH3Br              NaN        NaN  \n",
       "Step6\\CH3Cl              NaN        NaN  \n",
       "Step6\\CH3Cl_Br-          NaN        NaN  \n",
       "Step6\\Cl-                NaN        NaN  \n",
       "Step6\\Cl-_CH3Br          NaN        NaN  \n",
       "Step6\\[Cl_CH3_Br]-       NaN        NaN  "
      ],
      "text/html": "<div>\n<style scoped>\n    .dataframe tbody tr th:only-of-type {\n        vertical-align: middle;\n    }\n\n    .dataframe tbody tr th {\n        vertical-align: top;\n    }\n\n    .dataframe thead th {\n        text-align: right;\n    }\n</style>\n<table border=\"1\" class=\"dataframe\">\n  <thead>\n    <tr style=\"text-align: right;\">\n      <th></th>\n      <th>E_sp</th>\n      <th>E_therm</th>\n      <th>H</th>\n      <th>G</th>\n      <th>G-E(el)</th>\n      <th>TS</th>\n    </tr>\n  </thead>\n  <tbody>\n    <tr>\n      <th>Step1\\Br-</th>\n      <td>-1.615074e+06</td>\n      <td>-1.615071e+06</td>\n      <td>-1.615070e+06</td>\n      <td>-1.615082e+06</td>\n      <td>-8.383735</td>\n      <td>NaN</td>\n    </tr>\n    <tr>\n      <th>Step1\\CH3Br</th>\n      <td>-1.640046e+06</td>\n      <td>-1.640021e+06</td>\n      <td>-1.640020e+06</td>\n      <td>-1.640038e+06</td>\n      <td>7.481482</td>\n      <td>18.181886</td>\n    </tr>\n    <tr>\n      <th>Step1\\CH3Cl</th>\n      <td>-3.136597e+05</td>\n      <td>-3.136343e+05</td>\n      <td>-3.136337e+05</td>\n      <td>-3.136511e+05</td>\n      <td>8.601850</td>\n      <td>17.359912</td>\n    </tr>\n    <tr>\n      <th>Step1\\Cl-</th>\n      <td>-2.886691e+05</td>\n      <td>-2.886665e+05</td>\n      <td>-2.886659e+05</td>\n      <td>-2.886768e+05</td>\n      <td>-7.661584</td>\n      <td>NaN</td>\n    </tr>\n    <tr>\n      <th>Step2\\CH3Cl_Br-</th>\n      <td>-1.928746e+06</td>\n      <td>-1.928719e+06</td>\n      <td>-1.928718e+06</td>\n      <td>-1.928741e+06</td>\n      <td>4.523961</td>\n      <td>22.950946</td>\n    </tr>\n    <tr>\n      <th>Step2\\Cl-_CH3Br</th>\n      <td>-1.928735e+06</td>\n      <td>-1.928709e+06</td>\n      <td>-1.928708e+06</td>\n      <td>-1.928731e+06</td>\n      <td>4.062082</td>\n      <td>22.871923</td>\n    </tr>\n    <tr>\n      <th>Step4\\[Cl_CH3_Br]-</th>\n      <td>-1.928734e+06</td>\n      <td>-1.928708e+06</td>\n      <td>-1.928707e+06</td>\n      <td>-1.928729e+06</td>\n      <td>4.180079</td>\n      <td>22.027948</td>\n    </tr>\n    <tr>\n      <th>Step5\\Br-</th>\n      <td>-1.615290e+06</td>\n      <td>NaN</td>\n      <td>NaN</td>\n      <td>-1.615299e+06</td>\n      <td>NaN</td>\n      <td>NaN</td>\n    </tr>\n    <tr>\n      <th>Step5\\CH3Br</th>\n      <td>-1.640274e+06</td>\n      <td>NaN</td>\n      <td>NaN</td>\n      <td>-1.640266e+06</td>\n      <td>NaN</td>\n      <td>NaN</td>\n    </tr>\n    <tr>\n      <th>Step5\\CH3Cl</th>\n      <td>-3.137927e+05</td>\n      <td>NaN</td>\n      <td>NaN</td>\n      <td>-3.137841e+05</td>\n      <td>NaN</td>\n      <td>NaN</td>\n    </tr>\n    <tr>\n      <th>Step5\\CH3Cl_Br-</th>\n      <td>-1.929091e+06</td>\n      <td>NaN</td>\n      <td>NaN</td>\n      <td>-1.929087e+06</td>\n      <td>NaN</td>\n      <td>NaN</td>\n    </tr>\n    <tr>\n      <th>Step5\\Cl-</th>\n      <td>-2.888014e+05</td>\n      <td>NaN</td>\n      <td>NaN</td>\n      <td>-2.888091e+05</td>\n      <td>NaN</td>\n      <td>NaN</td>\n    </tr>\n    <tr>\n      <th>Step5\\Cl-_CH3Br</th>\n      <td>-1.929085e+06</td>\n      <td>NaN</td>\n      <td>NaN</td>\n      <td>-1.929080e+06</td>\n      <td>NaN</td>\n      <td>NaN</td>\n    </tr>\n    <tr>\n      <th>Step5\\[Cl_CH3_Br]-</th>\n      <td>-1.929080e+06</td>\n      <td>NaN</td>\n      <td>NaN</td>\n      <td>-1.929076e+06</td>\n      <td>NaN</td>\n      <td>NaN</td>\n    </tr>\n    <tr>\n      <th>Step6\\Br-</th>\n      <td>-1.615356e+06</td>\n      <td>NaN</td>\n      <td>NaN</td>\n      <td>-1.615364e+06</td>\n      <td>NaN</td>\n      <td>NaN</td>\n    </tr>\n    <tr>\n      <th>Step6\\CH3Br</th>\n      <td>-1.640276e+06</td>\n      <td>NaN</td>\n      <td>NaN</td>\n      <td>-1.640269e+06</td>\n      <td>NaN</td>\n      <td>NaN</td>\n    </tr>\n    <tr>\n      <th>Step6\\CH3Cl</th>\n      <td>-3.137954e+05</td>\n      <td>NaN</td>\n      <td>NaN</td>\n      <td>-3.137867e+05</td>\n      <td>NaN</td>\n      <td>NaN</td>\n    </tr>\n    <tr>\n      <th>Step6\\CH3Cl_Br-</th>\n      <td>-1.929149e+06</td>\n      <td>NaN</td>\n      <td>NaN</td>\n      <td>-1.929144e+06</td>\n      <td>NaN</td>\n      <td>NaN</td>\n    </tr>\n    <tr>\n      <th>Step6\\Cl-</th>\n      <td>-2.888715e+05</td>\n      <td>NaN</td>\n      <td>NaN</td>\n      <td>-2.888792e+05</td>\n      <td>NaN</td>\n      <td>NaN</td>\n    </tr>\n    <tr>\n      <th>Step6\\Cl-_CH3Br</th>\n      <td>-1.929143e+06</td>\n      <td>NaN</td>\n      <td>NaN</td>\n      <td>-1.929139e+06</td>\n      <td>NaN</td>\n      <td>NaN</td>\n    </tr>\n    <tr>\n      <th>Step6\\[Cl_CH3_Br]-</th>\n      <td>-1.929133e+06</td>\n      <td>NaN</td>\n      <td>NaN</td>\n      <td>-1.929129e+06</td>\n      <td>NaN</td>\n      <td>NaN</td>\n    </tr>\n  </tbody>\n</table>\n</div>"
     },
     "metadata": {},
     "execution_count": 49
    }
   ],
   "source": [
    "res_df = raw_res_df.filter(regex='Step[1,2,4,5,6]') * 627.5094740631\n",
    "res_df.T"
   ]
  },
  {
   "cell_type": "code",
   "execution_count": 50,
   "metadata": {},
   "outputs": [
    {
     "output_type": "execute_result",
     "data": {
      "text/plain": [
       "                            E_sp       E_therm             H             G  \\\n",
       "Step1\\Br-          -1.615074e+06 -1.615071e+06 -1.615070e+06 -1.615082e+06   \n",
       "Step1\\CH3Br        -1.640046e+06 -1.640021e+06 -1.640020e+06 -1.640038e+06   \n",
       "Step1\\CH3Cl        -3.136597e+05 -3.136343e+05 -3.136337e+05 -3.136511e+05   \n",
       "Step1\\Cl-          -2.886691e+05 -2.886665e+05 -2.886659e+05 -2.886768e+05   \n",
       "Step2\\CH3Cl_Br-    -1.928746e+06 -1.928719e+06 -1.928718e+06 -1.928741e+06   \n",
       "Step2\\Cl-_CH3Br    -1.928735e+06 -1.928709e+06 -1.928708e+06 -1.928731e+06   \n",
       "Step4\\[Cl_CH3_Br]- -1.928734e+06 -1.928708e+06 -1.928707e+06 -1.928729e+06   \n",
       "Step5\\Br-          -1.615290e+06           NaN           NaN -1.615299e+06   \n",
       "Step5\\CH3Br        -1.640274e+06           NaN           NaN -1.640266e+06   \n",
       "Step5\\CH3Cl        -3.137927e+05           NaN           NaN -3.137841e+05   \n",
       "Step5\\CH3Cl_Br-    -1.929091e+06           NaN           NaN -1.929087e+06   \n",
       "Step5\\Cl-          -2.888014e+05           NaN           NaN -2.888091e+05   \n",
       "Step5\\Cl-_CH3Br    -1.929085e+06           NaN           NaN -1.929080e+06   \n",
       "Step5\\[Cl_CH3_Br]- -1.929080e+06           NaN           NaN -1.929076e+06   \n",
       "Step6\\Br-          -1.615356e+06           NaN           NaN -1.615364e+06   \n",
       "Step6\\CH3Br        -1.640276e+06           NaN           NaN -1.640269e+06   \n",
       "Step6\\CH3Cl        -3.137954e+05           NaN           NaN -3.137867e+05   \n",
       "Step6\\CH3Cl_Br-    -1.929149e+06           NaN           NaN -1.929144e+06   \n",
       "Step6\\Cl-          -2.888715e+05           NaN           NaN -2.888792e+05   \n",
       "Step6\\Cl-_CH3Br    -1.929143e+06           NaN           NaN -1.929139e+06   \n",
       "Step6\\[Cl_CH3_Br]- -1.929133e+06           NaN           NaN -1.929129e+06   \n",
       "Step1\\Cl- + CH3Br  -1.928715e+06 -1.928687e+06 -1.928686e+06 -1.928715e+06   \n",
       "Step1\\CH3Cl + Br-  -1.928733e+06 -1.928705e+06 -1.928704e+06 -1.928733e+06   \n",
       "Step5\\Cl- + CH3Br  -1.929075e+06           NaN           NaN -1.929075e+06   \n",
       "Step5\\CH3Cl + Br-  -1.929083e+06           NaN           NaN -1.929083e+06   \n",
       "Step6\\Cl- + CH3Br  -1.929148e+06           NaN           NaN -1.929148e+06   \n",
       "Step6\\CH3Cl + Br-  -1.929151e+06           NaN           NaN -1.929151e+06   \n",
       "\n",
       "                     G-E(el)         TS  \n",
       "Step1\\Br-          -8.383735        NaN  \n",
       "Step1\\CH3Br         7.481482  18.181886  \n",
       "Step1\\CH3Cl         8.601850  17.359912  \n",
       "Step1\\Cl-          -7.661584        NaN  \n",
       "Step2\\CH3Cl_Br-     4.523961  22.950946  \n",
       "Step2\\Cl-_CH3Br     4.062082  22.871923  \n",
       "Step4\\[Cl_CH3_Br]-  4.180079  22.027948  \n",
       "Step5\\Br-                NaN        NaN  \n",
       "Step5\\CH3Br              NaN        NaN  \n",
       "Step5\\CH3Cl              NaN        NaN  \n",
       "Step5\\CH3Cl_Br-          NaN        NaN  \n",
       "Step5\\Cl-                NaN        NaN  \n",
       "Step5\\Cl-_CH3Br          NaN        NaN  \n",
       "Step5\\[Cl_CH3_Br]-       NaN        NaN  \n",
       "Step6\\Br-                NaN        NaN  \n",
       "Step6\\CH3Br              NaN        NaN  \n",
       "Step6\\CH3Cl              NaN        NaN  \n",
       "Step6\\CH3Cl_Br-          NaN        NaN  \n",
       "Step6\\Cl-                NaN        NaN  \n",
       "Step6\\Cl-_CH3Br          NaN        NaN  \n",
       "Step6\\[Cl_CH3_Br]-       NaN        NaN  \n",
       "Step1\\Cl- + CH3Br  -0.180102        NaN  \n",
       "Step1\\CH3Cl + Br-   0.218114        NaN  \n",
       "Step5\\Cl- + CH3Br        NaN        NaN  \n",
       "Step5\\CH3Cl + Br-        NaN        NaN  \n",
       "Step6\\Cl- + CH3Br        NaN        NaN  \n",
       "Step6\\CH3Cl + Br-        NaN        NaN  "
      ],
      "text/html": "<div>\n<style scoped>\n    .dataframe tbody tr th:only-of-type {\n        vertical-align: middle;\n    }\n\n    .dataframe tbody tr th {\n        vertical-align: top;\n    }\n\n    .dataframe thead th {\n        text-align: right;\n    }\n</style>\n<table border=\"1\" class=\"dataframe\">\n  <thead>\n    <tr style=\"text-align: right;\">\n      <th></th>\n      <th>E_sp</th>\n      <th>E_therm</th>\n      <th>H</th>\n      <th>G</th>\n      <th>G-E(el)</th>\n      <th>TS</th>\n    </tr>\n  </thead>\n  <tbody>\n    <tr>\n      <th>Step1\\Br-</th>\n      <td>-1.615074e+06</td>\n      <td>-1.615071e+06</td>\n      <td>-1.615070e+06</td>\n      <td>-1.615082e+06</td>\n      <td>-8.383735</td>\n      <td>NaN</td>\n    </tr>\n    <tr>\n      <th>Step1\\CH3Br</th>\n      <td>-1.640046e+06</td>\n      <td>-1.640021e+06</td>\n      <td>-1.640020e+06</td>\n      <td>-1.640038e+06</td>\n      <td>7.481482</td>\n      <td>18.181886</td>\n    </tr>\n    <tr>\n      <th>Step1\\CH3Cl</th>\n      <td>-3.136597e+05</td>\n      <td>-3.136343e+05</td>\n      <td>-3.136337e+05</td>\n      <td>-3.136511e+05</td>\n      <td>8.601850</td>\n      <td>17.359912</td>\n    </tr>\n    <tr>\n      <th>Step1\\Cl-</th>\n      <td>-2.886691e+05</td>\n      <td>-2.886665e+05</td>\n      <td>-2.886659e+05</td>\n      <td>-2.886768e+05</td>\n      <td>-7.661584</td>\n      <td>NaN</td>\n    </tr>\n    <tr>\n      <th>Step2\\CH3Cl_Br-</th>\n      <td>-1.928746e+06</td>\n      <td>-1.928719e+06</td>\n      <td>-1.928718e+06</td>\n      <td>-1.928741e+06</td>\n      <td>4.523961</td>\n      <td>22.950946</td>\n    </tr>\n    <tr>\n      <th>Step2\\Cl-_CH3Br</th>\n      <td>-1.928735e+06</td>\n      <td>-1.928709e+06</td>\n      <td>-1.928708e+06</td>\n      <td>-1.928731e+06</td>\n      <td>4.062082</td>\n      <td>22.871923</td>\n    </tr>\n    <tr>\n      <th>Step4\\[Cl_CH3_Br]-</th>\n      <td>-1.928734e+06</td>\n      <td>-1.928708e+06</td>\n      <td>-1.928707e+06</td>\n      <td>-1.928729e+06</td>\n      <td>4.180079</td>\n      <td>22.027948</td>\n    </tr>\n    <tr>\n      <th>Step5\\Br-</th>\n      <td>-1.615290e+06</td>\n      <td>NaN</td>\n      <td>NaN</td>\n      <td>-1.615299e+06</td>\n      <td>NaN</td>\n      <td>NaN</td>\n    </tr>\n    <tr>\n      <th>Step5\\CH3Br</th>\n      <td>-1.640274e+06</td>\n      <td>NaN</td>\n      <td>NaN</td>\n      <td>-1.640266e+06</td>\n      <td>NaN</td>\n      <td>NaN</td>\n    </tr>\n    <tr>\n      <th>Step5\\CH3Cl</th>\n      <td>-3.137927e+05</td>\n      <td>NaN</td>\n      <td>NaN</td>\n      <td>-3.137841e+05</td>\n      <td>NaN</td>\n      <td>NaN</td>\n    </tr>\n    <tr>\n      <th>Step5\\CH3Cl_Br-</th>\n      <td>-1.929091e+06</td>\n      <td>NaN</td>\n      <td>NaN</td>\n      <td>-1.929087e+06</td>\n      <td>NaN</td>\n      <td>NaN</td>\n    </tr>\n    <tr>\n      <th>Step5\\Cl-</th>\n      <td>-2.888014e+05</td>\n      <td>NaN</td>\n      <td>NaN</td>\n      <td>-2.888091e+05</td>\n      <td>NaN</td>\n      <td>NaN</td>\n    </tr>\n    <tr>\n      <th>Step5\\Cl-_CH3Br</th>\n      <td>-1.929085e+06</td>\n      <td>NaN</td>\n      <td>NaN</td>\n      <td>-1.929080e+06</td>\n      <td>NaN</td>\n      <td>NaN</td>\n    </tr>\n    <tr>\n      <th>Step5\\[Cl_CH3_Br]-</th>\n      <td>-1.929080e+06</td>\n      <td>NaN</td>\n      <td>NaN</td>\n      <td>-1.929076e+06</td>\n      <td>NaN</td>\n      <td>NaN</td>\n    </tr>\n    <tr>\n      <th>Step6\\Br-</th>\n      <td>-1.615356e+06</td>\n      <td>NaN</td>\n      <td>NaN</td>\n      <td>-1.615364e+06</td>\n      <td>NaN</td>\n      <td>NaN</td>\n    </tr>\n    <tr>\n      <th>Step6\\CH3Br</th>\n      <td>-1.640276e+06</td>\n      <td>NaN</td>\n      <td>NaN</td>\n      <td>-1.640269e+06</td>\n      <td>NaN</td>\n      <td>NaN</td>\n    </tr>\n    <tr>\n      <th>Step6\\CH3Cl</th>\n      <td>-3.137954e+05</td>\n      <td>NaN</td>\n      <td>NaN</td>\n      <td>-3.137867e+05</td>\n      <td>NaN</td>\n      <td>NaN</td>\n    </tr>\n    <tr>\n      <th>Step6\\CH3Cl_Br-</th>\n      <td>-1.929149e+06</td>\n      <td>NaN</td>\n      <td>NaN</td>\n      <td>-1.929144e+06</td>\n      <td>NaN</td>\n      <td>NaN</td>\n    </tr>\n    <tr>\n      <th>Step6\\Cl-</th>\n      <td>-2.888715e+05</td>\n      <td>NaN</td>\n      <td>NaN</td>\n      <td>-2.888792e+05</td>\n      <td>NaN</td>\n      <td>NaN</td>\n    </tr>\n    <tr>\n      <th>Step6\\Cl-_CH3Br</th>\n      <td>-1.929143e+06</td>\n      <td>NaN</td>\n      <td>NaN</td>\n      <td>-1.929139e+06</td>\n      <td>NaN</td>\n      <td>NaN</td>\n    </tr>\n    <tr>\n      <th>Step6\\[Cl_CH3_Br]-</th>\n      <td>-1.929133e+06</td>\n      <td>NaN</td>\n      <td>NaN</td>\n      <td>-1.929129e+06</td>\n      <td>NaN</td>\n      <td>NaN</td>\n    </tr>\n    <tr>\n      <th>Step1\\Cl- + CH3Br</th>\n      <td>-1.928715e+06</td>\n      <td>-1.928687e+06</td>\n      <td>-1.928686e+06</td>\n      <td>-1.928715e+06</td>\n      <td>-0.180102</td>\n      <td>NaN</td>\n    </tr>\n    <tr>\n      <th>Step1\\CH3Cl + Br-</th>\n      <td>-1.928733e+06</td>\n      <td>-1.928705e+06</td>\n      <td>-1.928704e+06</td>\n      <td>-1.928733e+06</td>\n      <td>0.218114</td>\n      <td>NaN</td>\n    </tr>\n    <tr>\n      <th>Step5\\Cl- + CH3Br</th>\n      <td>-1.929075e+06</td>\n      <td>NaN</td>\n      <td>NaN</td>\n      <td>-1.929075e+06</td>\n      <td>NaN</td>\n      <td>NaN</td>\n    </tr>\n    <tr>\n      <th>Step5\\CH3Cl + Br-</th>\n      <td>-1.929083e+06</td>\n      <td>NaN</td>\n      <td>NaN</td>\n      <td>-1.929083e+06</td>\n      <td>NaN</td>\n      <td>NaN</td>\n    </tr>\n    <tr>\n      <th>Step6\\Cl- + CH3Br</th>\n      <td>-1.929148e+06</td>\n      <td>NaN</td>\n      <td>NaN</td>\n      <td>-1.929148e+06</td>\n      <td>NaN</td>\n      <td>NaN</td>\n    </tr>\n    <tr>\n      <th>Step6\\CH3Cl + Br-</th>\n      <td>-1.929151e+06</td>\n      <td>NaN</td>\n      <td>NaN</td>\n      <td>-1.929151e+06</td>\n      <td>NaN</td>\n      <td>NaN</td>\n    </tr>\n  </tbody>\n</table>\n</div>"
     },
     "metadata": {},
     "execution_count": 50
    }
   ],
   "source": [
    "res_df['Step1\\\\Cl- + CH3Br'] = res_df['Step1\\Cl-'] + res_df['Step1\\CH3Br']\n",
    "res_df['Step1\\\\CH3Cl + Br-'] = res_df['Step1\\Br-'] + res_df['Step1\\CH3Cl']\n",
    "res_df['Step5\\\\Cl- + CH3Br'] = res_df['Step5\\Cl-'] + res_df['Step5\\CH3Br']\n",
    "res_df['Step5\\\\CH3Cl + Br-'] = res_df['Step5\\Br-'] + res_df['Step5\\CH3Cl']\n",
    "res_df['Step6\\\\Cl- + CH3Br'] = res_df['Step6\\Cl-'] + res_df['Step6\\CH3Br']\n",
    "res_df['Step6\\\\CH3Cl + Br-'] = res_df['Step6\\Br-'] + res_df['Step6\\CH3Cl']\n",
    "res_df.T"
   ]
  },
  {
   "source": [
    "We see that the the lowest energy state before the transition state is $Cl^-\\;-\\; CH_3Br$ with -3073.611844 Ha"
   ],
   "cell_type": "markdown",
   "metadata": {}
  },
  {
   "cell_type": "code",
   "execution_count": 56,
   "metadata": {},
   "outputs": [],
   "source": [
    "svp_ref = res_df['Step2\\\\Cl-_CH3Br']\n",
    "tzvpd_ref = res_df['Step5\\\\Cl-_CH3Br']\n",
    "cpcmdmf_ref = res_df['Step6\\\\Cl- + CH3Br']"
   ]
  },
  {
   "cell_type": "code",
   "execution_count": 57,
   "metadata": {},
   "outputs": [
    {
     "output_type": "execute_result",
     "data": {
      "text/plain": [
       "Step2\\CH3Cl_Br-      -10.057923\n",
       "Step2\\Cl-_CH3Br        0.000000\n",
       "Step4\\[Cl_CH3_Br]-     1.878525\n",
       "Step1\\Cl- + CH3Br     16.315366\n",
       "Step1\\CH3Cl + Br-     -1.733853\n",
       "Name: G, dtype: float64"
      ]
     },
     "metadata": {},
     "execution_count": 57
    }
   ],
   "source": [
    "(res_df.filter(regex=r'Step[1,2,4]\\\\[\\[]?[A-Za-z0-9-]*\\S.[_+]+').T - svp_ref)['G'].T"
   ]
  },
  {
   "cell_type": "code",
   "execution_count": 58,
   "metadata": {},
   "outputs": [
    {
     "output_type": "execute_result",
     "data": {
      "text/plain": [
       "Step5\\CH3Cl_Br-      -6.270190\n",
       "Step5\\Cl-_CH3Br       0.000000\n",
       "Step5\\[Cl_CH3_Br]-    4.270363\n",
       "Step5\\Cl- + CH3Br     5.232591\n",
       "Step5\\CH3Cl + Br-    -2.424877\n",
       "Name: G, dtype: float64"
      ]
     },
     "metadata": {},
     "execution_count": 58
    }
   ],
   "source": [
    "(res_df.filter(regex=r'Step[5]\\\\[\\[]?[A-Za-z0-9-]*\\S.[_+]+').T - tzvpd_ref)['G'].T"
   ]
  },
  {
   "cell_type": "code",
   "execution_count": 59,
   "metadata": {},
   "outputs": [
    {
     "output_type": "execute_result",
     "data": {
      "text/plain": [
       "Step6\\CH3Cl_Br-        3.597008\n",
       "Step6\\Cl-_CH3Br        9.394677\n",
       "Step6\\[Cl_CH3_Br]-    18.802146\n",
       "Step6\\Cl- + CH3Br      0.000000\n",
       "Step6\\CH3Cl + Br-     -3.078803\n",
       "Name: G, dtype: float64"
      ]
     },
     "metadata": {},
     "execution_count": 59
    }
   ],
   "source": [
    "(res_df.filter(regex=r'Step[6]\\\\[\\[]?[A-Za-z0-9-]*\\S.[_+]+').T - cpcmdmf_ref)['G'].T"
   ]
  },
  {
   "cell_type": "code",
   "execution_count": 60,
   "metadata": {},
   "outputs": [
    {
     "output_type": "execute_result",
     "data": {
      "text/plain": [
       "0.09039619125396903"
      ]
     },
     "metadata": {},
     "execution_count": 60
    }
   ],
   "source": [
    "# 1 kcal/mol = 4184 J/mol\n",
    "def eyring(dG, T=297, unit='J/mol'):\n",
    "    if unit == 'J/mol':\n",
    "        pass\n",
    "    elif unit == 'kcal/mol':\n",
    "        dG *= 4184\n",
    "    else:\n",
    "        print(f\"Unknown unit: {unit}\")\n",
    "        return None\n",
    "    kappa = 1 # according to the instructions\n",
    "    kB = 1.380649e-23 # J/K\n",
    "    planck = 6.62607015e-34 # Js\n",
    "    R = 8.31446261815324 # J/K/mol\n",
    "    k = kappa * (kB * T / planck) * np.exp(-dG / (R * T)) # This should then have the unit 1/s\n",
    "    return k\n",
    "\n",
    "eyring(18.802146, unit='kcal/mol')"
   ]
  },
  {
   "cell_type": "code",
   "execution_count": 32,
   "metadata": {},
   "outputs": [
    {
     "output_type": "stream",
     "name": "stdout",
     "text": [
      "\\begin{tabular}{lrrrr}\n\\toprule\n{} &        E_sp &           H &           G &  G-E(el) \\\\\n\\midrule\n\\ce{Br- }         & -1615073.63 & -1615070.37 & -1615082.01 &    -8.38 \\\\\n\\ce{CH3Br }       & -1640045.72 & -1640020.05 & -1640038.23 &     7.48 \\\\\n\\ce{CH3Cl }       &  -313659.67 &  -313633.71 &  -313651.07 &     8.60 \\\\\n\\ce{CH3Cl }+ Br-  & -1928733.30 & -1928704.08 & -1928733.08 &     0.22 \\\\\n\\ce{Cl- }         &  -288669.14 &  -288665.88 &  -288676.80 &    -7.66 \\\\\n\\ce{Cl- }+ CH3Br  & -1928714.85 & -1928685.93 & -1928715.03 &    -0.18 \\\\\n\\ce{CH3Cl_Br- }   & -1928745.93 & -1928718.45 & -1928741.40 &     4.52 \\\\\n\\ce{Cl-_CH3Br }   & -1928735.41 & -1928708.47 & -1928731.35 &     4.06 \\\\\n\\ce{[Cl_CH3_Br]- }& -1928733.65 & -1928707.44 & -1928729.47 &     4.18 \\\\\n\\ce{Br- }         & -1615290.44 &         - & -1615282.06 &      nan \\\\\n\\ce{CH3Br }       & -1640273.67 &         - & -1640281.15 &      nan \\\\\n\\ce{CH3Cl }       &  -313792.68 &         - &  -313801.28 &      nan \\\\\n\\ce{CH3Cl }+ Br-  & -1929083.12 &         - & -1929083.34 &      nan \\\\\n\\ce{CH3Cl_Br- }   & -1929091.27 &         - & -1929095.79 &      nan \\\\\n\\ce{Cl- }         &  -288801.39 &         - &  -288793.73 &      nan \\\\\n\\ce{Cl- }+ CH3Br  & -1929075.06 &         - & -1929074.88 &      nan \\\\\n\\ce{Cl-_CH3Br }   & -1929084.54 &         - & -1929088.60 &      nan \\\\\n\\ce{[Cl_CH3_Br]- }& -1929080.39 &         - & -1929084.57 &      nan \\\\\n\\ce{Br- }         & -1615355.95 &         - & -1615347.57 &      nan \\\\\n\\ce{CH3Br }       & -1640276.30 &         - & -1640283.78 &      nan \\\\\n\\ce{CH3Cl }       &  -313795.35 &         - &  -313803.95 &      nan \\\\\n\\ce{CH3Cl }+ Br-  & -1929151.30 &         - & -1929151.52 &      nan \\\\\n\\ce{CH3Cl_Br- }   & -1929148.93 &         - & -1929153.46 &      nan \\\\\n\\ce{Cl- }         &  -288871.52 &         - &  -288863.86 &      nan \\\\\n\\ce{Cl- }+ CH3Br  & -1929147.83 &         - & -1929147.65 &      nan \\\\\n\\ce{Cl-_CH3Br }   & -1929142.67 &         - & -1929146.73 &      nan \\\\\n\\ce{[Cl_CH3_Br]- }& -1929133.38 &         - & -1929137.56 &      nan \\\\\n\\bottomrule\n\\end{tabular}\n\n"
     ]
    }
   ],
   "source": [
    "table = res_df.T[['E_sp', 'H', 'G', 'G-E(el)']].sort_index().to_latex(na_rep='-', float_format='{:0.2f}'.format, escape=False)\n",
    "\n",
    "lines = table.split('\\n')\n",
    "for i, line in enumerate(lines):\n",
    "    pattern = re.compile(r'Step[0-9]+\\\\(?:\\[?[A-Za-z0-9-]+[\\s+\\s]?[_]?\\]?)*')#\\\\')\n",
    "    matches = pattern.findall(line)\n",
    "    if len(matches) == 1:\n",
    "        mol = matches[0].split('\\\\')[1]\n",
    "        tex_mol = f\"\\ce{{{mol}}}\"\n",
    "        new_line = line.replace(matches[0], tex_mol)\n",
    "        new_line = new_line.replace(' nan &', ' - &')\n",
    "        lines[i] = new_line\n",
    "\n",
    "\n",
    "table = '\\n'.join(lines)\n",
    "\n",
    "print(table)"
   ]
  },
  {
   "cell_type": "code",
   "execution_count": null,
   "metadata": {},
   "outputs": [],
   "source": []
  },
  {
   "cell_type": "code",
   "execution_count": null,
   "metadata": {},
   "outputs": [],
   "source": []
  }
 ]
}