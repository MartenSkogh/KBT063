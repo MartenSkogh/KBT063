{
 "metadata": {
  "language_info": {
   "codemirror_mode": {
    "name": "ipython",
    "version": 3
   },
   "file_extension": ".py",
   "mimetype": "text/x-python",
   "name": "python",
   "nbconvert_exporter": "python",
   "pygments_lexer": "ipython3",
   "version": "3.9.0-final"
  },
  "orig_nbformat": 2,
  "kernelspec": {
   "name": "python39064bitdaaff2096a7b4510bbb92f48874e3962",
   "display_name": "Python 3.9.0 64-bit"
  }
 },
 "nbformat": 4,
 "nbformat_minor": 2,
 "cells": [
  {
   "cell_type": "code",
   "execution_count": 1,
   "metadata": {},
   "outputs": [],
   "source": [
    "import os\n",
    "import time\n",
    "import subprocess\n",
    "import glob\n",
    "from pprint import pprint\n",
    "import numpy as np\n",
    "from numpy.linalg import norm\n",
    "import itertools \n",
    "import re\n",
    "import pandas as pd\n",
    "import shutil\n",
    "\n",
    "root_dir = os.getcwd() + '\\..'\n",
    "sys.path.append(root_dir)\n",
    "\n",
    "from orca_wrapper import run_orca, parse_orca_output, default_search_terms, get_imaginary_modes\n",
    "\n",
    "os.chdir('Orca_Calculations/')"
   ]
  },
  {
   "source": [
    "# Step 1 - Optimize Non-interacting Geometries"
   ],
   "cell_type": "markdown",
   "metadata": {}
  },
  {
   "cell_type": "code",
   "execution_count": 2,
   "metadata": {},
   "outputs": [
    {
     "output_type": "execute_result",
     "data": {
      "text/plain": [
       "['Step1\\\\Br-.out', 'Step1\\\\CH3Br.out', 'Step1\\\\CH3Cl.out', 'Step1\\\\Cl-.out']"
      ]
     },
     "metadata": {},
     "execution_count": 2
    }
   ],
   "source": [
    "step_dir = 'Step1/'\n",
    "input_files = glob.glob(f'{step_dir}/*.inp')\n",
    "output_files = [i_file.replace('.inp', '.out') for i_file in input_files]\n",
    "output_files"
   ]
  },
  {
   "cell_type": "code",
   "execution_count": 3,
   "metadata": {},
   "outputs": [
    {
     "output_type": "stream",
     "name": "stdout",
     "text": [
      "\n",
      "Running \"Step1\\Br-.inp\"\n",
      "Writing to \"Step1\\Br-.out\"\n",
      "\n",
      "Running \"Step1\\CH3Br.inp\"\n",
      "Writing to \"Step1\\CH3Br.out\"\n",
      "\n",
      "Running \"Step1\\CH3Cl.inp\"\n",
      "Writing to \"Step1\\CH3Cl.out\"\n",
      "\n",
      "Running \"Step1\\Cl-.inp\"\n",
      "Writing to \"Step1\\Cl-.out\"\n"
     ]
    }
   ],
   "source": [
    "for i_file in input_files:\n",
    "    run_orca(i_file)"
   ]
  },
  {
   "source": [
    "# Step 2 - Optimize Weakly Interacting Geometries"
   ],
   "cell_type": "markdown",
   "metadata": {}
  },
  {
   "cell_type": "code",
   "execution_count": 5,
   "metadata": {},
   "outputs": [
    {
     "output_type": "stream",
     "name": "stdout",
     "text": [
      "6\nCoordinates from ORCA-job Step1\\CH3Br\n  C   -0.00128235936520     -0.00000008905151     -0.00000004332922\n  Br  1.95252041558401     -0.00000089813715     -0.00000011893171\n  H   -0.34394901558420      1.04129517652484      0.00477118112605\n  H   -0.34394724171098     -0.52477881350138      0.89940066726025\n  H   -0.34394698742363     -0.51651543223481     -0.90417168852537\n  Cl  -3.7                  0.0                    0.0\n6\nCoordinates from ORCA-job Step1\\CH3Cl\n  C   -0.00625646205785      0.00000098945494     -0.00000010575368\n  Cl  1.78918679893258     -0.00000273099634      0.00000009138449\n  H   -0.36235932920563      1.03838548800012      0.00475773257704\n  H   -0.36235393659441     -0.52331198586870      0.89688273308291\n  H   -0.36235418257468     -0.51507161269001     -0.90164043359077\n  Br  -3.7                  0.0                    0.0\n"
     ]
    }
   ],
   "source": [
    "# Use the optimized geometry for CH3Br as a starting point for our sweep\n",
    "with open('Step1/CH3Br.xyz') as init_xyz:\n",
    "    lines = init_xyz.readlines()\n",
    "    nbr_atoms_before = lines[0].strip()\n",
    "    nbr_atoms_after = 6\n",
    "    lines[0] = f'{nbr_atoms_after}\\n'\n",
    "    lines.append('  Cl  -3.7                  0.0                    0.0\\n')\n",
    "\n",
    "for line in lines:\n",
    "    print(line, end='')\n",
    "\n",
    "with open('Step2/Cl-_CH3Br_init.xyz', 'w') as new_xyz:\n",
    "    new_xyz.write(''.join(lines))\n",
    "\n",
    "# Use the optimized geometry for CH3Cl as a starting point for our sweep\n",
    "with open('Step1/CH3Cl.xyz') as init_xyz:\n",
    "    lines = init_xyz.readlines()\n",
    "    nbr_atoms_before = lines[0].strip()\n",
    "    nbr_atoms_after = 6\n",
    "    lines[0] = f'{nbr_atoms_after}\\n'\n",
    "    lines.append('  Br  -3.7                  0.0                    0.0\\n')\n",
    "\n",
    "for line in lines:\n",
    "    print(line, end='')\n",
    "\n",
    "with open('Step2/CH3Cl_Br-_init.xyz', 'w') as new_xyz:\n",
    "    new_xyz.write(''.join(lines))"
   ]
  },
  {
   "cell_type": "code",
   "execution_count": 6,
   "metadata": {},
   "outputs": [
    {
     "output_type": "execute_result",
     "data": {
      "text/plain": [
       "['Step2\\\\CH3Cl_Br-.out', 'Step2\\\\Cl-_CH3Br.out']"
      ]
     },
     "metadata": {},
     "execution_count": 6
    }
   ],
   "source": [
    "input_files = glob.glob(f'Step2/*.inp')\n",
    "output_files = [i_file.replace('.inp', '.out') for i_file in input_files]\n",
    "output_files"
   ]
  },
  {
   "cell_type": "code",
   "execution_count": 7,
   "metadata": {},
   "outputs": [
    {
     "output_type": "stream",
     "name": "stdout",
     "text": [
      "\n",
      "Running \"Step2\\CH3Cl_Br-.inp\"\n",
      "Writing to \"Step2\\CH3Cl_Br-.out\"\n",
      "\n",
      "Running \"Step2\\Cl-_CH3Br.inp\"\n",
      "Writing to \"Step2\\Cl-_CH3Br.out\"\n"
     ]
    }
   ],
   "source": [
    "for i_file in input_files:\n",
    "    run_orca(i_file)"
   ]
  },
  {
   "source": [
    "# Step 3 - Scan for Transition State"
   ],
   "cell_type": "markdown",
   "metadata": {}
  },
  {
   "cell_type": "code",
   "execution_count": 8,
   "metadata": {},
   "outputs": [
    {
     "output_type": "execute_result",
     "data": {
      "text/plain": [
       "'Step3/Cl-_CH3Br_init.xyz'"
      ]
     },
     "metadata": {},
     "execution_count": 8
    }
   ],
   "source": [
    "shutil.copy('Step2/Cl-_CH3Br.xyz', 'Step3/Cl-_CH3Br_init.xyz')"
   ]
  },
  {
   "cell_type": "code",
   "execution_count": 9,
   "metadata": {},
   "outputs": [],
   "source": [
    "step_dir = 'Step3'\n",
    "input_files = glob.glob(f'{step_dir}/*.inp')\n",
    "output_files = [i_file.replace('.inp', '.out') for i_file in input_files]\n"
   ]
  },
  {
   "cell_type": "code",
   "execution_count": 10,
   "metadata": {},
   "outputs": [
    {
     "output_type": "stream",
     "name": "stdout",
     "text": [
      "\n",
      "Running \"Step3\\Cl-_CH3Br.inp\"\n",
      "Writing to \"Step3\\Cl-_CH3Br.out\"\n"
     ]
    }
   ],
   "source": [
    "for i_file in input_files:\n",
    "    run_orca(i_file)"
   ]
  },
  {
   "cell_type": "code",
   "execution_count": 11,
   "metadata": {},
   "outputs": [
    {
     "output_type": "stream",
     "name": "stdout",
     "text": [
      "['   2.90000000 -3073.63538623', '   2.70000000 -3073.63446451', '   2.50000000 -3073.63260691', '   2.30000000 -3073.63602085', '   2.10000000 -3073.64416383', '   1.90000000 -3073.65156792']\n[-3073.63538623,\n -3073.63446451,\n -3073.63260691,\n -3073.63602085,\n -3073.64416383,\n -3073.65156792]\n\nTransition state supected at index 3\n"
     ]
    }
   ],
   "source": [
    "for o_file in output_files:\n",
    "    # get the highest energy transition state\n",
    "    with open(o_file, 'r') as of:\n",
    "        content = of.read()\n",
    "        split_str = \"The Calculated Surface using the 'Actual Energy'\\n\"\n",
    "        trans_state_values = content.split(split_str)[1].split('\\n\\n',1)[0].split('\\n')\n",
    "    print(trans_state_values)\n",
    "    energies = [float(s.strip().split()[1]) for s in trans_state_values ]\n",
    "\n",
    "pprint(energies)\n",
    "\n",
    "ts_index = np.argmax(energies) + 1\n",
    "print(f'\\nTransition state supected at index {ts_index}')"
   ]
  },
  {
   "source": [
    "# Step 4 - Find Imaginary Modes"
   ],
   "cell_type": "markdown",
   "metadata": {}
  },
  {
   "cell_type": "code",
   "execution_count": 12,
   "metadata": {},
   "outputs": [
    {
     "output_type": "execute_result",
     "data": {
      "text/plain": [
       "'Step4/Cl-_CH3Br_TS_init.xyz'"
      ]
     },
     "metadata": {},
     "execution_count": 12
    }
   ],
   "source": [
    "shutil.copy(f'Step3/Cl-_CH3Br.{ts_index:03}.xyz', 'Step4/Cl-_CH3Br_TS_init.xyz')"
   ]
  },
  {
   "cell_type": "code",
   "execution_count": 13,
   "metadata": {},
   "outputs": [
    {
     "output_type": "execute_result",
     "data": {
      "text/plain": [
       "['Step4\\\\[Cl_CH3_Br]-.out']"
      ]
     },
     "metadata": {},
     "execution_count": 13
    }
   ],
   "source": [
    "input_files = glob.glob(f'Step4/*.inp')\n",
    "output_files = [i_file.replace('.inp', '.out') for i_file in input_files]\n",
    "output_files"
   ]
  },
  {
   "cell_type": "code",
   "execution_count": 14,
   "metadata": {},
   "outputs": [
    {
     "output_type": "stream",
     "name": "stdout",
     "text": [
      "\n",
      "Running \"Step4\\[Cl_CH3_Br]-.inp\"\n",
      "Writing to \"Step4\\[Cl_CH3_Br]-.out\"\n"
     ]
    }
   ],
   "source": [
    "for i_file in input_files:\n",
    "    run_orca(i_file)"
   ]
  },
  {
   "cell_type": "code",
   "execution_count": 18,
   "metadata": {},
   "outputs": [
    {
     "output_type": "stream",
     "name": "stdout",
     "text": [
      "Reaction coordinate given by mode 6 with imaginary frequency -282.42 cm**-1\n"
     ]
    }
   ],
   "source": [
    "im_freq_lines = get_imaginary_modes(output_files[0])\n",
    "im_freqs = []\n",
    "im_freq_idx = []\n",
    "for line in im_freq_lines:\n",
    "    idx_str, freq_str, _ = line.split(None, 2)\n",
    "    idx = int(idx_str[:-1])\n",
    "    freq = float(freq_str)\n",
    "    if idx not in im_freq_idx:\n",
    "        im_freq_idx.append(idx)\n",
    "        im_freqs.append(freq)\n",
    "\n",
    "if len(im_freq_idx) > 1:\n",
    "    print(\"More than one imginary frequency found! This is not a transition state!\")\n",
    "    print(im_freq_lines)\n",
    "elif len(im_freq_idx) < 1:\n",
    "    print(\"No imgaginary frequencies found!\")\n",
    "else:\n",
    "    reaction_idx = im_freq_idx[0]\n",
    "    print(f\"Reaction coordinate given by mode {reaction_idx} with imaginary frequency {im_freqs[0]} cm**-1\")"
   ]
  },
  {
   "cell_type": "code",
   "execution_count": 16,
   "metadata": {},
   "outputs": [
    {
     "output_type": "stream",
     "name": "stdout",
     "text": [
      "Step4\\[Cl_CH3_Br]-.hess\nThe file is being recognized as a valid orca hessian file\nWill plot 1 vibrations:\n   6\ncreating: Step4\\[Cl_CH3_Br]-.hess.v006.xyz\n\n"
     ]
    }
   ],
   "source": [
    "hess_file = [i_file.replace('.inp', '.hess') for i_file in input_files]\n",
    "print(hess_file[0])\n",
    "p_out = subprocess.run(['orca_pltvib', hess_file[0], str(reaction_idx)], capture_output=True)\n",
    "if p_out.stderr:\n",
    "    print(p_out.stderr.decode())\n",
    "print(p_out.stdout.decode())"
   ]
  },
  {
   "source": [
    "# Step 5 - Single Point Calculations with Bigger Basis"
   ],
   "cell_type": "markdown",
   "metadata": {}
  },
  {
   "cell_type": "code",
   "execution_count": 17,
   "metadata": {},
   "outputs": [
    {
     "output_type": "execute_result",
     "data": {
      "text/plain": [
       "['Step5\\\\Br-.out',\n",
       " 'Step5\\\\CH3Br.out',\n",
       " 'Step5\\\\CH3Cl.out',\n",
       " 'Step5\\\\CH3Cl_Br-.out',\n",
       " 'Step5\\\\Cl-.out',\n",
       " 'Step5\\\\Cl-_CH3Br.out',\n",
       " 'Step5\\\\[Cl_CH3_Br]-.out']"
      ]
     },
     "metadata": {},
     "execution_count": 17
    }
   ],
   "source": [
    "input_files = glob.glob('Step5/*.inp')\n",
    "output_files = [i_file.replace('.inp', '.out') for i_file in input_files]\n",
    "output_files"
   ]
  },
  {
   "cell_type": "code",
   "execution_count": 18,
   "metadata": {},
   "outputs": [
    {
     "output_type": "stream",
     "name": "stdout",
     "text": [
      "\n",
      "Running \"Step5\\Br-.inp\"\n",
      "Writing to \"Step5\\Br-.out\"\n",
      "\n",
      "Running \"Step5\\CH3Br.inp\"\n",
      "Writing to \"Step5\\CH3Br.out\"\n",
      "\n",
      "Running \"Step5\\CH3Cl.inp\"\n",
      "Writing to \"Step5\\CH3Cl.out\"\n",
      "\n",
      "Running \"Step5\\CH3Cl_Br-.inp\"\n",
      "Writing to \"Step5\\CH3Cl_Br-.out\"\n",
      "\n",
      "Running \"Step5\\Cl-.inp\"\n",
      "Writing to \"Step5\\Cl-.out\"\n",
      "\n",
      "Running \"Step5\\Cl-_CH3Br.inp\"\n",
      "Writing to \"Step5\\Cl-_CH3Br.out\"\n",
      "\n",
      "Running \"Step5\\[Cl_CH3_Br]-.inp\"\n",
      "Writing to \"Step5\\[Cl_CH3_Br]-.out\"\n"
     ]
    }
   ],
   "source": [
    "for i_file in input_files:\n",
    "    run_orca(i_file)"
   ]
  },
  {
   "source": [
    "# Step 6 - Solvation Effects"
   ],
   "cell_type": "markdown",
   "metadata": {}
  },
  {
   "cell_type": "code",
   "execution_count": 19,
   "metadata": {},
   "outputs": [
    {
     "output_type": "execute_result",
     "data": {
      "text/plain": [
       "['Step6\\\\CH3Cl_Br-.out', 'Step6\\\\Cl-_CH3Br.out', 'Step6\\\\[Cl_CH3_Br]-.out']"
      ]
     },
     "metadata": {},
     "execution_count": 19
    }
   ],
   "source": [
    "input_files = glob.glob('Step6/*.inp')\n",
    "output_files = [i_file.replace('.inp', '.out') for i_file in input_files]\n",
    "output_files"
   ]
  },
  {
   "cell_type": "code",
   "execution_count": 20,
   "metadata": {},
   "outputs": [
    {
     "output_type": "stream",
     "name": "stdout",
     "text": [
      "\n",
      "Running \"Step6\\CH3Cl_Br-.inp\"\n",
      "Writing to \"Step6\\CH3Cl_Br-.out\"\n",
      "\n",
      "Running \"Step6\\Cl-_CH3Br.inp\"\n",
      "Writing to \"Step6\\Cl-_CH3Br.out\"\n",
      "\n",
      "Running \"Step6\\[Cl_CH3_Br]-.inp\"\n",
      "Writing to \"Step6\\[Cl_CH3_Br]-.out\"\n"
     ]
    }
   ],
   "source": [
    "for i_file in input_files:\n",
    "    run_orca(i_file)"
   ]
  },
  {
   "source": [
    "# Putting Together the Results"
   ],
   "cell_type": "markdown",
   "metadata": {}
  },
  {
   "cell_type": "code",
   "execution_count": 21,
   "metadata": {},
   "outputs": [
    {
     "output_type": "execute_result",
     "data": {
      "text/plain": [
       "['Step1\\\\Br-.out',\n",
       " 'Step1\\\\CH3Br.out',\n",
       " 'Step1\\\\CH3Cl.out',\n",
       " 'Step1\\\\Cl-.out',\n",
       " 'Step2\\\\CH3Cl_Br-.out',\n",
       " 'Step2\\\\Cl-_CH3Br.out',\n",
       " 'Step3\\\\Cl-_CH3Br.out',\n",
       " 'Step4\\\\[Cl_CH3_Br]-.out',\n",
       " 'Step5\\\\Br-.out',\n",
       " 'Step5\\\\CH3Br.out',\n",
       " 'Step5\\\\CH3Cl.out',\n",
       " 'Step5\\\\CH3Cl_Br-.out',\n",
       " 'Step5\\\\Cl-.out',\n",
       " 'Step5\\\\Cl-_CH3Br.out',\n",
       " 'Step5\\\\[Cl_CH3_Br]-.out',\n",
       " 'Step6\\\\CH3Cl_Br-.out',\n",
       " 'Step6\\\\Cl-_CH3Br.out',\n",
       " 'Step6\\\\[Cl_CH3_Br]-.out']"
      ]
     },
     "metadata": {},
     "execution_count": 21
    }
   ],
   "source": [
    "output_files = glob.glob('Step*/*.out')\n",
    "output_files"
   ]
  },
  {
   "cell_type": "code",
   "execution_count": 62,
   "metadata": {},
   "outputs": [
    {
     "output_type": "stream",
     "name": "stdout",
     "text": [
      "No entropy in \"Step1\\Br-.out\"\nFound translational entropy\nNo entropy in \"Step1\\CH3Br.out\"\nFound translational entropy\nNo entropy in \"Step1\\CH3Cl.out\"\nFound translational entropy\nNo entropy in \"Step1\\Cl-.out\"\nFound translational entropy\nNo entropy in \"Step2\\CH3Cl_Br-.out\"\nFound translational entropy\nNo entropy in \"Step2\\Cl-_CH3Br.out\"\nFound translational entropy\nNo entropy in \"Step3\\Cl-_CH3Br.out\"\nNo entropy in \"Step4\\[Cl_CH3_Br]-.out\"\nFound translational entropy\nNo entropy in \"Step5\\Br-.out\"\nNo entropy in \"Step5\\CH3Br.out\"\nNo entropy in \"Step5\\CH3Cl.out\"\nNo entropy in \"Step5\\CH3Cl_Br-.out\"\nNo entropy in \"Step5\\Cl-.out\"\nNo entropy in \"Step5\\Cl-_CH3Br.out\"\nNo entropy in \"Step5\\[Cl_CH3_Br]-.out\"\nNo entropy in \"Step6\\CH3Cl_Br-.out\"\nNo entropy in \"Step6\\Cl-_CH3Br.out\"\nNo entropy in \"Step6\\[Cl_CH3_Br]-.out\"\n"
     ]
    },
    {
     "output_type": "execute_result",
     "data": {
      "text/plain": [
       "                           E_sp      E_therm            H            G  \\\n",
       "Step1\\Br-          -2573.783655 -2573.779406 -2573.778462 -2573.797015   \n",
       "Step1\\CH3Br        -2613.579210 -2613.539257 -2613.538313 -2613.557110   \n",
       "Step1\\CH3Cl         -499.848502  -499.808073  -499.807129  -499.825032   \n",
       "Step1\\Cl-           -460.023549  -460.019300  -460.018356  -460.035759   \n",
       "Step2\\CH3Cl_Br-    -3073.652284 -3073.609444 -3073.608500 -3073.627747   \n",
       "Step2\\Cl-_CH3Br    -3073.635520 -3073.593542 -3073.592597 -3073.611844   \n",
       "Step3\\Cl-_CH3Br    -3073.651568          NaN          NaN          NaN   \n",
       "Step4\\[Cl_CH3_Br]- -3073.632714 -3073.591893 -3073.590949 -3073.610196   \n",
       "Step5\\Br-          -2574.129170          NaN          NaN          NaN   \n",
       "Step5\\CH3Br        -2613.942478          NaN          NaN          NaN   \n",
       "Step5\\CH3Cl         -500.060462          NaN          NaN          NaN   \n",
       "Step5\\CH3Cl_Br-    -3074.191893          NaN          NaN          NaN   \n",
       "Step5\\Cl-           -460.234317          NaN          NaN          NaN   \n",
       "Step5\\Cl-_CH3Br    -3074.202621          NaN          NaN          NaN   \n",
       "Step5\\[Cl_CH3_Br]- -3074.185276          NaN          NaN          NaN   \n",
       "Step6\\CH3Cl_Br-    -3074.284537          NaN          NaN          NaN   \n",
       "Step6\\Cl-_CH3Br    -3074.294512          NaN          NaN          NaN   \n",
       "Step6\\[Cl_CH3_Br]- -3074.269733          NaN          NaN          NaN   \n",
       "\n",
       "                     G-E(el)        TS  \n",
       "Step1\\Br-          -0.013360       NaN  \n",
       "Step1\\CH3Br         0.022100  0.028975  \n",
       "Step1\\CH3Cl         0.023469  0.027665  \n",
       "Step1\\Cl-          -0.012210       NaN  \n",
       "Step2\\CH3Cl_Br-     0.024537  0.036575  \n",
       "Step2\\Cl-_CH3Br     0.023675  0.036449  \n",
       "Step3\\Cl-_CH3Br          NaN       NaN  \n",
       "Step4\\[Cl_CH3_Br]-  0.022518  0.035104  \n",
       "Step5\\Br-                NaN       NaN  \n",
       "Step5\\CH3Br              NaN       NaN  \n",
       "Step5\\CH3Cl              NaN       NaN  \n",
       "Step5\\CH3Cl_Br-          NaN       NaN  \n",
       "Step5\\Cl-                NaN       NaN  \n",
       "Step5\\Cl-_CH3Br          NaN       NaN  \n",
       "Step5\\[Cl_CH3_Br]-       NaN       NaN  \n",
       "Step6\\CH3Cl_Br-          NaN       NaN  \n",
       "Step6\\Cl-_CH3Br          NaN       NaN  \n",
       "Step6\\[Cl_CH3_Br]-       NaN       NaN  "
      ],
      "text/html": "<div>\n<style scoped>\n    .dataframe tbody tr th:only-of-type {\n        vertical-align: middle;\n    }\n\n    .dataframe tbody tr th {\n        vertical-align: top;\n    }\n\n    .dataframe thead th {\n        text-align: right;\n    }\n</style>\n<table border=\"1\" class=\"dataframe\">\n  <thead>\n    <tr style=\"text-align: right;\">\n      <th></th>\n      <th>E_sp</th>\n      <th>E_therm</th>\n      <th>H</th>\n      <th>G</th>\n      <th>G-E(el)</th>\n      <th>TS</th>\n    </tr>\n  </thead>\n  <tbody>\n    <tr>\n      <th>Step1\\Br-</th>\n      <td>-2573.783655</td>\n      <td>-2573.779406</td>\n      <td>-2573.778462</td>\n      <td>-2573.797015</td>\n      <td>-0.013360</td>\n      <td>NaN</td>\n    </tr>\n    <tr>\n      <th>Step1\\CH3Br</th>\n      <td>-2613.579210</td>\n      <td>-2613.539257</td>\n      <td>-2613.538313</td>\n      <td>-2613.557110</td>\n      <td>0.022100</td>\n      <td>0.028975</td>\n    </tr>\n    <tr>\n      <th>Step1\\CH3Cl</th>\n      <td>-499.848502</td>\n      <td>-499.808073</td>\n      <td>-499.807129</td>\n      <td>-499.825032</td>\n      <td>0.023469</td>\n      <td>0.027665</td>\n    </tr>\n    <tr>\n      <th>Step1\\Cl-</th>\n      <td>-460.023549</td>\n      <td>-460.019300</td>\n      <td>-460.018356</td>\n      <td>-460.035759</td>\n      <td>-0.012210</td>\n      <td>NaN</td>\n    </tr>\n    <tr>\n      <th>Step2\\CH3Cl_Br-</th>\n      <td>-3073.652284</td>\n      <td>-3073.609444</td>\n      <td>-3073.608500</td>\n      <td>-3073.627747</td>\n      <td>0.024537</td>\n      <td>0.036575</td>\n    </tr>\n    <tr>\n      <th>Step2\\Cl-_CH3Br</th>\n      <td>-3073.635520</td>\n      <td>-3073.593542</td>\n      <td>-3073.592597</td>\n      <td>-3073.611844</td>\n      <td>0.023675</td>\n      <td>0.036449</td>\n    </tr>\n    <tr>\n      <th>Step3\\Cl-_CH3Br</th>\n      <td>-3073.651568</td>\n      <td>NaN</td>\n      <td>NaN</td>\n      <td>NaN</td>\n      <td>NaN</td>\n      <td>NaN</td>\n    </tr>\n    <tr>\n      <th>Step4\\[Cl_CH3_Br]-</th>\n      <td>-3073.632714</td>\n      <td>-3073.591893</td>\n      <td>-3073.590949</td>\n      <td>-3073.610196</td>\n      <td>0.022518</td>\n      <td>0.035104</td>\n    </tr>\n    <tr>\n      <th>Step5\\Br-</th>\n      <td>-2574.129170</td>\n      <td>NaN</td>\n      <td>NaN</td>\n      <td>NaN</td>\n      <td>NaN</td>\n      <td>NaN</td>\n    </tr>\n    <tr>\n      <th>Step5\\CH3Br</th>\n      <td>-2613.942478</td>\n      <td>NaN</td>\n      <td>NaN</td>\n      <td>NaN</td>\n      <td>NaN</td>\n      <td>NaN</td>\n    </tr>\n    <tr>\n      <th>Step5\\CH3Cl</th>\n      <td>-500.060462</td>\n      <td>NaN</td>\n      <td>NaN</td>\n      <td>NaN</td>\n      <td>NaN</td>\n      <td>NaN</td>\n    </tr>\n    <tr>\n      <th>Step5\\CH3Cl_Br-</th>\n      <td>-3074.191893</td>\n      <td>NaN</td>\n      <td>NaN</td>\n      <td>NaN</td>\n      <td>NaN</td>\n      <td>NaN</td>\n    </tr>\n    <tr>\n      <th>Step5\\Cl-</th>\n      <td>-460.234317</td>\n      <td>NaN</td>\n      <td>NaN</td>\n      <td>NaN</td>\n      <td>NaN</td>\n      <td>NaN</td>\n    </tr>\n    <tr>\n      <th>Step5\\Cl-_CH3Br</th>\n      <td>-3074.202621</td>\n      <td>NaN</td>\n      <td>NaN</td>\n      <td>NaN</td>\n      <td>NaN</td>\n      <td>NaN</td>\n    </tr>\n    <tr>\n      <th>Step5\\[Cl_CH3_Br]-</th>\n      <td>-3074.185276</td>\n      <td>NaN</td>\n      <td>NaN</td>\n      <td>NaN</td>\n      <td>NaN</td>\n      <td>NaN</td>\n    </tr>\n    <tr>\n      <th>Step6\\CH3Cl_Br-</th>\n      <td>-3074.284537</td>\n      <td>NaN</td>\n      <td>NaN</td>\n      <td>NaN</td>\n      <td>NaN</td>\n      <td>NaN</td>\n    </tr>\n    <tr>\n      <th>Step6\\Cl-_CH3Br</th>\n      <td>-3074.294512</td>\n      <td>NaN</td>\n      <td>NaN</td>\n      <td>NaN</td>\n      <td>NaN</td>\n      <td>NaN</td>\n    </tr>\n    <tr>\n      <th>Step6\\[Cl_CH3_Br]-</th>\n      <td>-3074.269733</td>\n      <td>NaN</td>\n      <td>NaN</td>\n      <td>NaN</td>\n      <td>NaN</td>\n      <td>NaN</td>\n    </tr>\n  </tbody>\n</table>\n</div>"
     },
     "metadata": {},
     "execution_count": 62
    }
   ],
   "source": [
    "calcs = {}\n",
    "for o_file in output_files:\n",
    "    terms = parse_orca_output(o_file)\n",
    "    if 'gibbs free energy' not in terms:\n",
    "        print(f'No entropy in \"{o_file}\"')\n",
    "        search_terms = {'TS_trans': 'Translational entropy'}\n",
    "        trans_entr = parse_orca_output(o_file, search_terms=search_terms)\n",
    "        if 'TS_trans' in trans_entr:\n",
    "            print(f'Found translational entropy')\n",
    "            terms['G'] = terms['H'] - trans_entr['TS_trans']\n",
    "            terms['G-E(el)'] = terms['G'] - terms['E_sp']\n",
    "\n",
    "\n",
    "    calcs[o_file[:-4]] = terms\n",
    "\n",
    "\n",
    "raw_res_df = pd.DataFrame(calcs)\n",
    "raw_res_df.T"
   ]
  },
  {
   "cell_type": "code",
   "execution_count": 66,
   "metadata": {},
   "outputs": [
    {
     "output_type": "error",
     "ename": "KeyError",
     "evalue": "'Step1\\\\CH3Cl_Br-'",
     "traceback": [
      "\u001b[1;31m---------------------------------------------------------------------------\u001b[0m",
      "\u001b[1;31mKeyError\u001b[0m                                  Traceback (most recent call last)",
      "\u001b[1;32m~\\AppData\\Local\\Programs\\Python\\Python39\\lib\\site-packages\\pandas\\core\\indexes\\base.py\u001b[0m in \u001b[0;36mget_loc\u001b[1;34m(self, key, method, tolerance)\u001b[0m\n\u001b[0;32m   2894\u001b[0m             \u001b[1;32mtry\u001b[0m\u001b[1;33m:\u001b[0m\u001b[1;33m\u001b[0m\u001b[1;33m\u001b[0m\u001b[0m\n\u001b[1;32m-> 2895\u001b[1;33m                 \u001b[1;32mreturn\u001b[0m \u001b[0mself\u001b[0m\u001b[1;33m.\u001b[0m\u001b[0m_engine\u001b[0m\u001b[1;33m.\u001b[0m\u001b[0mget_loc\u001b[0m\u001b[1;33m(\u001b[0m\u001b[0mcasted_key\u001b[0m\u001b[1;33m)\u001b[0m\u001b[1;33m\u001b[0m\u001b[1;33m\u001b[0m\u001b[0m\n\u001b[0m\u001b[0;32m   2896\u001b[0m             \u001b[1;32mexcept\u001b[0m \u001b[0mKeyError\u001b[0m \u001b[1;32mas\u001b[0m \u001b[0merr\u001b[0m\u001b[1;33m:\u001b[0m\u001b[1;33m\u001b[0m\u001b[1;33m\u001b[0m\u001b[0m\n",
      "\u001b[1;32mpandas\\_libs\\index.pyx\u001b[0m in \u001b[0;36mpandas._libs.index.IndexEngine.get_loc\u001b[1;34m()\u001b[0m\n",
      "\u001b[1;32mpandas\\_libs\\index.pyx\u001b[0m in \u001b[0;36mpandas._libs.index.IndexEngine.get_loc\u001b[1;34m()\u001b[0m\n",
      "\u001b[1;32mpandas\\_libs\\hashtable_class_helper.pxi\u001b[0m in \u001b[0;36mpandas._libs.hashtable.PyObjectHashTable.get_item\u001b[1;34m()\u001b[0m\n",
      "\u001b[1;32mpandas\\_libs\\hashtable_class_helper.pxi\u001b[0m in \u001b[0;36mpandas._libs.hashtable.PyObjectHashTable.get_item\u001b[1;34m()\u001b[0m\n",
      "\u001b[1;31mKeyError\u001b[0m: 'Step1\\\\CH3Cl_Br-'",
      "\nThe above exception was the direct cause of the following exception:\n",
      "\u001b[1;31mKeyError\u001b[0m                                  Traceback (most recent call last)",
      "\u001b[1;32m<ipython-input-66-aacee7fae50c>\u001b[0m in \u001b[0;36m<module>\u001b[1;34m\u001b[0m\n\u001b[0;32m      2\u001b[0m \u001b[1;33m\u001b[0m\u001b[0m\n\u001b[0;32m      3\u001b[0m \u001b[1;32mfor\u001b[0m \u001b[0mstuff\u001b[0m \u001b[1;32min\u001b[0m \u001b[0mthese_need_fixin\u001b[0m\u001b[1;33m:\u001b[0m\u001b[1;33m\u001b[0m\u001b[1;33m\u001b[0m\u001b[0m\n\u001b[1;32m----> 4\u001b[1;33m     \u001b[0mraw_res_df\u001b[0m\u001b[1;33m[\u001b[0m\u001b[1;34mf'Step5\\\\{stuff}'\u001b[0m\u001b[1;33m]\u001b[0m\u001b[1;33m[\u001b[0m\u001b[1;34m'G'\u001b[0m\u001b[1;33m]\u001b[0m \u001b[1;33m=\u001b[0m \u001b[0mraw_res_df\u001b[0m\u001b[1;33m[\u001b[0m\u001b[1;34mf'Step5\\\\{stuff}'\u001b[0m\u001b[1;33m]\u001b[0m\u001b[1;33m[\u001b[0m\u001b[1;34m'E_sp'\u001b[0m\u001b[1;33m]\u001b[0m \u001b[1;33m-\u001b[0m \u001b[0mraw_res_df\u001b[0m\u001b[1;33m[\u001b[0m\u001b[1;34mf'Step1\\\\{stuff}'\u001b[0m\u001b[1;33m]\u001b[0m\u001b[1;33m[\u001b[0m\u001b[1;34m'G-E(el)'\u001b[0m\u001b[1;33m]\u001b[0m\u001b[1;33m\u001b[0m\u001b[1;33m\u001b[0m\u001b[0m\n\u001b[0m",
      "\u001b[1;32m~\\AppData\\Local\\Programs\\Python\\Python39\\lib\\site-packages\\pandas\\core\\frame.py\u001b[0m in \u001b[0;36m__getitem__\u001b[1;34m(self, key)\u001b[0m\n\u001b[0;32m   2904\u001b[0m             \u001b[1;32mif\u001b[0m \u001b[0mself\u001b[0m\u001b[1;33m.\u001b[0m\u001b[0mcolumns\u001b[0m\u001b[1;33m.\u001b[0m\u001b[0mnlevels\u001b[0m \u001b[1;33m>\u001b[0m \u001b[1;36m1\u001b[0m\u001b[1;33m:\u001b[0m\u001b[1;33m\u001b[0m\u001b[1;33m\u001b[0m\u001b[0m\n\u001b[0;32m   2905\u001b[0m                 \u001b[1;32mreturn\u001b[0m \u001b[0mself\u001b[0m\u001b[1;33m.\u001b[0m\u001b[0m_getitem_multilevel\u001b[0m\u001b[1;33m(\u001b[0m\u001b[0mkey\u001b[0m\u001b[1;33m)\u001b[0m\u001b[1;33m\u001b[0m\u001b[1;33m\u001b[0m\u001b[0m\n\u001b[1;32m-> 2906\u001b[1;33m             \u001b[0mindexer\u001b[0m \u001b[1;33m=\u001b[0m \u001b[0mself\u001b[0m\u001b[1;33m.\u001b[0m\u001b[0mcolumns\u001b[0m\u001b[1;33m.\u001b[0m\u001b[0mget_loc\u001b[0m\u001b[1;33m(\u001b[0m\u001b[0mkey\u001b[0m\u001b[1;33m)\u001b[0m\u001b[1;33m\u001b[0m\u001b[1;33m\u001b[0m\u001b[0m\n\u001b[0m\u001b[0;32m   2907\u001b[0m             \u001b[1;32mif\u001b[0m \u001b[0mis_integer\u001b[0m\u001b[1;33m(\u001b[0m\u001b[0mindexer\u001b[0m\u001b[1;33m)\u001b[0m\u001b[1;33m:\u001b[0m\u001b[1;33m\u001b[0m\u001b[1;33m\u001b[0m\u001b[0m\n\u001b[0;32m   2908\u001b[0m                 \u001b[0mindexer\u001b[0m \u001b[1;33m=\u001b[0m \u001b[1;33m[\u001b[0m\u001b[0mindexer\u001b[0m\u001b[1;33m]\u001b[0m\u001b[1;33m\u001b[0m\u001b[1;33m\u001b[0m\u001b[0m\n",
      "\u001b[1;32m~\\AppData\\Local\\Programs\\Python\\Python39\\lib\\site-packages\\pandas\\core\\indexes\\base.py\u001b[0m in \u001b[0;36mget_loc\u001b[1;34m(self, key, method, tolerance)\u001b[0m\n\u001b[0;32m   2895\u001b[0m                 \u001b[1;32mreturn\u001b[0m \u001b[0mself\u001b[0m\u001b[1;33m.\u001b[0m\u001b[0m_engine\u001b[0m\u001b[1;33m.\u001b[0m\u001b[0mget_loc\u001b[0m\u001b[1;33m(\u001b[0m\u001b[0mcasted_key\u001b[0m\u001b[1;33m)\u001b[0m\u001b[1;33m\u001b[0m\u001b[1;33m\u001b[0m\u001b[0m\n\u001b[0;32m   2896\u001b[0m             \u001b[1;32mexcept\u001b[0m \u001b[0mKeyError\u001b[0m \u001b[1;32mas\u001b[0m \u001b[0merr\u001b[0m\u001b[1;33m:\u001b[0m\u001b[1;33m\u001b[0m\u001b[1;33m\u001b[0m\u001b[0m\n\u001b[1;32m-> 2897\u001b[1;33m                 \u001b[1;32mraise\u001b[0m \u001b[0mKeyError\u001b[0m\u001b[1;33m(\u001b[0m\u001b[0mkey\u001b[0m\u001b[1;33m)\u001b[0m \u001b[1;32mfrom\u001b[0m \u001b[0merr\u001b[0m\u001b[1;33m\u001b[0m\u001b[1;33m\u001b[0m\u001b[0m\n\u001b[0m\u001b[0;32m   2898\u001b[0m \u001b[1;33m\u001b[0m\u001b[0m\n\u001b[0;32m   2899\u001b[0m         \u001b[1;32mif\u001b[0m \u001b[0mtolerance\u001b[0m \u001b[1;32mis\u001b[0m \u001b[1;32mnot\u001b[0m \u001b[1;32mNone\u001b[0m\u001b[1;33m:\u001b[0m\u001b[1;33m\u001b[0m\u001b[1;33m\u001b[0m\u001b[0m\n",
      "\u001b[1;31mKeyError\u001b[0m: 'Step1\\\\CH3Cl_Br-'"
     ]
    }
   ],
   "source": [
    "step1_corr = ['Br-', 'Cl-', 'CH3Br', 'CH3Cl'] \n",
    "step2_corr = ['CH3Cl_Br-', 'Cl-_CH3Br'] \n",
    "step4_corr = ['[Cl_CH3_Br]-']\n",
    "\n",
    "for stuff in step1_corr:\n",
    "    raw_res_df[f'Step5\\\\{stuff}']['G'] = raw_res_df[f'Step5\\\\{stuff}']['E_sp'] - raw_res_df[f'Step1\\\\{stuff}']['G-E(el)']"
   ]
  },
  {
   "cell_type": "code",
   "execution_count": 58,
   "metadata": {},
   "outputs": [
    {
     "output_type": "execute_result",
     "data": {
      "text/plain": [
       "                            E_sp       E_therm             H             G  \\\n",
       "Step1\\Br-          -1.615074e+06 -1.615071e+06 -1.615070e+06 -1.615082e+06   \n",
       "Step1\\CH3Br        -1.640046e+06 -1.640021e+06 -1.640020e+06 -1.640032e+06   \n",
       "Step1\\CH3Cl        -3.136597e+05 -3.136343e+05 -3.136337e+05 -3.136449e+05   \n",
       "Step1\\Cl-          -2.886691e+05 -2.886665e+05 -2.886659e+05 -2.886768e+05   \n",
       "Step2\\CH3Cl_Br-    -1.928746e+06 -1.928719e+06 -1.928718e+06 -1.928731e+06   \n",
       "Step2\\Cl-_CH3Br    -1.928735e+06 -1.928709e+06 -1.928708e+06 -1.928721e+06   \n",
       "Step4\\[Cl_CH3_Br]- -1.928734e+06 -1.928708e+06 -1.928707e+06 -1.928720e+06   \n",
       "\n",
       "                      G-E(el)         TS  \n",
       "Step1\\Br-           -8.383735        NaN  \n",
       "Step1\\CH3Br         13.867678  18.181886  \n",
       "Step1\\CH3Cl         14.727261  17.359912  \n",
       "Step1\\Cl-           -7.661583        NaN  \n",
       "Step2\\CH3Cl_Br-     15.397211  22.950946  \n",
       "Step2\\Cl-_CH3Br     14.856305  22.871923  \n",
       "Step4\\[Cl_CH3_Br]-  14.130330  22.027948  "
      ],
      "text/html": "<div>\n<style scoped>\n    .dataframe tbody tr th:only-of-type {\n        vertical-align: middle;\n    }\n\n    .dataframe tbody tr th {\n        vertical-align: top;\n    }\n\n    .dataframe thead th {\n        text-align: right;\n    }\n</style>\n<table border=\"1\" class=\"dataframe\">\n  <thead>\n    <tr style=\"text-align: right;\">\n      <th></th>\n      <th>E_sp</th>\n      <th>E_therm</th>\n      <th>H</th>\n      <th>G</th>\n      <th>G-E(el)</th>\n      <th>TS</th>\n    </tr>\n  </thead>\n  <tbody>\n    <tr>\n      <th>Step1\\Br-</th>\n      <td>-1.615074e+06</td>\n      <td>-1.615071e+06</td>\n      <td>-1.615070e+06</td>\n      <td>-1.615082e+06</td>\n      <td>-8.383735</td>\n      <td>NaN</td>\n    </tr>\n    <tr>\n      <th>Step1\\CH3Br</th>\n      <td>-1.640046e+06</td>\n      <td>-1.640021e+06</td>\n      <td>-1.640020e+06</td>\n      <td>-1.640032e+06</td>\n      <td>13.867678</td>\n      <td>18.181886</td>\n    </tr>\n    <tr>\n      <th>Step1\\CH3Cl</th>\n      <td>-3.136597e+05</td>\n      <td>-3.136343e+05</td>\n      <td>-3.136337e+05</td>\n      <td>-3.136449e+05</td>\n      <td>14.727261</td>\n      <td>17.359912</td>\n    </tr>\n    <tr>\n      <th>Step1\\Cl-</th>\n      <td>-2.886691e+05</td>\n      <td>-2.886665e+05</td>\n      <td>-2.886659e+05</td>\n      <td>-2.886768e+05</td>\n      <td>-7.661583</td>\n      <td>NaN</td>\n    </tr>\n    <tr>\n      <th>Step2\\CH3Cl_Br-</th>\n      <td>-1.928746e+06</td>\n      <td>-1.928719e+06</td>\n      <td>-1.928718e+06</td>\n      <td>-1.928731e+06</td>\n      <td>15.397211</td>\n      <td>22.950946</td>\n    </tr>\n    <tr>\n      <th>Step2\\Cl-_CH3Br</th>\n      <td>-1.928735e+06</td>\n      <td>-1.928709e+06</td>\n      <td>-1.928708e+06</td>\n      <td>-1.928721e+06</td>\n      <td>14.856305</td>\n      <td>22.871923</td>\n    </tr>\n    <tr>\n      <th>Step4\\[Cl_CH3_Br]-</th>\n      <td>-1.928734e+06</td>\n      <td>-1.928708e+06</td>\n      <td>-1.928707e+06</td>\n      <td>-1.928720e+06</td>\n      <td>14.130330</td>\n      <td>22.027948</td>\n    </tr>\n  </tbody>\n</table>\n</div>"
     },
     "metadata": {},
     "execution_count": 58
    }
   ],
   "source": [
    "res_df = raw_res_df.filter(regex='Step[1,2,4]') * 627.5094740631\n",
    "res_df.T"
   ]
  },
  {
   "cell_type": "code",
   "execution_count": 53,
   "metadata": {},
   "outputs": [
    {
     "output_type": "execute_result",
     "data": {
      "text/plain": [
       "                            E_sp       E_therm             H             G  \\\n",
       "Step1\\Br-          -1.615074e+06 -1.615071e+06 -1.615070e+06 -1.615082e+06   \n",
       "Step1\\CH3Br        -1.640046e+06 -1.640021e+06 -1.640020e+06 -1.640032e+06   \n",
       "Step1\\CH3Cl        -3.136597e+05 -3.136343e+05 -3.136337e+05 -3.136449e+05   \n",
       "Step1\\Cl-          -2.886691e+05 -2.886665e+05 -2.886659e+05 -2.886768e+05   \n",
       "Step2\\CH3Cl_Br-    -1.928746e+06 -1.928719e+06 -1.928718e+06 -1.928731e+06   \n",
       "Step2\\Cl-_CH3Br    -1.928735e+06 -1.928709e+06 -1.928708e+06 -1.928721e+06   \n",
       "Step4\\[Cl_CH3_Br]- -1.928734e+06 -1.928708e+06 -1.928707e+06 -1.928720e+06   \n",
       "Step1\\Cl- + CH3Br  -1.928715e+06 -1.928687e+06 -1.928686e+06 -1.928709e+06   \n",
       "Step1\\CH3Cl + Br-  -1.928733e+06 -1.928705e+06 -1.928704e+06 -1.928727e+06   \n",
       "\n",
       "                      G-E(el)         TS  \n",
       "Step1\\Br-           -8.383735        NaN  \n",
       "Step1\\CH3Br         13.867678  18.181886  \n",
       "Step1\\CH3Cl         14.727261  17.359912  \n",
       "Step1\\Cl-           -7.661583        NaN  \n",
       "Step2\\CH3Cl_Br-     15.397211  22.950946  \n",
       "Step2\\Cl-_CH3Br     14.856305  22.871923  \n",
       "Step4\\[Cl_CH3_Br]-  14.130330  22.027948  \n",
       "Step1\\Cl- + CH3Br    6.206094        NaN  \n",
       "Step1\\CH3Cl + Br-    6.343525        NaN  "
      ],
      "text/html": "<div>\n<style scoped>\n    .dataframe tbody tr th:only-of-type {\n        vertical-align: middle;\n    }\n\n    .dataframe tbody tr th {\n        vertical-align: top;\n    }\n\n    .dataframe thead th {\n        text-align: right;\n    }\n</style>\n<table border=\"1\" class=\"dataframe\">\n  <thead>\n    <tr style=\"text-align: right;\">\n      <th></th>\n      <th>E_sp</th>\n      <th>E_therm</th>\n      <th>H</th>\n      <th>G</th>\n      <th>G-E(el)</th>\n      <th>TS</th>\n    </tr>\n  </thead>\n  <tbody>\n    <tr>\n      <th>Step1\\Br-</th>\n      <td>-1.615074e+06</td>\n      <td>-1.615071e+06</td>\n      <td>-1.615070e+06</td>\n      <td>-1.615082e+06</td>\n      <td>-8.383735</td>\n      <td>NaN</td>\n    </tr>\n    <tr>\n      <th>Step1\\CH3Br</th>\n      <td>-1.640046e+06</td>\n      <td>-1.640021e+06</td>\n      <td>-1.640020e+06</td>\n      <td>-1.640032e+06</td>\n      <td>13.867678</td>\n      <td>18.181886</td>\n    </tr>\n    <tr>\n      <th>Step1\\CH3Cl</th>\n      <td>-3.136597e+05</td>\n      <td>-3.136343e+05</td>\n      <td>-3.136337e+05</td>\n      <td>-3.136449e+05</td>\n      <td>14.727261</td>\n      <td>17.359912</td>\n    </tr>\n    <tr>\n      <th>Step1\\Cl-</th>\n      <td>-2.886691e+05</td>\n      <td>-2.886665e+05</td>\n      <td>-2.886659e+05</td>\n      <td>-2.886768e+05</td>\n      <td>-7.661583</td>\n      <td>NaN</td>\n    </tr>\n    <tr>\n      <th>Step2\\CH3Cl_Br-</th>\n      <td>-1.928746e+06</td>\n      <td>-1.928719e+06</td>\n      <td>-1.928718e+06</td>\n      <td>-1.928731e+06</td>\n      <td>15.397211</td>\n      <td>22.950946</td>\n    </tr>\n    <tr>\n      <th>Step2\\Cl-_CH3Br</th>\n      <td>-1.928735e+06</td>\n      <td>-1.928709e+06</td>\n      <td>-1.928708e+06</td>\n      <td>-1.928721e+06</td>\n      <td>14.856305</td>\n      <td>22.871923</td>\n    </tr>\n    <tr>\n      <th>Step4\\[Cl_CH3_Br]-</th>\n      <td>-1.928734e+06</td>\n      <td>-1.928708e+06</td>\n      <td>-1.928707e+06</td>\n      <td>-1.928720e+06</td>\n      <td>14.130330</td>\n      <td>22.027948</td>\n    </tr>\n    <tr>\n      <th>Step1\\Cl- + CH3Br</th>\n      <td>-1.928715e+06</td>\n      <td>-1.928687e+06</td>\n      <td>-1.928686e+06</td>\n      <td>-1.928709e+06</td>\n      <td>6.206094</td>\n      <td>NaN</td>\n    </tr>\n    <tr>\n      <th>Step1\\CH3Cl + Br-</th>\n      <td>-1.928733e+06</td>\n      <td>-1.928705e+06</td>\n      <td>-1.928704e+06</td>\n      <td>-1.928727e+06</td>\n      <td>6.343525</td>\n      <td>NaN</td>\n    </tr>\n  </tbody>\n</table>\n</div>"
     },
     "metadata": {},
     "execution_count": 53
    }
   ],
   "source": [
    "res_df['Step1\\\\Cl- + CH3Br'] = res_df['Step1\\Cl-'] + res_df['Step1\\CH3Br']\n",
    "res_df['Step1\\\\CH3Cl + Br-'] = res_df['Step1\\Br-'] + res_df['Step1\\CH3Cl']\n",
    "res_df.T"
   ]
  },
  {
   "cell_type": "code",
   "execution_count": 54,
   "metadata": {},
   "outputs": [
    {
     "output_type": "execute_result",
     "data": {
      "text/plain": [
       "Step2\\CH3Cl_Br-     -1.928731e+06\n",
       "Step1\\CH3Cl + Br-   -1.928727e+06\n",
       "Step2\\Cl-_CH3Br     -1.928721e+06\n",
       "Step1\\Cl- + CH3Br   -1.928709e+06\n",
       "Step1\\CH3Br         -1.640032e+06\n",
       "Step1\\Br-           -1.615082e+06\n",
       "Step1\\CH3Cl         -3.136449e+05\n",
       "Step1\\Cl-           -2.886768e+05\n",
       "Name: G, dtype: float64"
      ]
     },
     "metadata": {},
     "execution_count": 54
    }
   ],
   "source": [
    "res_df.filter(regex='Step[1,2]').T['G'].sort_values()"
   ]
  },
  {
   "source": [
    "We see that the the lowest energy state before the transition state is $Cl^-\\;-\\; CH_3Br$ with -3073.611844 Ha"
   ],
   "cell_type": "markdown",
   "metadata": {}
  },
  {
   "cell_type": "code",
   "execution_count": 34,
   "metadata": {},
   "outputs": [
    {
     "output_type": "execute_result",
     "data": {
      "text/plain": [
       "E_sp      -1.928735e+06\n",
       "E_therm   -1.928709e+06\n",
       "H         -1.928708e+06\n",
       "G         -1.928721e+06\n",
       "G-E(el)    1.485630e+01\n",
       "TS         2.287192e+01\n",
       "Name: Step2\\Cl-_CH3Br, dtype: float64"
      ]
     },
     "metadata": {},
     "execution_count": 34
    }
   ],
   "source": [
    "reference = res_df['Step2\\\\Cl-_CH3Br']\n",
    "reference"
   ]
  },
  {
   "cell_type": "code",
   "execution_count": 55,
   "metadata": {},
   "outputs": [
    {
     "output_type": "execute_result",
     "data": {
      "text/plain": [
       "Step1\\Br-             3.136385e+05\n",
       "Step1\\CH3Br           2.886887e+05\n",
       "Step1\\CH3Cl           1.615076e+06\n",
       "Step1\\Cl-             1.640044e+06\n",
       "Step2\\CH3Cl_Br-      -9.978894e+00\n",
       "Step2\\Cl-_CH3Br       0.000000e+00\n",
       "Step4\\[Cl_CH3_Br]-    1.034550e+00\n",
       "Step1\\Cl- + CH3Br     1.190734e+01\n",
       "Step1\\CH3Cl + Br-    -6.402661e+00\n",
       "Name: G, dtype: float64"
      ]
     },
     "metadata": {},
     "execution_count": 55
    }
   ],
   "source": [
    "(res_df.T - reference)['G']"
   ]
  },
  {
   "cell_type": "code",
   "execution_count": null,
   "metadata": {},
   "outputs": [],
   "source": []
  }
 ]
}