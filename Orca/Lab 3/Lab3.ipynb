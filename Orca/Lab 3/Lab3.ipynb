{
 "cells": [
  {
   "cell_type": "code",
   "execution_count": 1,
   "metadata": {},
   "outputs": [],
   "source": [
    "import os, sys\n",
    "import time\n",
    "import subprocess\n",
    "import glob\n",
    "from pprint import pprint\n",
    "import numpy as np\n",
    "from numpy.linalg import norm\n",
    "import itertools \n",
    "import re\n",
    "import pandas as pd\n",
    "import shutil\n",
    "\n",
    "root_dir = os.getcwd() + '/..'\n",
    "sys.path.append(root_dir)\n",
    "\n",
    "from orca_wrapper import run_orca, parse_orca_output, default_search_terms, get_imaginary_modes\n",
    "\n",
    "os.chdir('Orca_Calculations/')"
   ]
  },
  {
   "cell_type": "markdown",
   "metadata": {},
   "source": [
    "# Step 1 - Optimize Non-interacting Geometries"
   ]
  },
  {
   "cell_type": "code",
   "execution_count": 2,
   "metadata": {},
   "outputs": [
    {
     "data": {
      "text/plain": [
       "['Step1/Br-.out', 'Step1/Cl-.out', 'Step1/CH3Br.out', 'Step1/CH3Cl.out']"
      ]
     },
     "execution_count": 2,
     "metadata": {},
     "output_type": "execute_result"
    }
   ],
   "source": [
    "input_files = glob.glob('Step1/*.inp')\n",
    "output_files = [i_file.replace('.inp', '.out') for i_file in input_files]\n",
    "output_files"
   ]
  },
  {
   "cell_type": "code",
   "execution_count": 3,
   "metadata": {},
   "outputs": [
    {
     "name": "stdout",
     "output_type": "stream",
     "text": [
      "\n",
      "Running \"Step1/Br-.inp\"\n",
      "Writing to \"Step1/Br-.out\"\n",
      "\n",
      "Running \"Step1/Cl-.inp\"\n",
      "Writing to \"Step1/Cl-.out\"\n",
      "\n",
      "Running \"Step1/CH3Br.inp\"\n",
      "Writing to \"Step1/CH3Br.out\"\n",
      "\n",
      "Running \"Step1/CH3Cl.inp\"\n",
      "Writing to \"Step1/CH3Cl.out\"\n"
     ]
    }
   ],
   "source": [
    "for i_file in input_files:\n",
    "    run_orca(i_file)"
   ]
  },
  {
   "cell_type": "markdown",
   "metadata": {},
   "source": [
    "# Step 2 - Optimize Weakly Interacting Geometries"
   ]
  },
  {
   "cell_type": "code",
   "execution_count": 4,
   "metadata": {},
   "outputs": [
    {
     "name": "stdout",
     "output_type": "stream",
     "text": [
      "6\n",
      "Coordinates from ORCA-job Step1/CH3Br\n",
      "  C   -0.00128235262355     -0.00000008866415     -0.00000004468743\n",
      "  Br  1.95252041825261     -0.00000089889325     -0.00000011758461\n",
      "  H   -0.34394901973682      1.04129517371190      0.00477118086097\n",
      "  H   -0.34394724288329     -0.52477881212232      0.89940066535969\n",
      "  H   -0.34394699150895     -0.51651543043218     -0.90417168634862\n",
      "  Cl  -3.7                  0.0                    0.0\n",
      "6\n",
      "Coordinates from ORCA-job Step1/CH3Cl\n",
      "  C   -0.00625646210719      0.00000098892853     -0.00000010741695\n",
      "  Cl  1.78918679828360     -0.00000273015495      0.00000009314880\n",
      "  H   -0.36235932791891      1.03838548752991      0.00475773238384\n",
      "  H   -0.36235393511022     -0.52331198592695      0.89688273294590\n",
      "  H   -0.36235418464728     -0.51507161247654     -0.90164043336158\n",
      "  Br  -3.7                  0.0                    0.0\n"
     ]
    }
   ],
   "source": [
    "# Use the optimized geometry for CH3Br as a starting point for our sweep\n",
    "with open('Step1/CH3Br.xyz') as init_xyz:\n",
    "    lines = init_xyz.readlines()\n",
    "    nbr_atoms_before = lines[0].strip()\n",
    "    nbr_atoms_after = 6\n",
    "    lines[0] = f'{nbr_atoms_after}\\n'\n",
    "    lines.append('  Cl  -3.7                  0.0                    0.0\\n')\n",
    "\n",
    "for line in lines:\n",
    "    print(line, end='')\n",
    "\n",
    "with open('Step2/Cl-_CH3Br_init.xyz', 'w') as new_xyz:\n",
    "    new_xyz.write(''.join(lines))\n",
    "\n",
    "# Use the optimized geometry for CH3Cl as a starting point for our sweep\n",
    "with open('Step1/CH3Cl.xyz') as init_xyz:\n",
    "    lines = init_xyz.readlines()\n",
    "    nbr_atoms_before = lines[0].strip()\n",
    "    nbr_atoms_after = 6\n",
    "    lines[0] = f'{nbr_atoms_after}\\n'\n",
    "    lines.append('  Br  -3.7                  0.0                    0.0\\n')\n",
    "\n",
    "for line in lines:\n",
    "    print(line, end='')\n",
    "\n",
    "with open('Step2/CH3Cl_Br-_init.xyz', 'w') as new_xyz:\n",
    "    new_xyz.write(''.join(lines))"
   ]
  },
  {
   "cell_type": "code",
   "execution_count": 5,
   "metadata": {},
   "outputs": [
    {
     "data": {
      "text/plain": [
       "['Step2/Cl-_CH3Br.out', 'Step2/CH3Cl_Br-.out']"
      ]
     },
     "execution_count": 5,
     "metadata": {},
     "output_type": "execute_result"
    }
   ],
   "source": [
    "input_files = glob.glob(f'Step2/*.inp')\n",
    "output_files = [i_file.replace('.inp', '.out') for i_file in input_files]\n",
    "output_files"
   ]
  },
  {
   "cell_type": "code",
   "execution_count": 6,
   "metadata": {},
   "outputs": [
    {
     "name": "stdout",
     "output_type": "stream",
     "text": [
      "\n",
      "Running \"Step2/Cl-_CH3Br.inp\"\n",
      "Writing to \"Step2/Cl-_CH3Br.out\"\n",
      "\n",
      "Running \"Step2/CH3Cl_Br-.inp\"\n",
      "Writing to \"Step2/CH3Cl_Br-.out\"\n"
     ]
    }
   ],
   "source": [
    "for i_file in input_files:\n",
    "    run_orca(i_file)"
   ]
  },
  {
   "cell_type": "markdown",
   "metadata": {},
   "source": [
    "# Step 3 - Scan for Transition State"
   ]
  },
  {
   "cell_type": "code",
   "execution_count": 7,
   "metadata": {},
   "outputs": [
    {
     "data": {
      "text/plain": [
       "'Step3/Cl-_CH3Br_init.xyz'"
      ]
     },
     "execution_count": 7,
     "metadata": {},
     "output_type": "execute_result"
    }
   ],
   "source": [
    "shutil.copy('Step2/Cl-_CH3Br.xyz', 'Step3/Cl-_CH3Br_init.xyz')"
   ]
  },
  {
   "cell_type": "code",
   "execution_count": 8,
   "metadata": {},
   "outputs": [],
   "source": [
    "input_files = glob.glob('Step3/*.inp')\n",
    "output_files = [i_file.replace('.inp', '.out') for i_file in input_files]\n",
    "output_files"
   ]
  },
  {
   "cell_type": "code",
   "execution_count": 9,
   "metadata": {},
   "outputs": [
    {
     "name": "stdout",
     "output_type": "stream",
     "text": [
      "\n",
      "Running \"Step3/Cl-_CH3Br.inp\"\n",
      "Writing to \"Step3/Cl-_CH3Br.out\"\n"
     ]
    }
   ],
   "source": [
    "for i_file in input_files:\n",
    "    run_orca(i_file)"
   ]
  },
  {
   "cell_type": "code",
   "execution_count": 10,
   "metadata": {},
   "outputs": [
    {
     "name": "stdout",
     "output_type": "stream",
     "text": [
      "['   2.90000000 -3073.63538623', '   2.70000000 -3073.63446451', '   2.50000000 -3073.63260691', '   2.30000000 -3073.63602085', '   2.10000000 -3073.64416383', '   1.90000000 -3073.65156792']\n",
      "[-3073.63538623,\n",
      " -3073.63446451,\n",
      " -3073.63260691,\n",
      " -3073.63602085,\n",
      " -3073.64416383,\n",
      " -3073.65156792]\n",
      "\n",
      "Transition state supected at index 3\n"
     ]
    }
   ],
   "source": [
    "for o_file in output_files:\n",
    "    # get the highest energy transition state\n",
    "    with open(o_file, 'r') as of:\n",
    "        content = of.read()\n",
    "        split_str = \"The Calculated Surface using the 'Actual Energy'\\n\"\n",
    "        trans_state_values = content.split(split_str)[1].split('\\n\\n',1)[0].split('\\n')\n",
    "    print(trans_state_values)\n",
    "    energies = [float(s.strip().split()[1]) for s in trans_state_values ]\n",
    "\n",
    "pprint(energies)\n",
    "\n",
    "ts_index = np.argmax(energies) + 1\n",
    "print(f'\\nTransition state supected at index {ts_index}')"
   ]
  },
  {
   "cell_type": "markdown",
   "metadata": {},
   "source": [
    "# Step 4 - Find Imaginary Modes"
   ]
  },
  {
   "cell_type": "code",
   "execution_count": 11,
   "metadata": {},
   "outputs": [
    {
     "data": {
      "text/plain": [
       "'Step4/Cl-_CH3Br_TS_init.xyz'"
      ]
     },
     "execution_count": 11,
     "metadata": {},
     "output_type": "execute_result"
    }
   ],
   "source": [
    "shutil.copy(f'Step3/Cl-_CH3Br.{ts_index:03}.xyz', 'Step4/Cl-_CH3Br_TS_init.xyz')"
   ]
  },
  {
   "cell_type": "code",
   "execution_count": 12,
   "metadata": {},
   "outputs": [
    {
     "data": {
      "text/plain": [
       "['Step4/[Cl_CH3_Br]-.out']"
      ]
     },
     "execution_count": 12,
     "metadata": {},
     "output_type": "execute_result"
    }
   ],
   "source": [
    "input_files = glob.glob(f'Step4/*.inp')\n",
    "output_files = [i_file.replace('.inp', '.out') for i_file in input_files]\n",
    "output_files"
   ]
  },
  {
   "cell_type": "code",
   "execution_count": 13,
   "metadata": {},
   "outputs": [
    {
     "name": "stdout",
     "output_type": "stream",
     "text": [
      "\n",
      "Running \"Step4/[Cl_CH3_Br]-.inp\"\n",
      "Writing to \"Step4/[Cl_CH3_Br]-.out\"\n"
     ]
    }
   ],
   "source": [
    "for i_file in input_files:\n",
    "    run_orca(i_file)"
   ]
  },
  {
   "cell_type": "code",
   "execution_count": 14,
   "metadata": {},
   "outputs": [
    {
     "name": "stdout",
     "output_type": "stream",
     "text": [
      "Reaction coordinate given by mode 6 with imaginary frequency -282.42 cm**-1\n"
     ]
    }
   ],
   "source": [
    "im_freq_lines = get_imaginary_modes(output_files[0])\n",
    "im_freqs = []\n",
    "im_freq_idx = []\n",
    "for line in im_freq_lines:\n",
    "    idx_str, freq_str, _ = line.split(None, 2)\n",
    "    idx = int(idx_str[:-1])\n",
    "    freq = float(freq_str)\n",
    "    if idx not in im_freq_idx:\n",
    "        im_freq_idx.append(idx)\n",
    "        im_freqs.append(freq)\n",
    "\n",
    "if len(im_freq_idx) > 1:\n",
    "    print(\"More than one imginary frequency found! This is not a transition state!\")\n",
    "    print(im_freq_lines)\n",
    "elif len(im_freq_idx) < 1:\n",
    "    print(\"No imgaginary frequencies found!\")\n",
    "else:\n",
    "    reaction_idx = im_freq_idx[0]\n",
    "    print(f\"Reaction coordinate given by mode {reaction_idx} with imaginary frequency {im_freqs[0]} cm**-1\")"
   ]
  },
  {
   "cell_type": "code",
   "execution_count": 15,
   "metadata": {},
   "outputs": [
    {
     "name": "stdout",
     "output_type": "stream",
     "text": [
      "Step4/[Cl_CH3_Br]-.hess\n",
      "The file is being recognized as a valid orca hessian file\n",
      "Will plot 1 vibrations:\n",
      "   6\n",
      "creating: Step4/[Cl_CH3_Br]-.hess.v006.xyz\n",
      "\n"
     ]
    }
   ],
   "source": [
    "hess_file = [i_file.replace('.inp', '.hess') for i_file in input_files]\n",
    "print(hess_file[0])\n",
    "p_out = subprocess.run(['orca_pltvib', hess_file[0], str(reaction_idx)], capture_output=True)\n",
    "if p_out.stderr:\n",
    "    print(p_out.stderr.decode())\n",
    "print(p_out.stdout.decode())"
   ]
  },
  {
   "cell_type": "markdown",
   "metadata": {},
   "source": [
    "# Step 5 - Single Point Calculations with Bigger Basis"
   ]
  },
  {
   "cell_type": "code",
   "execution_count": 181,
   "metadata": {},
   "outputs": [
    {
     "data": {
      "text/plain": [
       "['Step5/Br-.out',\n",
       " 'Step5/Cl-.out',\n",
       " 'Step5/Cl-_CH3Br.out',\n",
       " 'Step5/CH3Br.out',\n",
       " 'Step5/[Cl_CH3_Br]-.out',\n",
       " 'Step5/CH3Cl_Br-.out',\n",
       " 'Step5/CH3Cl.out']"
      ]
     },
     "execution_count": 181,
     "metadata": {},
     "output_type": "execute_result"
    }
   ],
   "source": [
    "input_files = glob.glob('Step5/*.inp')\n",
    "output_files = [i_file.replace('.inp', '.out') for i_file in input_files]\n",
    "output_files"
   ]
  },
  {
   "cell_type": "code",
   "execution_count": 182,
   "metadata": {},
   "outputs": [
    {
     "name": "stdout",
     "output_type": "stream",
     "text": [
      "\n",
      "Running \"Step5/Br-.inp\"\n",
      "Writing to \"Step5/Br-.out\"\n",
      "\n",
      "Running \"Step5/Cl-.inp\"\n",
      "Writing to \"Step5/Cl-.out\"\n",
      "\n",
      "Running \"Step5/Cl-_CH3Br.inp\"\n",
      "Writing to \"Step5/Cl-_CH3Br.out\"\n",
      "\n",
      "Running \"Step5/CH3Br.inp\"\n",
      "Writing to \"Step5/CH3Br.out\"\n",
      "\n",
      "Running \"Step5/[Cl_CH3_Br]-.inp\"\n",
      "Writing to \"Step5/[Cl_CH3_Br]-.out\"\n",
      "\n",
      "Running \"Step5/CH3Cl_Br-.inp\"\n",
      "Writing to \"Step5/CH3Cl_Br-.out\"\n",
      "\n",
      "Running \"Step5/CH3Cl.inp\"\n",
      "Writing to \"Step5/CH3Cl.out\"\n"
     ]
    }
   ],
   "source": [
    "for i_file in input_files:\n",
    "    run_orca(i_file)"
   ]
  },
  {
   "cell_type": "markdown",
   "metadata": {},
   "source": [
    "# Step 6 - Solvation Effects"
   ]
  },
  {
   "cell_type": "code",
   "execution_count": 183,
   "metadata": {},
   "outputs": [
    {
     "data": {
      "text/plain": [
       "['Step6/Cl-_CH3Br.out', 'Step6/[Cl_CH3_Br]-.out', 'Step6/CH3Cl_Br-.out']"
      ]
     },
     "execution_count": 183,
     "metadata": {},
     "output_type": "execute_result"
    }
   ],
   "source": [
    "input_files = glob.glob('Step6/*.inp')\n",
    "output_files = [i_file.replace('.inp', '.out') for i_file in input_files]\n",
    "output_files"
   ]
  },
  {
   "cell_type": "code",
   "execution_count": 184,
   "metadata": {},
   "outputs": [
    {
     "name": "stdout",
     "output_type": "stream",
     "text": [
      "\n",
      "Running \"Step6/Cl-_CH3Br.inp\"\n",
      "Writing to \"Step6/Cl-_CH3Br.out\"\n",
      "\n",
      "Running \"Step6/[Cl_CH3_Br]-.inp\"\n",
      "Writing to \"Step6/[Cl_CH3_Br]-.out\"\n",
      "\n",
      "Running \"Step6/CH3Cl_Br-.inp\"\n",
      "Writing to \"Step6/CH3Cl_Br-.out\"\n"
     ]
    }
   ],
   "source": [
    "for i_file in input_files:\n",
    "    run_orca(i_file)"
   ]
  },
  {
   "cell_type": "markdown",
   "metadata": {},
   "source": [
    "# Putting Together the Results"
   ]
  },
  {
   "cell_type": "code",
   "execution_count": 186,
   "metadata": {},
   "outputs": [
    {
     "data": {
      "text/plain": [
       "['Step4/[Cl_CH3_Br]-.out',\n",
       " 'Step3/Cl-_CH3Br.out',\n",
       " 'Step2/Cl-_CH3Br.out',\n",
       " 'Step2/CH3Cl_Br-.out',\n",
       " 'Step5/CH3Br.out',\n",
       " 'Step5/Cl-_CH3Br.out',\n",
       " 'Step5/Cl-.out',\n",
       " 'Step5/Br-.out',\n",
       " 'Step5/CH3Cl_Br-.out',\n",
       " 'Step5/[Cl_CH3_Br]-.out',\n",
       " 'Step5/CH3Cl.out',\n",
       " 'Step6/Cl-_CH3Br.out',\n",
       " 'Step6/CH3Cl_Br-.out',\n",
       " 'Step6/[Cl_CH3_Br]-.out',\n",
       " 'Step1/CH3Br.out',\n",
       " 'Step1/Cl-.out',\n",
       " 'Step1/Br-.out',\n",
       " 'Step1/CH3Cl.out']"
      ]
     },
     "execution_count": 186,
     "metadata": {},
     "output_type": "execute_result"
    }
   ],
   "source": [
    "output_files = glob.glob('Step*/*.out')\n",
    "output_files"
   ]
  },
  {
   "cell_type": "code",
   "execution_count": 187,
   "metadata": {},
   "outputs": [
    {
     "name": "stdout",
     "output_type": "stream",
     "text": [
      "No entropy in \"Step4/[Cl_CH3_Br]-.out\"\n",
      "Found translational entropy\n",
      "No entropy in \"Step3/Cl-_CH3Br.out\"\n",
      "No entropy in \"Step2/Cl-_CH3Br.out\"\n",
      "Found translational entropy\n",
      "No entropy in \"Step2/CH3Cl_Br-.out\"\n",
      "Found translational entropy\n",
      "No entropy in \"Step5/CH3Br.out\"\n",
      "No entropy in \"Step5/Cl-_CH3Br.out\"\n",
      "No entropy in \"Step5/Cl-.out\"\n",
      "No entropy in \"Step5/Br-.out\"\n",
      "No entropy in \"Step5/CH3Cl_Br-.out\"\n",
      "No entropy in \"Step5/[Cl_CH3_Br]-.out\"\n",
      "No entropy in \"Step5/CH3Cl.out\"\n",
      "No entropy in \"Step6/Cl-_CH3Br.out\"\n",
      "No entropy in \"Step6/CH3Cl_Br-.out\"\n",
      "No entropy in \"Step6/[Cl_CH3_Br]-.out\"\n",
      "No entropy in \"Step1/CH3Br.out\"\n",
      "Found translational entropy\n",
      "No entropy in \"Step1/Cl-.out\"\n",
      "Found translational entropy\n",
      "No entropy in \"Step1/Br-.out\"\n",
      "Found translational entropy\n",
      "No entropy in \"Step1/CH3Cl.out\"\n",
      "Found translational entropy\n"
     ]
    },
    {
     "data": {
      "text/html": [
       "<div>\n",
       "<style scoped>\n",
       "    .dataframe tbody tr th:only-of-type {\n",
       "        vertical-align: middle;\n",
       "    }\n",
       "\n",
       "    .dataframe tbody tr th {\n",
       "        vertical-align: top;\n",
       "    }\n",
       "\n",
       "    .dataframe thead th {\n",
       "        text-align: right;\n",
       "    }\n",
       "</style>\n",
       "<table border=\"1\" class=\"dataframe\">\n",
       "  <thead>\n",
       "    <tr style=\"text-align: right;\">\n",
       "      <th></th>\n",
       "      <th>E_sp</th>\n",
       "      <th>E_therm</th>\n",
       "      <th>H</th>\n",
       "      <th>TS</th>\n",
       "      <th>G</th>\n",
       "      <th>G-E(el)</th>\n",
       "    </tr>\n",
       "  </thead>\n",
       "  <tbody>\n",
       "    <tr>\n",
       "      <th>Step4/[Cl_CH3_Br]-</th>\n",
       "      <td>-3073.632714</td>\n",
       "      <td>-3073.591893</td>\n",
       "      <td>-3073.590949</td>\n",
       "      <td>0.034066</td>\n",
       "      <td>-3073.610196</td>\n",
       "      <td>0.022518</td>\n",
       "    </tr>\n",
       "    <tr>\n",
       "      <th>Step3/Cl-_CH3Br</th>\n",
       "      <td>-3073.651568</td>\n",
       "      <td>NaN</td>\n",
       "      <td>NaN</td>\n",
       "      <td>NaN</td>\n",
       "      <td>NaN</td>\n",
       "      <td>NaN</td>\n",
       "    </tr>\n",
       "    <tr>\n",
       "      <th>Step2/Cl-_CH3Br</th>\n",
       "      <td>-3073.635520</td>\n",
       "      <td>-3073.593542</td>\n",
       "      <td>-3073.592597</td>\n",
       "      <td>0.035411</td>\n",
       "      <td>-3073.611844</td>\n",
       "      <td>0.023675</td>\n",
       "    </tr>\n",
       "    <tr>\n",
       "      <th>Step2/CH3Cl_Br-</th>\n",
       "      <td>-3073.652284</td>\n",
       "      <td>-3073.609444</td>\n",
       "      <td>-3073.608500</td>\n",
       "      <td>0.035537</td>\n",
       "      <td>-3073.627747</td>\n",
       "      <td>0.024537</td>\n",
       "    </tr>\n",
       "    <tr>\n",
       "      <th>Step5/CH3Br</th>\n",
       "      <td>-2613.942478</td>\n",
       "      <td>NaN</td>\n",
       "      <td>NaN</td>\n",
       "      <td>NaN</td>\n",
       "      <td>NaN</td>\n",
       "      <td>NaN</td>\n",
       "    </tr>\n",
       "    <tr>\n",
       "      <th>Step5/Cl-_CH3Br</th>\n",
       "      <td>-3074.191893</td>\n",
       "      <td>NaN</td>\n",
       "      <td>NaN</td>\n",
       "      <td>NaN</td>\n",
       "      <td>NaN</td>\n",
       "      <td>NaN</td>\n",
       "    </tr>\n",
       "    <tr>\n",
       "      <th>Step5/Cl-</th>\n",
       "      <td>-460.234317</td>\n",
       "      <td>NaN</td>\n",
       "      <td>NaN</td>\n",
       "      <td>NaN</td>\n",
       "      <td>NaN</td>\n",
       "      <td>NaN</td>\n",
       "    </tr>\n",
       "    <tr>\n",
       "      <th>Step5/Br-</th>\n",
       "      <td>-2574.129170</td>\n",
       "      <td>NaN</td>\n",
       "      <td>NaN</td>\n",
       "      <td>NaN</td>\n",
       "      <td>NaN</td>\n",
       "      <td>NaN</td>\n",
       "    </tr>\n",
       "    <tr>\n",
       "      <th>Step5/CH3Cl_Br-</th>\n",
       "      <td>-3074.202621</td>\n",
       "      <td>NaN</td>\n",
       "      <td>NaN</td>\n",
       "      <td>NaN</td>\n",
       "      <td>NaN</td>\n",
       "      <td>NaN</td>\n",
       "    </tr>\n",
       "    <tr>\n",
       "      <th>Step5/[Cl_CH3_Br]-</th>\n",
       "      <td>-3074.185276</td>\n",
       "      <td>NaN</td>\n",
       "      <td>NaN</td>\n",
       "      <td>NaN</td>\n",
       "      <td>NaN</td>\n",
       "      <td>NaN</td>\n",
       "    </tr>\n",
       "    <tr>\n",
       "      <th>Step5/CH3Cl</th>\n",
       "      <td>-500.060462</td>\n",
       "      <td>NaN</td>\n",
       "      <td>NaN</td>\n",
       "      <td>NaN</td>\n",
       "      <td>NaN</td>\n",
       "      <td>NaN</td>\n",
       "    </tr>\n",
       "    <tr>\n",
       "      <th>Step6/Cl-_CH3Br</th>\n",
       "      <td>-3074.284537</td>\n",
       "      <td>NaN</td>\n",
       "      <td>NaN</td>\n",
       "      <td>NaN</td>\n",
       "      <td>NaN</td>\n",
       "      <td>NaN</td>\n",
       "    </tr>\n",
       "    <tr>\n",
       "      <th>Step6/CH3Cl_Br-</th>\n",
       "      <td>-3074.294512</td>\n",
       "      <td>NaN</td>\n",
       "      <td>NaN</td>\n",
       "      <td>NaN</td>\n",
       "      <td>NaN</td>\n",
       "      <td>NaN</td>\n",
       "    </tr>\n",
       "    <tr>\n",
       "      <th>Step6/[Cl_CH3_Br]-</th>\n",
       "      <td>-3074.269733</td>\n",
       "      <td>NaN</td>\n",
       "      <td>NaN</td>\n",
       "      <td>NaN</td>\n",
       "      <td>NaN</td>\n",
       "      <td>NaN</td>\n",
       "    </tr>\n",
       "    <tr>\n",
       "      <th>Step1/CH3Br</th>\n",
       "      <td>-2613.579210</td>\n",
       "      <td>-2613.539257</td>\n",
       "      <td>-2613.538313</td>\n",
       "      <td>0.027937</td>\n",
       "      <td>-2613.557110</td>\n",
       "      <td>0.022100</td>\n",
       "    </tr>\n",
       "    <tr>\n",
       "      <th>Step1/Cl-</th>\n",
       "      <td>-460.023549</td>\n",
       "      <td>-460.019300</td>\n",
       "      <td>-460.018356</td>\n",
       "      <td>NaN</td>\n",
       "      <td>-460.035759</td>\n",
       "      <td>-0.012210</td>\n",
       "    </tr>\n",
       "    <tr>\n",
       "      <th>Step1/Br-</th>\n",
       "      <td>-2573.783655</td>\n",
       "      <td>-2573.779406</td>\n",
       "      <td>-2573.778462</td>\n",
       "      <td>NaN</td>\n",
       "      <td>-2573.797015</td>\n",
       "      <td>-0.013360</td>\n",
       "    </tr>\n",
       "    <tr>\n",
       "      <th>Step1/CH3Cl</th>\n",
       "      <td>-499.848502</td>\n",
       "      <td>-499.808073</td>\n",
       "      <td>-499.807129</td>\n",
       "      <td>0.026627</td>\n",
       "      <td>-499.825032</td>\n",
       "      <td>0.023469</td>\n",
       "    </tr>\n",
       "  </tbody>\n",
       "</table>\n",
       "</div>"
      ],
      "text/plain": [
       "                           E_sp      E_therm            H        TS  \\\n",
       "Step4/[Cl_CH3_Br]- -3073.632714 -3073.591893 -3073.590949  0.034066   \n",
       "Step3/Cl-_CH3Br    -3073.651568          NaN          NaN       NaN   \n",
       "Step2/Cl-_CH3Br    -3073.635520 -3073.593542 -3073.592597  0.035411   \n",
       "Step2/CH3Cl_Br-    -3073.652284 -3073.609444 -3073.608500  0.035537   \n",
       "Step5/CH3Br        -2613.942478          NaN          NaN       NaN   \n",
       "Step5/Cl-_CH3Br    -3074.191893          NaN          NaN       NaN   \n",
       "Step5/Cl-           -460.234317          NaN          NaN       NaN   \n",
       "Step5/Br-          -2574.129170          NaN          NaN       NaN   \n",
       "Step5/CH3Cl_Br-    -3074.202621          NaN          NaN       NaN   \n",
       "Step5/[Cl_CH3_Br]- -3074.185276          NaN          NaN       NaN   \n",
       "Step5/CH3Cl         -500.060462          NaN          NaN       NaN   \n",
       "Step6/Cl-_CH3Br    -3074.284537          NaN          NaN       NaN   \n",
       "Step6/CH3Cl_Br-    -3074.294512          NaN          NaN       NaN   \n",
       "Step6/[Cl_CH3_Br]- -3074.269733          NaN          NaN       NaN   \n",
       "Step1/CH3Br        -2613.579210 -2613.539257 -2613.538313  0.027937   \n",
       "Step1/Cl-           -460.023549  -460.019300  -460.018356       NaN   \n",
       "Step1/Br-          -2573.783655 -2573.779406 -2573.778462       NaN   \n",
       "Step1/CH3Cl         -499.848502  -499.808073  -499.807129  0.026627   \n",
       "\n",
       "                              G   G-E(el)  \n",
       "Step4/[Cl_CH3_Br]- -3073.610196  0.022518  \n",
       "Step3/Cl-_CH3Br             NaN       NaN  \n",
       "Step2/Cl-_CH3Br    -3073.611844  0.023675  \n",
       "Step2/CH3Cl_Br-    -3073.627747  0.024537  \n",
       "Step5/CH3Br                 NaN       NaN  \n",
       "Step5/Cl-_CH3Br             NaN       NaN  \n",
       "Step5/Cl-                   NaN       NaN  \n",
       "Step5/Br-                   NaN       NaN  \n",
       "Step5/CH3Cl_Br-             NaN       NaN  \n",
       "Step5/[Cl_CH3_Br]-          NaN       NaN  \n",
       "Step5/CH3Cl                 NaN       NaN  \n",
       "Step6/Cl-_CH3Br             NaN       NaN  \n",
       "Step6/CH3Cl_Br-             NaN       NaN  \n",
       "Step6/[Cl_CH3_Br]-          NaN       NaN  \n",
       "Step1/CH3Br        -2613.557110  0.022100  \n",
       "Step1/Cl-           -460.035759 -0.012210  \n",
       "Step1/Br-          -2573.797015 -0.013360  \n",
       "Step1/CH3Cl         -499.825032  0.023469  "
      ]
     },
     "execution_count": 187,
     "metadata": {},
     "output_type": "execute_result"
    }
   ],
   "source": [
    "calcs = {}\n",
    "for o_file in output_files:\n",
    "    terms = parse_orca_output(o_file)\n",
    "    if 'gibbs free energy' not in terms:\n",
    "        print(f'No entropy in \"{o_file}\"')\n",
    "        search_terms = {'TS_trans': 'Translational entropy'}\n",
    "        trans_entr = parse_orca_output(o_file, search_terms=search_terms)\n",
    "        if 'TS_trans' in trans_entr:\n",
    "            print(f'Found translational entropy')\n",
    "            terms['G'] = terms['H'] - trans_entr['TS_trans']\n",
    "            terms['G-E(el)'] = terms['G'] - terms['E_sp']\n",
    "\n",
    "\n",
    "    calcs[o_file[:-4]] = terms\n",
    "\n",
    "\n",
    "raw_res_df = pd.DataFrame(calcs)\n",
    "raw_res_df.T"
   ]
  },
  {
   "cell_type": "code",
   "execution_count": 188,
   "metadata": {},
   "outputs": [],
   "source": [
    "step1_corr = ['Br-', 'Cl-', 'CH3Br', 'CH3Cl'] \n",
    "step2_corr = ['CH3Cl_Br-', 'Cl-_CH3Br'] \n",
    "step4_corr = ['[Cl_CH3_Br]-']\n",
    "\n",
    "for stuff in step1_corr:\n",
    "    raw_res_df[f'Step5/{stuff}']['G'] = raw_res_df[f'Step5/{stuff}']['E_sp'] - raw_res_df[f'Step1/{stuff}']['G-E(el)']\n",
    "for stuff in step2_corr:\n",
    "    raw_res_df[f'Step5/{stuff}']['G'] = raw_res_df[f'Step5/{stuff}']['E_sp'] - raw_res_df[f'Step2/{stuff}']['G-E(el)']\n",
    "    raw_res_df[f'Step6/{stuff}']['G'] = raw_res_df[f'Step6/{stuff}']['E_sp'] - raw_res_df[f'Step2/{stuff}']['G-E(el)']\n",
    "for stuff in step4_corr:\n",
    "    raw_res_df[f'Step5/{stuff}']['G'] = raw_res_df[f'Step5/{stuff}']['E_sp'] - raw_res_df[f'Step4/{stuff}']['G-E(el)']\n",
    "    raw_res_df[f'Step6/{stuff}']['G'] = raw_res_df[f'Step6/{stuff}']['E_sp'] - raw_res_df[f'Step4/{stuff}']['G-E(el)']"
   ]
  },
  {
   "cell_type": "code",
   "execution_count": 189,
   "metadata": {},
   "outputs": [
    {
     "data": {
      "text/html": [
       "<div>\n",
       "<style scoped>\n",
       "    .dataframe tbody tr th:only-of-type {\n",
       "        vertical-align: middle;\n",
       "    }\n",
       "\n",
       "    .dataframe tbody tr th {\n",
       "        vertical-align: top;\n",
       "    }\n",
       "\n",
       "    .dataframe thead th {\n",
       "        text-align: right;\n",
       "    }\n",
       "</style>\n",
       "<table border=\"1\" class=\"dataframe\">\n",
       "  <thead>\n",
       "    <tr style=\"text-align: right;\">\n",
       "      <th></th>\n",
       "      <th>E_sp</th>\n",
       "      <th>E_therm</th>\n",
       "      <th>H</th>\n",
       "      <th>TS</th>\n",
       "      <th>G</th>\n",
       "      <th>G-E(el)</th>\n",
       "    </tr>\n",
       "  </thead>\n",
       "  <tbody>\n",
       "    <tr>\n",
       "      <th>Step4/[Cl_CH3_Br]-</th>\n",
       "      <td>-1.928734e+06</td>\n",
       "      <td>-1.928708e+06</td>\n",
       "      <td>-1.928707e+06</td>\n",
       "      <td>21.377039</td>\n",
       "      <td>-1.928720e+06</td>\n",
       "      <td>14.130330</td>\n",
       "    </tr>\n",
       "    <tr>\n",
       "      <th>Step2/Cl-_CH3Br</th>\n",
       "      <td>-1.928735e+06</td>\n",
       "      <td>-1.928709e+06</td>\n",
       "      <td>-1.928708e+06</td>\n",
       "      <td>22.221014</td>\n",
       "      <td>-1.928721e+06</td>\n",
       "      <td>14.856305</td>\n",
       "    </tr>\n",
       "    <tr>\n",
       "      <th>Step2/CH3Cl_Br-</th>\n",
       "      <td>-1.928746e+06</td>\n",
       "      <td>-1.928719e+06</td>\n",
       "      <td>-1.928718e+06</td>\n",
       "      <td>22.300043</td>\n",
       "      <td>-1.928731e+06</td>\n",
       "      <td>15.397211</td>\n",
       "    </tr>\n",
       "    <tr>\n",
       "      <th>Step5/CH3Br</th>\n",
       "      <td>-1.640274e+06</td>\n",
       "      <td>NaN</td>\n",
       "      <td>NaN</td>\n",
       "      <td>NaN</td>\n",
       "      <td>-1.640288e+06</td>\n",
       "      <td>NaN</td>\n",
       "    </tr>\n",
       "    <tr>\n",
       "      <th>Step5/Cl-_CH3Br</th>\n",
       "      <td>-1.929085e+06</td>\n",
       "      <td>NaN</td>\n",
       "      <td>NaN</td>\n",
       "      <td>NaN</td>\n",
       "      <td>-1.929099e+06</td>\n",
       "      <td>NaN</td>\n",
       "    </tr>\n",
       "    <tr>\n",
       "      <th>Step5/Cl-</th>\n",
       "      <td>-2.888014e+05</td>\n",
       "      <td>NaN</td>\n",
       "      <td>NaN</td>\n",
       "      <td>NaN</td>\n",
       "      <td>-2.887937e+05</td>\n",
       "      <td>NaN</td>\n",
       "    </tr>\n",
       "    <tr>\n",
       "      <th>Step5/Br-</th>\n",
       "      <td>-1.615290e+06</td>\n",
       "      <td>NaN</td>\n",
       "      <td>NaN</td>\n",
       "      <td>NaN</td>\n",
       "      <td>-1.615282e+06</td>\n",
       "      <td>NaN</td>\n",
       "    </tr>\n",
       "    <tr>\n",
       "      <th>Step5/CH3Cl_Br-</th>\n",
       "      <td>-1.929091e+06</td>\n",
       "      <td>NaN</td>\n",
       "      <td>NaN</td>\n",
       "      <td>NaN</td>\n",
       "      <td>-1.929107e+06</td>\n",
       "      <td>NaN</td>\n",
       "    </tr>\n",
       "    <tr>\n",
       "      <th>Step5/[Cl_CH3_Br]-</th>\n",
       "      <td>-1.929080e+06</td>\n",
       "      <td>NaN</td>\n",
       "      <td>NaN</td>\n",
       "      <td>NaN</td>\n",
       "      <td>-1.929095e+06</td>\n",
       "      <td>NaN</td>\n",
       "    </tr>\n",
       "    <tr>\n",
       "      <th>Step5/CH3Cl</th>\n",
       "      <td>-3.137927e+05</td>\n",
       "      <td>NaN</td>\n",
       "      <td>NaN</td>\n",
       "      <td>NaN</td>\n",
       "      <td>-3.138074e+05</td>\n",
       "      <td>NaN</td>\n",
       "    </tr>\n",
       "    <tr>\n",
       "      <th>Step6/Cl-_CH3Br</th>\n",
       "      <td>-1.929143e+06</td>\n",
       "      <td>NaN</td>\n",
       "      <td>NaN</td>\n",
       "      <td>NaN</td>\n",
       "      <td>-1.929158e+06</td>\n",
       "      <td>NaN</td>\n",
       "    </tr>\n",
       "    <tr>\n",
       "      <th>Step6/CH3Cl_Br-</th>\n",
       "      <td>-1.929149e+06</td>\n",
       "      <td>NaN</td>\n",
       "      <td>NaN</td>\n",
       "      <td>NaN</td>\n",
       "      <td>-1.929164e+06</td>\n",
       "      <td>NaN</td>\n",
       "    </tr>\n",
       "    <tr>\n",
       "      <th>Step6/[Cl_CH3_Br]-</th>\n",
       "      <td>-1.929133e+06</td>\n",
       "      <td>NaN</td>\n",
       "      <td>NaN</td>\n",
       "      <td>NaN</td>\n",
       "      <td>-1.929148e+06</td>\n",
       "      <td>NaN</td>\n",
       "    </tr>\n",
       "    <tr>\n",
       "      <th>Step1/CH3Br</th>\n",
       "      <td>-1.640046e+06</td>\n",
       "      <td>-1.640021e+06</td>\n",
       "      <td>-1.640020e+06</td>\n",
       "      <td>17.530977</td>\n",
       "      <td>-1.640032e+06</td>\n",
       "      <td>13.867678</td>\n",
       "    </tr>\n",
       "    <tr>\n",
       "      <th>Step1/Cl-</th>\n",
       "      <td>-2.886691e+05</td>\n",
       "      <td>-2.886665e+05</td>\n",
       "      <td>-2.886659e+05</td>\n",
       "      <td>NaN</td>\n",
       "      <td>-2.886768e+05</td>\n",
       "      <td>-7.661583</td>\n",
       "    </tr>\n",
       "    <tr>\n",
       "      <th>Step1/Br-</th>\n",
       "      <td>-1.615074e+06</td>\n",
       "      <td>-1.615071e+06</td>\n",
       "      <td>-1.615070e+06</td>\n",
       "      <td>NaN</td>\n",
       "      <td>-1.615082e+06</td>\n",
       "      <td>-8.383735</td>\n",
       "    </tr>\n",
       "    <tr>\n",
       "      <th>Step1/CH3Cl</th>\n",
       "      <td>-3.136597e+05</td>\n",
       "      <td>-3.136343e+05</td>\n",
       "      <td>-3.136337e+05</td>\n",
       "      <td>16.709002</td>\n",
       "      <td>-3.136449e+05</td>\n",
       "      <td>14.727261</td>\n",
       "    </tr>\n",
       "  </tbody>\n",
       "</table>\n",
       "</div>"
      ],
      "text/plain": [
       "                            E_sp       E_therm             H         TS  \\\n",
       "Step4/[Cl_CH3_Br]- -1.928734e+06 -1.928708e+06 -1.928707e+06  21.377039   \n",
       "Step2/Cl-_CH3Br    -1.928735e+06 -1.928709e+06 -1.928708e+06  22.221014   \n",
       "Step2/CH3Cl_Br-    -1.928746e+06 -1.928719e+06 -1.928718e+06  22.300043   \n",
       "Step5/CH3Br        -1.640274e+06           NaN           NaN        NaN   \n",
       "Step5/Cl-_CH3Br    -1.929085e+06           NaN           NaN        NaN   \n",
       "Step5/Cl-          -2.888014e+05           NaN           NaN        NaN   \n",
       "Step5/Br-          -1.615290e+06           NaN           NaN        NaN   \n",
       "Step5/CH3Cl_Br-    -1.929091e+06           NaN           NaN        NaN   \n",
       "Step5/[Cl_CH3_Br]- -1.929080e+06           NaN           NaN        NaN   \n",
       "Step5/CH3Cl        -3.137927e+05           NaN           NaN        NaN   \n",
       "Step6/Cl-_CH3Br    -1.929143e+06           NaN           NaN        NaN   \n",
       "Step6/CH3Cl_Br-    -1.929149e+06           NaN           NaN        NaN   \n",
       "Step6/[Cl_CH3_Br]- -1.929133e+06           NaN           NaN        NaN   \n",
       "Step1/CH3Br        -1.640046e+06 -1.640021e+06 -1.640020e+06  17.530977   \n",
       "Step1/Cl-          -2.886691e+05 -2.886665e+05 -2.886659e+05        NaN   \n",
       "Step1/Br-          -1.615074e+06 -1.615071e+06 -1.615070e+06        NaN   \n",
       "Step1/CH3Cl        -3.136597e+05 -3.136343e+05 -3.136337e+05  16.709002   \n",
       "\n",
       "                               G    G-E(el)  \n",
       "Step4/[Cl_CH3_Br]- -1.928720e+06  14.130330  \n",
       "Step2/Cl-_CH3Br    -1.928721e+06  14.856305  \n",
       "Step2/CH3Cl_Br-    -1.928731e+06  15.397211  \n",
       "Step5/CH3Br        -1.640288e+06        NaN  \n",
       "Step5/Cl-_CH3Br    -1.929099e+06        NaN  \n",
       "Step5/Cl-          -2.887937e+05        NaN  \n",
       "Step5/Br-          -1.615282e+06        NaN  \n",
       "Step5/CH3Cl_Br-    -1.929107e+06        NaN  \n",
       "Step5/[Cl_CH3_Br]- -1.929095e+06        NaN  \n",
       "Step5/CH3Cl        -3.138074e+05        NaN  \n",
       "Step6/Cl-_CH3Br    -1.929158e+06        NaN  \n",
       "Step6/CH3Cl_Br-    -1.929164e+06        NaN  \n",
       "Step6/[Cl_CH3_Br]- -1.929148e+06        NaN  \n",
       "Step1/CH3Br        -1.640032e+06  13.867678  \n",
       "Step1/Cl-          -2.886768e+05  -7.661583  \n",
       "Step1/Br-          -1.615082e+06  -8.383735  \n",
       "Step1/CH3Cl        -3.136449e+05  14.727261  "
      ]
     },
     "execution_count": 189,
     "metadata": {},
     "output_type": "execute_result"
    }
   ],
   "source": [
    "res_df = raw_res_df.filter(regex='Step[1,2,4,5,6]') * 627.5094740631\n",
    "res_df.T"
   ]
  },
  {
   "cell_type": "code",
   "execution_count": 190,
   "metadata": {},
   "outputs": [
    {
     "data": {
      "text/html": [
       "<div>\n",
       "<style scoped>\n",
       "    .dataframe tbody tr th:only-of-type {\n",
       "        vertical-align: middle;\n",
       "    }\n",
       "\n",
       "    .dataframe tbody tr th {\n",
       "        vertical-align: top;\n",
       "    }\n",
       "\n",
       "    .dataframe thead th {\n",
       "        text-align: right;\n",
       "    }\n",
       "</style>\n",
       "<table border=\"1\" class=\"dataframe\">\n",
       "  <thead>\n",
       "    <tr style=\"text-align: right;\">\n",
       "      <th></th>\n",
       "      <th>E_sp</th>\n",
       "      <th>E_therm</th>\n",
       "      <th>H</th>\n",
       "      <th>TS</th>\n",
       "      <th>G</th>\n",
       "      <th>G-E(el)</th>\n",
       "    </tr>\n",
       "  </thead>\n",
       "  <tbody>\n",
       "    <tr>\n",
       "      <th>Step4/[Cl_CH3_Br]-</th>\n",
       "      <td>-1.928734e+06</td>\n",
       "      <td>-1.928708e+06</td>\n",
       "      <td>-1.928707e+06</td>\n",
       "      <td>21.377039</td>\n",
       "      <td>-1.928720e+06</td>\n",
       "      <td>14.130330</td>\n",
       "    </tr>\n",
       "    <tr>\n",
       "      <th>Step2/Cl-_CH3Br</th>\n",
       "      <td>-1.928735e+06</td>\n",
       "      <td>-1.928709e+06</td>\n",
       "      <td>-1.928708e+06</td>\n",
       "      <td>22.221014</td>\n",
       "      <td>-1.928721e+06</td>\n",
       "      <td>14.856305</td>\n",
       "    </tr>\n",
       "    <tr>\n",
       "      <th>Step2/CH3Cl_Br-</th>\n",
       "      <td>-1.928746e+06</td>\n",
       "      <td>-1.928719e+06</td>\n",
       "      <td>-1.928718e+06</td>\n",
       "      <td>22.300043</td>\n",
       "      <td>-1.928731e+06</td>\n",
       "      <td>15.397211</td>\n",
       "    </tr>\n",
       "    <tr>\n",
       "      <th>Step5/CH3Br</th>\n",
       "      <td>-1.640274e+06</td>\n",
       "      <td>NaN</td>\n",
       "      <td>NaN</td>\n",
       "      <td>NaN</td>\n",
       "      <td>-1.640288e+06</td>\n",
       "      <td>NaN</td>\n",
       "    </tr>\n",
       "    <tr>\n",
       "      <th>Step5/Cl-_CH3Br</th>\n",
       "      <td>-1.929085e+06</td>\n",
       "      <td>NaN</td>\n",
       "      <td>NaN</td>\n",
       "      <td>NaN</td>\n",
       "      <td>-1.929099e+06</td>\n",
       "      <td>NaN</td>\n",
       "    </tr>\n",
       "    <tr>\n",
       "      <th>Step5/Cl-</th>\n",
       "      <td>-2.888014e+05</td>\n",
       "      <td>NaN</td>\n",
       "      <td>NaN</td>\n",
       "      <td>NaN</td>\n",
       "      <td>-2.887937e+05</td>\n",
       "      <td>NaN</td>\n",
       "    </tr>\n",
       "    <tr>\n",
       "      <th>Step5/Br-</th>\n",
       "      <td>-1.615290e+06</td>\n",
       "      <td>NaN</td>\n",
       "      <td>NaN</td>\n",
       "      <td>NaN</td>\n",
       "      <td>-1.615282e+06</td>\n",
       "      <td>NaN</td>\n",
       "    </tr>\n",
       "    <tr>\n",
       "      <th>Step5/CH3Cl_Br-</th>\n",
       "      <td>-1.929091e+06</td>\n",
       "      <td>NaN</td>\n",
       "      <td>NaN</td>\n",
       "      <td>NaN</td>\n",
       "      <td>-1.929107e+06</td>\n",
       "      <td>NaN</td>\n",
       "    </tr>\n",
       "    <tr>\n",
       "      <th>Step5/[Cl_CH3_Br]-</th>\n",
       "      <td>-1.929080e+06</td>\n",
       "      <td>NaN</td>\n",
       "      <td>NaN</td>\n",
       "      <td>NaN</td>\n",
       "      <td>-1.929095e+06</td>\n",
       "      <td>NaN</td>\n",
       "    </tr>\n",
       "    <tr>\n",
       "      <th>Step5/CH3Cl</th>\n",
       "      <td>-3.137927e+05</td>\n",
       "      <td>NaN</td>\n",
       "      <td>NaN</td>\n",
       "      <td>NaN</td>\n",
       "      <td>-3.138074e+05</td>\n",
       "      <td>NaN</td>\n",
       "    </tr>\n",
       "    <tr>\n",
       "      <th>Step6/Cl-_CH3Br</th>\n",
       "      <td>-1.929143e+06</td>\n",
       "      <td>NaN</td>\n",
       "      <td>NaN</td>\n",
       "      <td>NaN</td>\n",
       "      <td>-1.929158e+06</td>\n",
       "      <td>NaN</td>\n",
       "    </tr>\n",
       "    <tr>\n",
       "      <th>Step6/CH3Cl_Br-</th>\n",
       "      <td>-1.929149e+06</td>\n",
       "      <td>NaN</td>\n",
       "      <td>NaN</td>\n",
       "      <td>NaN</td>\n",
       "      <td>-1.929164e+06</td>\n",
       "      <td>NaN</td>\n",
       "    </tr>\n",
       "    <tr>\n",
       "      <th>Step6/[Cl_CH3_Br]-</th>\n",
       "      <td>-1.929133e+06</td>\n",
       "      <td>NaN</td>\n",
       "      <td>NaN</td>\n",
       "      <td>NaN</td>\n",
       "      <td>-1.929148e+06</td>\n",
       "      <td>NaN</td>\n",
       "    </tr>\n",
       "    <tr>\n",
       "      <th>Step1/CH3Br</th>\n",
       "      <td>-1.640046e+06</td>\n",
       "      <td>-1.640021e+06</td>\n",
       "      <td>-1.640020e+06</td>\n",
       "      <td>17.530977</td>\n",
       "      <td>-1.640032e+06</td>\n",
       "      <td>13.867678</td>\n",
       "    </tr>\n",
       "    <tr>\n",
       "      <th>Step1/Cl-</th>\n",
       "      <td>-2.886691e+05</td>\n",
       "      <td>-2.886665e+05</td>\n",
       "      <td>-2.886659e+05</td>\n",
       "      <td>NaN</td>\n",
       "      <td>-2.886768e+05</td>\n",
       "      <td>-7.661583</td>\n",
       "    </tr>\n",
       "    <tr>\n",
       "      <th>Step1/Br-</th>\n",
       "      <td>-1.615074e+06</td>\n",
       "      <td>-1.615071e+06</td>\n",
       "      <td>-1.615070e+06</td>\n",
       "      <td>NaN</td>\n",
       "      <td>-1.615082e+06</td>\n",
       "      <td>-8.383735</td>\n",
       "    </tr>\n",
       "    <tr>\n",
       "      <th>Step1/CH3Cl</th>\n",
       "      <td>-3.136597e+05</td>\n",
       "      <td>-3.136343e+05</td>\n",
       "      <td>-3.136337e+05</td>\n",
       "      <td>16.709002</td>\n",
       "      <td>-3.136449e+05</td>\n",
       "      <td>14.727261</td>\n",
       "    </tr>\n",
       "    <tr>\n",
       "      <th>Step1/Cl- + CH3Br</th>\n",
       "      <td>-1.928715e+06</td>\n",
       "      <td>-1.928687e+06</td>\n",
       "      <td>-1.928686e+06</td>\n",
       "      <td>NaN</td>\n",
       "      <td>-1.928709e+06</td>\n",
       "      <td>6.206094</td>\n",
       "    </tr>\n",
       "    <tr>\n",
       "      <th>Step1/CH3Cl + Br-</th>\n",
       "      <td>-1.928733e+06</td>\n",
       "      <td>-1.928705e+06</td>\n",
       "      <td>-1.928704e+06</td>\n",
       "      <td>NaN</td>\n",
       "      <td>-1.928727e+06</td>\n",
       "      <td>6.343526</td>\n",
       "    </tr>\n",
       "    <tr>\n",
       "      <th>Step5/Cl- + CH3Br</th>\n",
       "      <td>-1.929075e+06</td>\n",
       "      <td>NaN</td>\n",
       "      <td>NaN</td>\n",
       "      <td>NaN</td>\n",
       "      <td>-1.929081e+06</td>\n",
       "      <td>NaN</td>\n",
       "    </tr>\n",
       "    <tr>\n",
       "      <th>Step5/CH3Cl + Br-</th>\n",
       "      <td>-1.929083e+06</td>\n",
       "      <td>NaN</td>\n",
       "      <td>NaN</td>\n",
       "      <td>NaN</td>\n",
       "      <td>-1.929089e+06</td>\n",
       "      <td>NaN</td>\n",
       "    </tr>\n",
       "  </tbody>\n",
       "</table>\n",
       "</div>"
      ],
      "text/plain": [
       "                            E_sp       E_therm             H         TS  \\\n",
       "Step4/[Cl_CH3_Br]- -1.928734e+06 -1.928708e+06 -1.928707e+06  21.377039   \n",
       "Step2/Cl-_CH3Br    -1.928735e+06 -1.928709e+06 -1.928708e+06  22.221014   \n",
       "Step2/CH3Cl_Br-    -1.928746e+06 -1.928719e+06 -1.928718e+06  22.300043   \n",
       "Step5/CH3Br        -1.640274e+06           NaN           NaN        NaN   \n",
       "Step5/Cl-_CH3Br    -1.929085e+06           NaN           NaN        NaN   \n",
       "Step5/Cl-          -2.888014e+05           NaN           NaN        NaN   \n",
       "Step5/Br-          -1.615290e+06           NaN           NaN        NaN   \n",
       "Step5/CH3Cl_Br-    -1.929091e+06           NaN           NaN        NaN   \n",
       "Step5/[Cl_CH3_Br]- -1.929080e+06           NaN           NaN        NaN   \n",
       "Step5/CH3Cl        -3.137927e+05           NaN           NaN        NaN   \n",
       "Step6/Cl-_CH3Br    -1.929143e+06           NaN           NaN        NaN   \n",
       "Step6/CH3Cl_Br-    -1.929149e+06           NaN           NaN        NaN   \n",
       "Step6/[Cl_CH3_Br]- -1.929133e+06           NaN           NaN        NaN   \n",
       "Step1/CH3Br        -1.640046e+06 -1.640021e+06 -1.640020e+06  17.530977   \n",
       "Step1/Cl-          -2.886691e+05 -2.886665e+05 -2.886659e+05        NaN   \n",
       "Step1/Br-          -1.615074e+06 -1.615071e+06 -1.615070e+06        NaN   \n",
       "Step1/CH3Cl        -3.136597e+05 -3.136343e+05 -3.136337e+05  16.709002   \n",
       "Step1/Cl- + CH3Br  -1.928715e+06 -1.928687e+06 -1.928686e+06        NaN   \n",
       "Step1/CH3Cl + Br-  -1.928733e+06 -1.928705e+06 -1.928704e+06        NaN   \n",
       "Step5/Cl- + CH3Br  -1.929075e+06           NaN           NaN        NaN   \n",
       "Step5/CH3Cl + Br-  -1.929083e+06           NaN           NaN        NaN   \n",
       "\n",
       "                               G    G-E(el)  \n",
       "Step4/[Cl_CH3_Br]- -1.928720e+06  14.130330  \n",
       "Step2/Cl-_CH3Br    -1.928721e+06  14.856305  \n",
       "Step2/CH3Cl_Br-    -1.928731e+06  15.397211  \n",
       "Step5/CH3Br        -1.640288e+06        NaN  \n",
       "Step5/Cl-_CH3Br    -1.929099e+06        NaN  \n",
       "Step5/Cl-          -2.887937e+05        NaN  \n",
       "Step5/Br-          -1.615282e+06        NaN  \n",
       "Step5/CH3Cl_Br-    -1.929107e+06        NaN  \n",
       "Step5/[Cl_CH3_Br]- -1.929095e+06        NaN  \n",
       "Step5/CH3Cl        -3.138074e+05        NaN  \n",
       "Step6/Cl-_CH3Br    -1.929158e+06        NaN  \n",
       "Step6/CH3Cl_Br-    -1.929164e+06        NaN  \n",
       "Step6/[Cl_CH3_Br]- -1.929148e+06        NaN  \n",
       "Step1/CH3Br        -1.640032e+06  13.867678  \n",
       "Step1/Cl-          -2.886768e+05  -7.661583  \n",
       "Step1/Br-          -1.615082e+06  -8.383735  \n",
       "Step1/CH3Cl        -3.136449e+05  14.727261  \n",
       "Step1/Cl- + CH3Br  -1.928709e+06   6.206094  \n",
       "Step1/CH3Cl + Br-  -1.928727e+06   6.343526  \n",
       "Step5/Cl- + CH3Br  -1.929081e+06        NaN  \n",
       "Step5/CH3Cl + Br-  -1.929089e+06        NaN  "
      ]
     },
     "execution_count": 190,
     "metadata": {},
     "output_type": "execute_result"
    }
   ],
   "source": [
    "res_df['Step1/Cl- + CH3Br'] = res_df['Step1/Cl-'] + res_df['Step1/CH3Br']\n",
    "res_df['Step1/CH3Cl + Br-'] = res_df['Step1/Br-'] + res_df['Step1/CH3Cl']\n",
    "res_df['Step5/Cl- + CH3Br'] = res_df['Step5/Cl-'] + res_df['Step5/CH3Br']\n",
    "res_df['Step5/CH3Cl + Br-'] = res_df['Step5/Br-'] + res_df['Step5/CH3Cl']\n",
    "res_df.T"
   ]
  },
  {
   "cell_type": "code",
   "execution_count": 191,
   "metadata": {},
   "outputs": [
    {
     "data": {
      "text/plain": [
       "Step5/CH3Cl_Br-      -1.929107e+06\n",
       "Step5/Cl-_CH3Br      -1.929099e+06\n",
       "Step5/[Cl_CH3_Br]-   -1.929095e+06\n",
       "Step5/CH3Cl + Br-    -1.929089e+06\n",
       "Step5/Cl- + CH3Br    -1.929081e+06\n",
       "Step2/CH3Cl_Br-      -1.928731e+06\n",
       "Step1/CH3Cl + Br-    -1.928727e+06\n",
       "Step2/Cl-_CH3Br      -1.928721e+06\n",
       "Step1/Cl- + CH3Br    -1.928709e+06\n",
       "Step5/CH3Br          -1.640288e+06\n",
       "Step1/CH3Br          -1.640032e+06\n",
       "Step5/Br-            -1.615282e+06\n",
       "Step1/Br-            -1.615082e+06\n",
       "Step5/CH3Cl          -3.138074e+05\n",
       "Step1/CH3Cl          -3.136449e+05\n",
       "Step5/Cl-            -2.887937e+05\n",
       "Step1/Cl-            -2.886768e+05\n",
       "Name: G, dtype: float64"
      ]
     },
     "execution_count": 191,
     "metadata": {},
     "output_type": "execute_result"
    }
   ],
   "source": [
    "res_df.filter(regex='Step[1,2,5]').T['G'].sort_values()"
   ]
  },
  {
   "cell_type": "markdown",
   "metadata": {},
   "source": [
    "We see that the the lowest energy state before the transition state is $Cl^-\\;-\\; CH_3Br$ with -3073.611844 Ha"
   ]
  },
  {
   "cell_type": "code",
   "execution_count": 192,
   "metadata": {},
   "outputs": [
    {
     "data": {
      "text/plain": [
       "E_sp      -1.928735e+06\n",
       "E_therm   -1.928709e+06\n",
       "H         -1.928708e+06\n",
       "TS         2.222101e+01\n",
       "G         -1.928721e+06\n",
       "G-E(el)    1.485630e+01\n",
       "Name: Step2/Cl-_CH3Br, dtype: float64"
      ]
     },
     "execution_count": 192,
     "metadata": {},
     "output_type": "execute_result"
    }
   ],
   "source": [
    "svp_ref = res_df['Step2/Cl-_CH3Br']\n",
    "svp_ref"
   ]
  },
  {
   "cell_type": "code",
   "execution_count": 193,
   "metadata": {},
   "outputs": [
    {
     "data": {
      "text/plain": [
       "Step4/[Cl_CH3_Br]-      1.034550\n",
       "Step2/Cl-_CH3Br         0.000000\n",
       "Step2/CH3Cl_Br-        -9.978894\n",
       "Step5/Cl-_CH3Br      -378.842386\n",
       "Step5/CH3Cl_Br-      -386.115362\n",
       "Step5/[Cl_CH3_Br]-   -373.964046\n",
       "Step6/Cl-_CH3Br      -436.976945\n",
       "Step6/CH3Cl_Br-      -443.777403\n",
       "Step6/[Cl_CH3_Br]-   -426.961501\n",
       "Step1/Cl- + CH3Br      11.907337\n",
       "Step1/CH3Cl + Br-      -6.402661\n",
       "Step5/Cl- + CH3Br    -360.717402\n",
       "Step5/CH3Cl + Br-    -368.910517\n",
       "Name: G, dtype: float64"
      ]
     },
     "execution_count": 193,
     "metadata": {},
     "output_type": "execute_result"
    }
   ],
   "source": [
    "(res_df.T - svp_ref)['G'].filter(regex='[1,2,4,5,6].*[_,+]')"
   ]
  },
  {
   "cell_type": "code",
   "execution_count": 194,
   "metadata": {},
   "outputs": [
    {
     "data": {
      "text/plain": [
       "Step5/Cl-_CH3Br        0.000000\n",
       "Step5/CH3Cl_Br-       -7.272975\n",
       "Step5/[Cl_CH3_Br]-     4.878340\n",
       "Step5/Cl- + CH3Br     18.124985\n",
       "Step5/CH3Cl + Br-      9.931869\n",
       "Name: G, dtype: float64"
      ]
     },
     "execution_count": 194,
     "metadata": {},
     "output_type": "execute_result"
    }
   ],
   "source": [
    "tzvpd_ref = res_df['Step5/Cl-_CH3Br']\n",
    "tzvpd_ref\n",
    "(res_df.T - tzvpd_ref)['G'].filter(regex='[5].*[_,+]')"
   ]
  },
  {
   "cell_type": "code",
   "execution_count": 195,
   "metadata": {},
   "outputs": [],
   "source": [
    "latex_replacements = {'Step1/Br-': r'\\ce{Br-}',\n",
    "                      'Step5/Br-': r'\\ce{Br-}',\n",
    "                      'Step1/CH3Br': r'\\ce{CH3Br}',\n",
    "                      'Step5/CH3Br': r'\\ce{CH3Br}',\n",
    "                      'Step1/CH3Cl': r'\\ce{CH3Cl}',\n",
    "                      'Step5/CH3Cl': r'\\ce{CH3Cl}',\n",
    "                      'Step1/CH3Cl + Br-': r'\\ce{CH3Cl + Br-}',\n",
    "                      'Step5/CH3Cl + Br-': r'\\ce{CH3Cl + Br-}',\n",
    "                      'Step1/Cl-': r'\\ce{Cl-}',\n",
    "                      'Step5/Cl-': r'\\ce{Cl-}',\n",
    "                      'Step1/Cl- + CH3Br': r'\\ce{Cl- + CH3Br}',\n",
    "                      'Step5/Cl- + CH3Br': r'\\ce{Cl- + CH3Br}',\n",
    "                      'Step2/CH3Cl\\_Br-': r'\\ce{CH3Cl\\bond{...}Br-}',\n",
    "                      'Step5/CH3Cl\\_Br-': r'\\ce{CH3Cl\\bond{...}Br-}',\n",
    "                      'Step6/CH3Cl\\_Br-': r'\\ce{CH3Cl\\bond{...}Br-}',\n",
    "                      'Step2/Cl-\\_CH3Br': r'\\ce{Cl^-\\bond{...}CH3Br}',\n",
    "                      'Step5/Cl-\\_CH3Br': r'\\ce{Cl^-\\bond{...}CH3Br}',\n",
    "                      'Step6/Cl-\\_CH3Br': r'\\ce{Cl^-\\bond{...}CH3Br}',\n",
    "                      'Step4/[Cl\\_CH3\\_Br]-': r'\\ce{[Cl\\bond{...}CH3\\bond{...}Br]-}',\n",
    "                      'Step5/[Cl\\_CH3\\_Br]-': r'\\ce{[Cl\\bond{...}CH3\\bond{...}Br]-}',\n",
    "                      'Step6/[Cl\\_CH3\\_Br]-': r'\\ce{[Cl\\bond{...}CH3\\bond{...}Br]-}',\n",
    "                     }\n",
    "\n",
    "sorted_latex_keys = sorted(latex_replacements.keys(), reverse=True)"
   ]
  },
  {
   "cell_type": "code",
   "execution_count": 196,
   "metadata": {},
   "outputs": [
    {
     "name": "stdout",
     "output_type": "stream",
     "text": [
      "\\begin{tabular}{lrrrr}\n",
      "\\toprule\n",
      "{} &        E\\_sp &           H &           G &  G-E(el) \\\\\n",
      "\\midrule\n",
      "\\ce{Br-}          & -1615073.63 & -1615070.37 & -1615082.01 &    -8.38 \\\\\n",
      "\\ce{CH3Br}        & -1640045.72 & -1640020.05 & -1640031.85 &    13.87 \\\\\n",
      "\\ce{CH3Cl}        &  -313659.67 &  -313633.71 &  -313644.94 &    14.73 \\\\\n",
      "\\ce{CH3Cl + Br-}  & -1928733.30 & -1928704.08 & -1928726.95 &     6.34 \\\\\n",
      "\\ce{Cl-}          &  -288669.14 &  -288665.88 &  -288676.80 &    -7.66 \\\\\n",
      "\\ce{Cl- + CH3Br}  & -1928714.85 & -1928685.93 & -1928708.64 &     6.21 \\\\\n",
      "\\ce{CH3Cl\\bond{...}Br-}    & -1928745.93 & -1928718.45 & -1928730.53 &    15.40 \\\\\n",
      "\\ce{Cl^-\\bond{...}CH3Br}    & -1928735.41 & -1928708.47 & -1928720.55 &    14.86 \\\\\n",
      "\\ce{[Cl\\bond{...}CH3\\bond{...}Br]-} & -1928733.65 & -1928707.44 & -1928719.52 &    14.13 \\\\\n",
      "\\ce{Br-}          & -1615290.44 &           - & -1615282.06 &        - \\\\\n",
      "\\ce{CH3Br}        & -1640273.67 &           - & -1640287.54 &        - \\\\\n",
      "\\ce{CH3Cl}        &  -313792.68 &           - &  -313807.40 &        - \\\\\n",
      "\\ce{CH3Cl + Br-}  & -1929083.12 &           - & -1929089.46 &        - \\\\\n",
      "\\ce{CH3Cl\\bond{...}Br-}    & -1929091.27 &           - & -1929106.67 &        - \\\\\n",
      "\\ce{Cl-}          &  -288801.39 &           - &  -288793.73 &        - \\\\\n",
      "\\ce{Cl- + CH3Br}  & -1929075.06 &           - & -1929081.27 &        - \\\\\n",
      "\\ce{Cl^-\\bond{...}CH3Br}    & -1929084.54 &           - & -1929099.39 &        - \\\\\n",
      "\\ce{[Cl\\bond{...}CH3\\bond{...}Br]-} & -1929080.39 &           - & -1929094.52 &        - \\\\\n",
      "\\ce{CH3Cl\\bond{...}Br-}    & -1929148.93 &           - & -1929164.33 &        - \\\\\n",
      "\\ce{Cl^-\\bond{...}CH3Br}    & -1929142.67 &           - & -1929157.53 &        - \\\\\n",
      "\\ce{[Cl\\bond{...}CH3\\bond{...}Br]-} & -1929133.38 &           - & -1929147.51 &        - \\\\\n",
      "\\bottomrule\n",
      "\\end{tabular}\n",
      "\n"
     ]
    }
   ],
   "source": [
    "table = res_df.filter(regex='Step[1,2,4,5,6]').T[['E_sp', 'H', 'G', 'G-E(el)']].sort_index().to_latex(float_format=\"%.2f\", na_rep='-')\n",
    "for key in sorted_latex_keys:\n",
    "    table = table.replace(key, latex_replacements[key])\n",
    "    \n",
    "print(table)"
   ]
  },
  {
   "cell_type": "code",
   "execution_count": 199,
   "metadata": {},
   "outputs": [
    {
     "data": {
      "text/html": [
       "<div>\n",
       "<style scoped>\n",
       "    .dataframe tbody tr th:only-of-type {\n",
       "        vertical-align: middle;\n",
       "    }\n",
       "\n",
       "    .dataframe tbody tr th {\n",
       "        vertical-align: top;\n",
       "    }\n",
       "\n",
       "    .dataframe thead th {\n",
       "        text-align: right;\n",
       "    }\n",
       "</style>\n",
       "<table border=\"1\" class=\"dataframe\">\n",
       "  <thead>\n",
       "    <tr style=\"text-align: right;\">\n",
       "      <th></th>\n",
       "      <th>E_sp</th>\n",
       "      <th>E_therm</th>\n",
       "      <th>H</th>\n",
       "      <th>TS</th>\n",
       "      <th>G</th>\n",
       "      <th>G-E(el)</th>\n",
       "    </tr>\n",
       "  </thead>\n",
       "  <tbody>\n",
       "    <tr>\n",
       "      <th>Step6/Cl-_CH3Br</th>\n",
       "      <td>-1.929143e+06</td>\n",
       "      <td>NaN</td>\n",
       "      <td>NaN</td>\n",
       "      <td>NaN</td>\n",
       "      <td>-1.929158e+06</td>\n",
       "      <td>NaN</td>\n",
       "    </tr>\n",
       "    <tr>\n",
       "      <th>Step6/CH3Cl_Br-</th>\n",
       "      <td>-1.929149e+06</td>\n",
       "      <td>NaN</td>\n",
       "      <td>NaN</td>\n",
       "      <td>NaN</td>\n",
       "      <td>-1.929164e+06</td>\n",
       "      <td>NaN</td>\n",
       "    </tr>\n",
       "    <tr>\n",
       "      <th>Step6/[Cl_CH3_Br]-</th>\n",
       "      <td>-1.929133e+06</td>\n",
       "      <td>NaN</td>\n",
       "      <td>NaN</td>\n",
       "      <td>NaN</td>\n",
       "      <td>-1.929148e+06</td>\n",
       "      <td>NaN</td>\n",
       "    </tr>\n",
       "  </tbody>\n",
       "</table>\n",
       "</div>"
      ],
      "text/plain": [
       "                            E_sp  E_therm   H  TS             G  G-E(el)\n",
       "Step6/Cl-_CH3Br    -1.929143e+06      NaN NaN NaN -1.929158e+06      NaN\n",
       "Step6/CH3Cl_Br-    -1.929149e+06      NaN NaN NaN -1.929164e+06      NaN\n",
       "Step6/[Cl_CH3_Br]- -1.929133e+06      NaN NaN NaN -1.929148e+06      NaN"
      ]
     },
     "execution_count": 199,
     "metadata": {},
     "output_type": "execute_result"
    }
   ],
   "source": [
    "res_df.filter(regex='Step6').T"
   ]
  },
  {
   "cell_type": "code",
   "execution_count": 198,
   "metadata": {},
   "outputs": [
    {
     "data": {
      "text/plain": [
       "Step6/Cl-_CH3Br        0.000000\n",
       "Step6/CH3Cl_Br-       -6.800458\n",
       "Step6/[Cl_CH3_Br]-    10.015444\n",
       "Name: G, dtype: float64"
      ]
     },
     "execution_count": 198,
     "metadata": {},
     "output_type": "execute_result"
    }
   ],
   "source": [
    "dmf_ref = res_df['Step6/Cl-_CH3Br']\n",
    "dmf_ref\n",
    "(res_df.T - dmf_ref)['G'].filter(regex='Step[6]')"
   ]
  },
  {
   "cell_type": "code",
   "execution_count": 216,
   "metadata": {},
   "outputs": [
    {
     "data": {
      "text/plain": [
       "261130.4190484405"
      ]
     },
     "execution_count": 216,
     "metadata": {},
     "output_type": "execute_result"
    }
   ],
   "source": [
    "# Eyring equation\n",
    "def eyring(dG, T=297):\n",
    "    kB = 1.380649e-23\n",
    "    h = 6.626068e-34\n",
    "    kappa = 1\n",
    "    R = 8.31446261815324\n",
    "    \n",
    "    return kappa * (kB * T / h) * np.exp(-dG/(R*T))\n",
    "\n",
    "eyring(10.015444 *  4186.798188)\n"
   ]
  },
  {
   "cell_type": "code",
   "execution_count": 220,
   "metadata": {},
   "outputs": [
    {
     "data": {
      "text/plain": [
       "0.10522309956785651"
      ]
     },
     "execution_count": 220,
     "metadata": {},
     "output_type": "execute_result"
    }
   ],
   "source": [
    "eyring(17.7 * 4186.798188)"
   ]
  },
  {
   "cell_type": "code",
   "execution_count": 218,
   "metadata": {},
   "outputs": [
    {
     "data": {
      "text/plain": [
       "455418.7780017808"
      ]
     },
     "execution_count": 218,
     "metadata": {},
     "output_type": "execute_result"
    }
   ],
   "source": [
    "eyring(10.015444 * 4186.798188)/eyring(17.7 * 4186.798188)"
   ]
  },
  {
   "cell_type": "code",
   "execution_count": null,
   "metadata": {},
   "outputs": [],
   "source": []
  }
 ],
 "metadata": {
  "kernelspec": {
   "display_name": "Python 3",
   "language": "python",
   "name": "python3"
  },
  "language_info": {
   "codemirror_mode": {
    "name": "ipython",
    "version": 3
   },
   "file_extension": ".py",
   "mimetype": "text/x-python",
   "name": "python",
   "nbconvert_exporter": "python",
   "pygments_lexer": "ipython3",
   "version": "3.7.9"
  }
 },
 "nbformat": 4,
 "nbformat_minor": 4
}
