{
 "cells": [
  {
   "cell_type": "code",
   "execution_count": 8,
   "metadata": {},
   "outputs": [],
   "source": [
    "import os, sys\n",
    "import glob\n",
    "\n",
    "os.chdir('Orca_Calculations/')"
   ]
  },
  {
   "cell_type": "code",
   "execution_count": 11,
   "metadata": {},
   "outputs": [
    {
     "data": {
      "text/plain": [
       "['Step4/[Cl_CH3_Br]-.inp',\n",
       " 'Step3/Cl-_CH3Br.inp',\n",
       " 'Step2/Cl-_CH3Br.inp',\n",
       " 'Step2/CH3Cl_Br-.inp',\n",
       " 'Step5/Br-.inp',\n",
       " 'Step5/Cl-.inp',\n",
       " 'Step5/Cl-_CH3Br.inp',\n",
       " 'Step5/CH3Br.inp',\n",
       " 'Step5/[Cl_CH3_Br]-.inp',\n",
       " 'Step5/CH3Cl_Br-.inp',\n",
       " 'Step5/CH3Cl.inp',\n",
       " 'Step6/Cl-_CH3Br.inp',\n",
       " 'Step6/[Cl_CH3_Br]-.inp',\n",
       " 'Step6/CH3Cl_Br-.inp',\n",
       " 'Step1/Br-.inp',\n",
       " 'Step1/Cl-.inp',\n",
       " 'Step1/CH3Br.inp',\n",
       " 'Step1/CH3Cl.inp']"
      ]
     },
     "execution_count": 11,
     "metadata": {},
     "output_type": "execute_result"
    }
   ],
   "source": [
    "all_inputs = glob.glob('**/*.inp')\n",
    "all_inputs"
   ]
  },
  {
   "cell_type": "code",
   "execution_count": 14,
   "metadata": {},
   "outputs": [],
   "source": [
    "for inp_filename in all_inputs:\n",
    "    with open(inp_filename, 'r') as inp_file:\n",
    "        contents = inp_file.read()\n",
    "        \n",
    "    new_contents = contents.replace('\\\\', '/')\n",
    "    \n",
    "    with open(inp_filename, 'w') as inp_file:\n",
    "        inp_file.write(new_contents)"
   ]
  },
  {
   "cell_type": "code",
   "execution_count": null,
   "metadata": {},
   "outputs": [],
   "source": []
  }
 ],
 "metadata": {
  "kernelspec": {
   "display_name": "Python 3",
   "language": "python",
   "name": "python3"
  },
  "language_info": {
   "codemirror_mode": {
    "name": "ipython",
    "version": 3
   },
   "file_extension": ".py",
   "mimetype": "text/x-python",
   "name": "python",
   "nbconvert_exporter": "python",
   "pygments_lexer": "ipython3",
   "version": "3.7.9"
  }
 },
 "nbformat": 4,
 "nbformat_minor": 4
}