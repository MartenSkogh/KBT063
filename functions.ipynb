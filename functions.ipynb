{
 "cells": [
  {
   "cell_type": "code",
   "execution_count": 9,
   "metadata": {},
   "outputs": [
    {
     "data": {
      "text/plain": [
       "monte_carlo_integral (generic function with 2 methods)"
      ]
     },
     "execution_count": 9,
     "metadata": {},
     "output_type": "execute_result"
    }
   ],
   "source": [
    "function monte_carlo_integral(f, x_min::Array{<:Number,1}, x_max::Array{<:Number,1}, N::Real, f_min::Number, f_max::Number)\n",
    "    total_area = prod(x_max .- x_min) * (f_max - f_min)\n",
    "    points_inside = 0\n",
    "    for n=1:N\n",
    "        x = rand(length(x_min)) .* (x_max .- x_min) .- x_min \n",
    "        y = rand() * (f_max - f_min) - f_min\n",
    "        points_inside += 0 < y <= f(x) ? 1 : 0\n",
    "        points_inside -= 0 > y >= f(x) ? 1 : 0\n",
    "    end\n",
    "    return points_inside / N * total_area\n",
    "end\n",
    "\n",
    "function monte_carlo_integral(f, x_min::Number, x_max::Number, N::Real, f_min::Number, f_max::Number)\n",
    "    total_area = prod(x_max .- x_min) * (f_max - f_min)\n",
    "    points_inside = 0\n",
    "    for n=1:N\n",
    "        x = rand() * (x_max - x_min) + x_min \n",
    "        y = rand() * (f_max - f_min) + f_min\n",
    "        points_inside += 0 < y <= f(x) ? 1 : 0\n",
    "        points_inside -= 0 > y >= f(x) ? 1 : 0\n",
    "    end\n",
    "    return points_inside / N * total_area\n",
    "end"
   ]
  },
  {
   "cell_type": "code",
   "execution_count": 11,
   "metadata": {},
   "outputs": [
    {
     "data": {
      "text/plain": [
       "1.77258849"
      ]
     },
     "execution_count": 11,
     "metadata": {},
     "output_type": "execute_result"
    }
   ],
   "source": [
    "monte_carlo_integral(g, -5, 5, 1e7, 0, 1)"
   ]
  }
 ],
 "metadata": {
  "kernelspec": {
   "display_name": "Julia 1.5.2",
   "language": "julia",
   "name": "julia-1.5"
  },
  "language_info": {
   "file_extension": ".jl",
   "mimetype": "application/julia",
   "name": "julia",
   "version": "1.5.2"
  }
 },
 "nbformat": 4,
 "nbformat_minor": 4
}
