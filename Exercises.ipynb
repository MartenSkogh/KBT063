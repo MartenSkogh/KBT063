{
 "cells": [
  {
   "cell_type": "code",
   "execution_count": 19,
   "metadata": {},
   "outputs": [],
   "source": [
    "using Plots\n",
    "using LinearAlgebra\n",
    "using SpecialFunctions"
   ]
  },
  {
   "cell_type": "code",
   "execution_count": 20,
   "metadata": {},
   "outputs": [
    {
     "data": {
      "text/plain": [
       "exchange_integral (generic function with 2 methods)"
      ]
     },
     "execution_count": 20,
     "metadata": {},
     "output_type": "execute_result"
    }
   ],
   "source": [
    "#exponents = [3.425250914, 0.6239137298, 0.1688554040]\n",
    "\n",
    "\n",
    "# Helpful structs\n",
    "struct Gaussian\n",
    "    exponent::Number\n",
    "    center::AbstractArray{<:Number, 1}\n",
    "end\n",
    "\n",
    "\n",
    "struct Atom\n",
    "    charge::Number\n",
    "    position::AbstractArray{<:Number, 1}\n",
    "end\n",
    "\n",
    "\n",
    "struct HFObject\n",
    "    C::AbstractArray{<:Number,2}\n",
    "    P::AbstractArray{<:Number,2}\n",
    "    H::AbstractArray{<:Number,2}\n",
    "    F::AbstractArray{<:Number,2}\n",
    "end\n",
    "#############\n",
    "\n",
    "# Integral functions\n",
    "function overlap_integral(A::T, B::T) where T<:Gaussian\n",
    "    α = A.exponent\n",
    "    β = B.exponent\n",
    "    R_A = A.center\n",
    "    R_B = B.center\n",
    "    \n",
    "    return (4*α*β / (α + β) ^ 2) ^ (3/4) * exp(-α*β / (α + β) * norm(R_A - R_B)^2)\n",
    "end\n",
    "\n",
    "function overlap_integral(arr::Tuple{T, T}) where T <: Gaussian\n",
    "    return overlap_integral(arr[1], arr[2])\n",
    "end\n",
    "\n",
    "\n",
    "function kinetic_integral(A::T, B::T) where T<:Gaussian\n",
    "    α = A.exponent\n",
    "    β = B.exponent\n",
    "    R_A = A.center\n",
    "    R_B = B.center\n",
    "    \n",
    "    a = α * β / (α + β)\n",
    "    \n",
    "    return overlap_integral(A, B) * a * (3 - 2 * a * norm(R_A - R_B)^2)\n",
    "end\n",
    "\n",
    "function kinetic_integral(arr::Tuple{T, T}) where T <: Gaussian\n",
    "    return kinetic_integral(arr[1], arr[2])\n",
    "end\n",
    "\n",
    "\n",
    "function core_potential_integral(A::T, B::T, C::Atom) where T<:Gaussian\n",
    "    α = A.exponent\n",
    "    β = B.exponent\n",
    "    R_A = A.center\n",
    "    R_B = B.center\n",
    "    R_C = C.position\n",
    "    Z = C.charge\n",
    "        \n",
    "    b = sqrt(α + β)\n",
    "    \n",
    "    R_P = (α * R_A + β * R_B) / (α + β)\n",
    "    \n",
    "    if R_P == R_C\n",
    "        return -overlap_integral(A, B) * Z * 2 * b / sqrt(π)\n",
    "    else\n",
    "        return -overlap_integral(A, B) * Z / norm(R_P - R_C) * erf(b * norm(R_P - R_C))\n",
    "    end\n",
    "end\n",
    "\n",
    "function core_potential_integral(A::T, B::T, atoms::AbstractArray{Atom,1}) where T<:Gaussian\n",
    "    return sum(core_potential_integral(A, B, a) for a in atoms)\n",
    "end\n",
    "\n",
    "function core_potential_integral(arr::Tuple{T, T}, atoms::AbstractArray{Atom,1}) where T<:Gaussian\n",
    "    return core_potential_integral(arr[1], arr[2], atoms)\n",
    "end\n",
    "\n",
    "\n",
    "function electron_electron_potential(A::T, B::T, C::T, D::T) where T<:Gaussian\n",
    "    α = A.exponent\n",
    "    β = B.exponent\n",
    "    γ = C.exponent\n",
    "    δ = D.exponent\n",
    "    \n",
    "    R_A = A.center\n",
    "    R_B = B.center\n",
    "    R_C = C.center\n",
    "    R_D = D.center\n",
    "    \n",
    "    R_P = (α * R_A + β * R_B) / (α + β)\n",
    "    R_Q = (γ * R_C + δ * R_D) / (γ + δ)\n",
    "    \n",
    "    c = sqrt((α + β) * (γ + δ) / (α + β + γ + δ))\n",
    "    \n",
    "    if R_P == R_Q \n",
    "        return overlap_integral(A, B) * overlap_integral(C, D) * 2 * c / sqrt(π)\n",
    "    else\n",
    "        return overlap_integral(A, B) * overlap_integral(C, D) / norm(R_P - R_Q) * erf(c * norm(R_P - R_Q))\n",
    "    end\n",
    "end\n",
    "\n",
    "function electron_electron_potential(arr::NTuple{4, Gaussian})\n",
    "    return electron_electron_potential(arr[1], arr[2], arr[3], arr[4])\n",
    "end\n",
    "\n",
    "\n",
    "function exchange_integral(A::T, B::T, C::T, D::T) where T<:Gaussian\n",
    "    return electron_electron_potential(A, C, B, D)\n",
    "end\n",
    "\n",
    "function exchange_integral(arr::NTuple{4, Gaussian})\n",
    "    return exchange_integral(arr[1], arr[2], arr[3], arr[4])\n",
    "end\n",
    "\n",
    "#################"
   ]
  },
  {
   "cell_type": "code",
   "execution_count": 33,
   "metadata": {},
   "outputs": [
    {
     "data": {
      "text/plain": [
       "read_mol_settings (generic function with 1 method)"
      ]
     },
     "execution_count": 33,
     "metadata": {},
     "output_type": "execute_result"
    }
   ],
   "source": [
    "# Reading molecular info from file\n",
    "\n",
    "\n",
    "function read_mol_settings(filename)\n",
    "    positions = []\n",
    "    exponents = []\n",
    "    \n",
    "    open(filename, \"r\") do mol_file\n",
    "        while !eof(mol_file)\n",
    "            line = readline(mol_file)\n",
    "            if line == \"COORDINATES:\"\n",
    "                while line != \"===\"\n",
    "                    line = readline(mol_file)\n",
    "                    if line == \"===\"\n",
    "                        break\n",
    "                    end\n",
    "                    push!(positions, map(x->parse(Float64, x), split(line))) \n",
    "                end\n",
    "            end\n",
    "            if line == \"EXPONENTS:\"\n",
    "                while line != \"===\"\n",
    "                    line = readline(mol_file)\n",
    "                    if line == \"===\"\n",
    "                        break\n",
    "                    end\n",
    "                    push!(exponents, tryparse(Float64, line)) \n",
    "                end\n",
    "            end\n",
    "            if line == \"ELECTRONS:\"\n",
    "                line = readline(mol_file)\n",
    "                global N = tryparse(Int64, line)\n",
    "            end\n",
    "        end\n",
    "    end\n",
    "\n",
    "    atoms = Array{Atom}(undef, length(positions))\n",
    "    gaussians = Array{Gaussian}(undef, length(positions) * length(exponents))\n",
    "\n",
    "    n = 1\n",
    "    for e in exponents\n",
    "        for p in positions\n",
    "            if n <= length(positions)\n",
    "                atoms[n] = Atom(1, p)\n",
    "            end\n",
    "            gaussians[n] = Gaussian(e, p)\n",
    "            n += 1\n",
    "        end\n",
    "    end\n",
    "    return atoms, gaussians\n",
    "end"
   ]
  },
  {
   "cell_type": "code",
   "execution_count": 34,
   "metadata": {},
   "outputs": [
    {
     "data": {
      "text/plain": [
       "4"
      ]
     },
     "execution_count": 34,
     "metadata": {},
     "output_type": "execute_result"
    }
   ],
   "source": [
    "atoms, gaussians = read_mol_settings(\"H2.txt\")\n",
    "K = length(gaussians)"
   ]
  },
  {
   "cell_type": "code",
   "execution_count": 35,
   "metadata": {},
   "outputs": [
    {
     "data": {
      "text/plain": [
       "total_energy (generic function with 1 method)"
      ]
     },
     "execution_count": 35,
     "metadata": {},
     "output_type": "execute_result"
    }
   ],
   "source": [
    "function fock_matrix(P)\n",
    "    one_body = Iterators.product(gaussians, gaussians)\n",
    "    S = map(x->overlap_integral(x), one_body)\n",
    "    T = map(x->kinetic_integral(x), one_body)\n",
    "    V = map(x->core_potential_integral(x, atoms), one_body)\n",
    "\n",
    "    H = T + V\n",
    "\n",
    "    two_body = Iterators.product(gaussians, gaussians, gaussians, gaussians)\n",
    "    M0 = map(x->electron_electron_potential(x), two_body)\n",
    "    M1 = map(x->exchange_integral(x), two_body)\n",
    "    M = M0 - 1/2 * M1\n",
    "\n",
    "    M_reshaped = reshape(M, K^2, K^2) # have to reshape for multiplication\n",
    "    G = reshape(M_reshaped * P[:], K, K)\n",
    "    F = H + G\n",
    "    \n",
    "    return F\n",
    "end\n",
    "\n",
    "function electron_energy(P)\n",
    "    one_body = Iterators.product(gaussians, gaussians)\n",
    "    S = map(x->overlap_integral(x), one_body)\n",
    "    T = map(x->kinetic_integral(x), one_body)\n",
    "    V = map(x->core_potential_integral(x, atoms), one_body)\n",
    "\n",
    "    H = T + V\n",
    "\n",
    "    two_body = Iterators.product(gaussians, gaussians, gaussians, gaussians)\n",
    "    M0 = map(x->electron_electron_potential(x), two_body)\n",
    "    M1 = map(x->exchange_integral(x), two_body)\n",
    "    M = M0 - 1/2 * M1\n",
    "\n",
    "    M_reshaped = reshape(M, K^2, K^2) # have to reshape for multiplication\n",
    "    G = reshape(M_reshaped * P[:], K, K)\n",
    "    F = H + G\n",
    "\n",
    "    E = 1/2 * sum(P .* (H + F))\n",
    "    \n",
    "    return E\n",
    "end\n",
    "\n",
    "function nuclear_repulsion_energy(A::Atom, B::Atom)\n",
    "    E = A.charge * B.charge / norm(A.position - B.position)\n",
    "    return E\n",
    "end\n",
    "\n",
    "function nuclear_repulsion_energy(atoms::AbstractArray{Atom})\n",
    "    E = 0\n",
    "    for (i, a1) in enumerate(atoms[1:end-1])\n",
    "        for a2 in atoms[i+1:end]\n",
    "            E += nuclear_repulsion_energy(a1, a2)\n",
    "        end\n",
    "    end\n",
    "    \n",
    "    return E\n",
    "end\n",
    "\n",
    "function total_energy(P)\n",
    "    E_tot = electron_energy(P) + nuclear_repulsion_energy(atoms)\n",
    "    return E_tot\n",
    "end"
   ]
  },
  {
   "cell_type": "code",
   "execution_count": 36,
   "metadata": {},
   "outputs": [
    {
     "data": {
      "text/plain": [
       "converge_hf (generic function with 2 methods)"
      ]
     },
     "execution_count": 36,
     "metadata": {},
     "output_type": "execute_result"
    }
   ],
   "source": [
    "# Assemble matrices\n",
    "\n",
    "function hf_step(P)\n",
    "\n",
    "    one_body = Iterators.product(gaussians, gaussians)\n",
    "    S = map(x->overlap_integral(x), one_body)\n",
    "    T = map(x->kinetic_integral(x), one_body)\n",
    "    V = map(x->core_potential_integral(x, atoms), one_body)\n",
    "\n",
    "    H = T + V\n",
    "\n",
    "    two_body = Iterators.product(gaussians, gaussians, gaussians, gaussians)\n",
    "    M0 = map(x->electron_electron_potential(x), two_body)\n",
    "    M1 = map(x->exchange_integral(x), two_body)\n",
    "    M = M0 - 1/2 * M1\n",
    "\n",
    "    M_reshaped = reshape(M, K^2, K^2) # have to reshape for multiplication\n",
    "    G = reshape(M_reshaped * P[:], K, K)\n",
    "    F = H + G\n",
    "\n",
    "    X = S^(-1/2)\n",
    "    F_dash = Symmetric(X * F * X)\n",
    "\n",
    "    eigen_obj = eigen(F_dash)\n",
    "\n",
    "    E, B = eigen_obj # These are sorted by default\n",
    "    C = X * B\n",
    "    \n",
    "    P_new = 2 * C[:, 1:N ÷ 2] * C[:, 1:N ÷ 2]'\n",
    "    return HFObject(C,P_new,H,F)\n",
    "end\n",
    "\n",
    "\n",
    "function converge_hf(tol::Number=1e-6)\n",
    "    P_old = Matrix(I,K,K)\n",
    "    diff = Inf\n",
    "    hf_return = undef\n",
    "    iterations = 0\n",
    "    while diff > tol\n",
    "        iterations += 1\n",
    "        hf_return = hf_step(P_old)\n",
    "        global P_new = hf_return.P\n",
    "        diff = norm(P_new - P_old)\n",
    "        P_old = P_new\n",
    "    end\n",
    "    println(\"Converged after $iterations iterations\")\n",
    "    return hf_return\n",
    "end"
   ]
  },
  {
   "cell_type": "code",
   "execution_count": 37,
   "metadata": {},
   "outputs": [
    {
     "name": "stdout",
     "output_type": "stream",
     "text": [
      "Converged after 16 iterations\n"
     ]
    },
    {
     "data": {
      "text/plain": [
       "4×4 Array{Float64,2}:\n",
       " -0.39309    1.46452    -0.595576   1.04801 \n",
       " -0.39309   -1.46452    -0.595576  -1.04801 \n",
       " -0.209723   0.0840984   0.821362  -0.957419\n",
       " -0.209723  -0.0840984   0.821362   0.957419"
      ]
     },
     "execution_count": 37,
     "metadata": {},
     "output_type": "execute_result"
    }
   ],
   "source": [
    "final_hf_object = converge_hf(1e-12)\n",
    "final_hf_object.C"
   ]
  },
  {
   "cell_type": "code",
   "execution_count": 38,
   "metadata": {},
   "outputs": [
    {
     "data": {
      "text/plain": [
       "-1.0966398387448086"
      ]
     },
     "execution_count": 38,
     "metadata": {},
     "output_type": "execute_result"
    }
   ],
   "source": [
    "total_energy(final_hf_object.P)"
   ]
  },
  {
   "cell_type": "code",
   "execution_count": 27,
   "metadata": {},
   "outputs": [
    {
     "name": "stdout",
     "output_type": "stream",
     "text": [
      "Core potential integrals\n",
      "-2.1264644329454763 -1.69796857792814 -2.1225030258440563 -1.2148704674323794 "
     ]
    },
    {
     "ename": "UndefRefError",
     "evalue": "UndefRefError: access to undefined reference",
     "output_type": "error",
     "traceback": [
      "UndefRefError: access to undefined reference",
      "",
      "Stacktrace:",
      " [1] getindex at ./array.jl:731 [inlined]",
      " [2] iterate(::Array{Gaussian,1}, ::Int64) at ./array.jl:707",
      " [3] top-level scope at In[27]:5"
     ]
    }
   ],
   "source": [
    "println(\"Core potential integrals\")\n",
    "for g1 in gaussians\n",
    "    for g2 in gaussians\n",
    "        V = sum(core_potential_integral(g1, g2, a) for a in atoms)\n",
    "        print(V, \" \")\n",
    "    end\n",
    "    println()\n",
    "end\n",
    "\n",
    "println(\"\\nKinetic integrals\")\n",
    "for g1 in gaussians\n",
    "    for g2 in gaussians\n",
    "        T = kinetic_integral(g1, g2)\n",
    "        print(T, \" \")\n",
    "    end\n",
    "end\n",
    "\n",
    "println(\"\\nElectron-electron integrals\")\n",
    "for (i, g1) in enumerate(gaussians)\n",
    "    for (j, g2) in enumerate(gaussians)\n",
    "        for (k, g3) in enumerate(gaussians)\n",
    "            for (l, g4) in enumerate(gaussians)\n",
    "                M0 = electron_electron_potential(g1, g2, g3, g4)\n",
    "                M1 = exchange_integral(g1, g2, g3, g4)\n",
    "                println(\"($(i)$(j)|$(k)$(l)) \", M0 - 1/2 * M1, \" \")\n",
    "            end\n",
    "        end\n",
    "    end\n",
    "end"
   ]
  }
 ],
 "metadata": {
  "kernelspec": {
   "display_name": "Julia 1.0.5",
   "language": "julia",
   "name": "julia-1.0"
  },
  "language_info": {
   "file_extension": ".jl",
   "mimetype": "application/julia",
   "name": "julia",
   "version": "1.0.5"
  }
 },
 "nbformat": 4,
 "nbformat_minor": 4
}
